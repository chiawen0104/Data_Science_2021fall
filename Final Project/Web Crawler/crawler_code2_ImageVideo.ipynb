{
 "cells": [
  {
   "cell_type": "markdown",
   "id": "c98e5790-4da9-418a-8b47-1ffa3572fecd",
   "metadata": {},
   "source": [
    "# 爬蟲code_2"
   ]
  },
  {
   "cell_type": "markdown",
   "id": "46080bd9-d179-4c0c-ac4c-082b185342aa",
   "metadata": {},
   "source": [
    "## 爬取每個專案的圖片與影片數量（image, video）"
   ]
  },
  {
   "cell_type": "code",
   "execution_count": null,
   "id": "84b3c8be-2aef-4e62-8a34-dfa9aee6fe8d",
   "metadata": {},
   "outputs": [],
   "source": [
    "# !pip3 install selenium\n",
    "import requests\n",
    "import json\n",
    "from bs4 import BeautifulSoup\n",
    "import time\n",
    "\n",
    "import csv\n",
    "import pandas as pd\n",
    "from selenium import webdriver\n",
    "from selenium.webdriver.common.keys import Keys\n",
    "from selenium.webdriver.support.ui import WebDriverWait  # for implicit and explict waits\n",
    "from selenium.webdriver.chrome.options import Options  # for suppressing the browser\n",
    "import time"
   ]
  },
  {
   "cell_type": "markdown",
   "id": "0bb7381f-efb6-4676-9a79-e92b1fb937a2",
   "metadata": {},
   "source": [
    "### Function：判斷專案是否為18禁"
   ]
  },
  {
   "cell_type": "code",
   "execution_count": null,
   "id": "26e5327e-f6a3-49f7-a33c-bc9990ce10c7",
   "metadata": {},
   "outputs": [],
   "source": [
    "# function: 判斷該專案是否為18禁\n",
    "def if_R18(url):\n",
    "    res = requests.get(url, headers = headers)\n",
    "    soup = BeautifulSoup(res.text, 'html.parser')\n",
    "    try:\n",
    "        R18_warn = soup.find(class_='red b').text\n",
    "        return True\n",
    "    except AttributeError:\n",
    "        return False"
   ]
  },
  {
   "cell_type": "markdown",
   "id": "7733fe6e-d5a3-4f0f-91ef-fb066db7cc4a",
   "metadata": {},
   "source": [
    "### 1. 爬預購式專案圖片和影片數"
   ]
  },
  {
   "cell_type": "code",
   "execution_count": null,
   "id": "c3098b75-fa24-4616-9be1-271e0a52bd92",
   "metadata": {},
   "outputs": [],
   "source": [
    "user = \"Mozilla/5.0 (Macintosh; Intel Mac OS X 10_15_7) AppleWebKit/537.36 (KHTML, like Gecko) Chrome/95.0.4638.69 Safari/537.36\"\n",
    "headers = {\n",
    "    'User-Agent': user\n",
    "}\n",
    "\n",
    "with open('all_projects_info_預購式專案.csv', newline='') as csvinput:\n",
    "    with open('all_projects_info_預購式專案_1.csv', 'w') as csvoutput:\n",
    "        writer = csv.writer(csvoutput, lineterminator='\\n')\n",
    "        reader = csv.reader(csvinput)\n",
    "    \n",
    "        all = []\n",
    "        row = next(reader)\n",
    "        row.append('image')\n",
    "        row.append('video')\n",
    "        all.append(row)\n",
    "        \n",
    "        \n",
    "        for row in reader:\n",
    "            url = row[-1]\n",
    "            \n",
    "            option = webdriver.ChromeOptions()\n",
    "            option.add_argument('headless')\n",
    "            driver = webdriver.Chrome(\"/Users/eva_shao/Documents/110-1/資料科學與社會研究/program/code/1219/chromedriver\", options=option)\n",
    "            driver.get(url)\n",
    "\n",
    "            if if_R18(url) == True:\n",
    "                # 定位18禁button\n",
    "                button = driver.find_element_by_css_selector(\".button_to\")\n",
    "                button.click()\n",
    "            else:\n",
    "                pass\n",
    "\n",
    "            # 開始爬資料\n",
    "            results_image = driver.find_elements_by_tag_name('img')\n",
    "            results_video = driver.find_elements_by_tag_name('iframe')\n",
    "            num_image = len(results_image)\n",
    "            num_video = len(results_video)\n",
    "\n",
    "\n",
    "            row.append(num_image)\n",
    "            row.append(num_video)\n",
    "            all.append(row)\n",
    "            driver.close()\n",
    "            \n",
    "        writer.writerows(all)\n",
    "            \n",
    "   "
   ]
  },
  {
   "cell_type": "markdown",
   "id": "87a45b73-dab3-4f44-9da6-2dc61178c6ca",
   "metadata": {},
   "source": [
    "### 2. 爬群眾集資圖片和影片數"
   ]
  },
  {
   "cell_type": "code",
   "execution_count": null,
   "id": "76795954-0423-4b55-8b13-b026161c7c38",
   "metadata": {},
   "outputs": [],
   "source": [
    "user = \"Mozilla/5.0 (Macintosh; Intel Mac OS X 10_15_7) AppleWebKit/537.36 (KHTML, like Gecko) Chrome/95.0.4638.69 Safari/537.36\"\n",
    "headers = {\n",
    "    'User-Agent': user\n",
    "}\n",
    "\n",
    "with open('all_projects_info_群眾集資.csv', newline='') as csvinput:\n",
    "    with open('all_projects_info_群眾集資_1.csv', 'w') as csvoutput:\n",
    "        writer = csv.writer(csvoutput, lineterminator='\\n')\n",
    "        reader = csv.reader(csvinput)\n",
    "    \n",
    "        all = []\n",
    "        row = next(reader)\n",
    "        row.append('image')\n",
    "        row.append('video')\n",
    "        all.append(row)\n",
    "        \n",
    "        for row in reader:\n",
    "            url = row[-1]\n",
    "\n",
    "            res = requests.get(url, headers = headers)\n",
    "            soup = BeautifulSoup(res.text, 'html.parser')\n",
    "\n",
    "            if if_R18(url) == True:\n",
    "                option = webdriver.ChromeOptions()\n",
    "                option.add_argument('headless')\n",
    "                driver = webdriver.Chrome(\"/Users/eva_shao/Documents/110-1/資料科學與社會研究/program/code/1219/chromedriver\", options=option)\n",
    "                driver.get(url)\n",
    "\n",
    "                # 定位18禁button\n",
    "                button = driver.find_element_by_css_selector(\".button_to\")\n",
    "                button.click()\n",
    "\n",
    "                # 開始爬資料\n",
    "                results_image = driver.find_elements_by_tag_name('img')\n",
    "                results_video = driver.find_elements_by_tag_name('iframe')\n",
    "                num_image = len(results_image)\n",
    "                num_video = len(results_video)\n",
    "                driver.close()\n",
    "\n",
    "                # num_image ='N/A'\n",
    "                # num_video = 'N/A'\n",
    "            else:\n",
    "                # 圖片數量\n",
    "                num_image = len(soup.findAll('img'))\n",
    "                # 影片數量\n",
    "                num_video = len(soup.findAll('iframe'))\n",
    "\n",
    "            # print(num_image)\n",
    "            # print(num_video)\n",
    "            \n",
    "            row.append(num_image)\n",
    "            row.append(num_video)\n",
    "            all.append(row)\n",
    "            \n",
    "        writer.writerows(all)"
   ]
  }
 ],
 "metadata": {
  "kernelspec": {
   "display_name": "Python 3 (ipykernel)",
   "language": "python",
   "name": "python3"
  },
  "language_info": {
   "codemirror_mode": {
    "name": "ipython",
    "version": 3
   },
   "file_extension": ".py",
   "mimetype": "text/x-python",
   "name": "python",
   "nbconvert_exporter": "python",
   "pygments_lexer": "ipython3",
   "version": "3.8.8"
  }
 },
 "nbformat": 4,
 "nbformat_minor": 5
}
