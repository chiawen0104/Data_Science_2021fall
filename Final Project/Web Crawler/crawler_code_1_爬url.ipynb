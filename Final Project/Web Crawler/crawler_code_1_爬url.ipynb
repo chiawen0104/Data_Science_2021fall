{
 "cells": [
  {
   "cell_type": "markdown",
   "id": "4f8dbb42-621c-49b6-b227-7a742b624649",
   "metadata": {},
   "source": [
    "# 爬蟲code_1"
   ]
  },
  {
   "cell_type": "markdown",
   "id": "2dbe092e-e568-4206-93dc-41d1b4c9455e",
   "metadata": {},
   "source": [
    "## 爬群眾集資、預購式專案連結"
   ]
  },
  {
   "cell_type": "code",
   "execution_count": null,
   "id": "e0e336b7-5069-46cc-8fb4-2dede01f6c61",
   "metadata": {},
   "outputs": [],
   "source": [
    "# Find how many pages we have on 嘖嘖\n",
    "# 群眾集資(type0)：https://www.zeczec.com/categories?type=0\n",
    "# 預購式專案(type1)：https://www.zeczec.com/categories?type=1\n",
    "\n",
    "import requests\n",
    "import json\n",
    "\n",
    "user = \"Mozilla/5.0 (Macintosh; Intel Mac OS X 10_15_7) AppleWebKit/537.36 (KHTML, like Gecko) Chrome/95.0.4638.69 Safari/537.36\"\n",
    "headers = {\n",
    "    'User-Agent': user\n",
    "}"
   ]
  },
  {
   "cell_type": "markdown",
   "id": "b00b411a-f25b-4545-9910-217249a86f7d",
   "metadata": {},
   "source": [
    "### 群眾集資（type0）"
   ]
  },
  {
   "cell_type": "markdown",
   "id": "5182419f-899c-4cd6-9b42-0fe4ca74087c",
   "metadata": {},
   "source": [
    "#### 蒐集每頁連結"
   ]
  },
  {
   "cell_type": "code",
   "execution_count": null,
   "id": "95cd6086-077f-4b37-b556-70f7851e95c0",
   "metadata": {},
   "outputs": [],
   "source": [
    "# Find how many pages we have on 嘖嘖 - 群眾集資\n",
    "# 群眾集資(type0)：https://www.zeczec.com/categories?type=0\n",
    "first_page_type0 = \"https://www.zeczec.com/categories?page=1&type=0\" # 群眾集資(type0)第一頁\n",
    "res_type0 = requests.get(first_page_type0, headers = headers)\n",
    "from bs4 import BeautifulSoup\n",
    "soup_type0 = BeautifulSoup(res_type0.text, 'html.parser')\n",
    "last_page_type0 = int(soup_type0.find_all(class_='button button-s dn dib-ns')[-1].text) # 群眾集資(type0)最後一頁"
   ]
  },
  {
   "cell_type": "code",
   "execution_count": null,
   "id": "af5bf47b-85e3-41f3-8ce8-65013289aae6",
   "metadata": {},
   "outputs": [],
   "source": [
    "#add all page links to a list\n",
    "all_link_type0 = []\n",
    "for page in range(1,last_page_type0): # 402 pages\n",
    "    url_zeze = \"https://www.zeczec.com/categories?page=\"+str(page)+\"&type=0\"\n",
    "    all_link_type0.append(url_zeze)\n",
    "  \n",
    "print(all_link_type0)"
   ]
  },
  {
   "cell_type": "markdown",
   "id": "61f87145-7bf0-4bd0-824b-a041f38fcace",
   "metadata": {},
   "source": [
    "#### 蒐集每個專案的資料（time, title, money, author, category, url）"
   ]
  },
  {
   "cell_type": "code",
   "execution_count": null,
   "id": "3133e01f-b4d5-4b71-aa3f-82ffd36fad72",
   "metadata": {},
   "outputs": [],
   "source": [
    "# 存放群眾集資\n",
    "pj_time = []\n",
    "pj_title = []\n",
    "pj_money = []\n",
    "pj_author = []\n",
    "pj_category = []\n",
    "pj_url = []\n",
    "\n",
    "all_pj = []\n",
    "\n",
    "\n",
    "num = 0\n",
    "for url in all_link_type0:\n",
    "    res = requests.get(url, headers = headers)\n",
    "\n",
    "    #print(res.status_code)\n",
    "    from bs4 import BeautifulSoup\n",
    "    soup = BeautifulSoup(res.text, 'html.parser')\n",
    "    \n",
    "    #Number of projects\n",
    "    for title in soup.find_all(class_='mt3 mb0 b'):\n",
    "        num += 1\n",
    "\n",
    "    #create lists for all variables, distinguished by event ended or not\n",
    "    for result in soup.find_all(class_='w-100 w-25-l mb4 w-50-m'):\n",
    "\n",
    "        title = result.find(class_='mt3 mb0 b').text\n",
    "        #print(title)\n",
    "\n",
    "        money_0 = result.find(class_='fr b')\n",
    "        money = (money_0.text.replace(\"\\n\",\"\")).replace(\"NT$\",\"\")\n",
    "        #print(money)\n",
    "\n",
    "        category = result.find(class_='f7').text[1:5].replace(\"B\",\"\").replace(\" \",\"\")\n",
    "        #print(category)\n",
    "        author = result.find(class_='f7').a.text\n",
    "        #print(author)\n",
    "\n",
    "        url_0 = result.find(class_='black project gray mh3 mb3 pb4 relative h-100').a['href']\n",
    "        url = \"https://www.zeczec.com\"+url_0\n",
    "        #print(url)\n",
    "\n",
    "        t = result.find(class_='w-100 absolute bottom-0 mb3 black').find(class_='f7').text\n",
    "        if \"成功\" in t: \n",
    "            time = 'success'\n",
    "        elif \"失敗\" in t: \n",
    "            time = 'failure'\n",
    "        elif \"即將\" in t:\n",
    "            time = \"soon\"\n",
    "        else:\n",
    "            index = t.find('剩') #find index of '剩' in text (ongoing)\n",
    "            # print(index)\n",
    "            if index < 0:\n",
    "                continue\n",
    "            else :\n",
    "                time = (t[index+3:index+8].replace(\" \",\"\")).replace(\"\\n\",\"\")\n",
    "        #print(time)\n",
    "\n",
    "        \n",
    "        pj_time.append(time)\n",
    "        pj_title.append(title)\n",
    "        pj_money.append(money)\n",
    "        pj_author.append(author)\n",
    "        pj_category.append(category)\n",
    "        pj_url.append(url)\n",
    "\n",
    "\n",
    "\n",
    "num_pj = len(pj_title)\n",
    "print(num_pj)\n",
    "\n",
    "for i in range(0, num_pj):\n",
    "    all_pj.append({'title':pj_title[i], 'author':pj_author[i], 'category':pj_category[i], 'money':pj_money[i],'time_left':pj_time[i], 'url':pj_url[i]})\n",
    "\n",
    "\n",
    "print(num)\n",
    "print(all_pj)"
   ]
  },
  {
   "cell_type": "markdown",
   "id": "0e7ad693-8f90-4367-9b49-7f4b0c3949bb",
   "metadata": {},
   "source": [
    "#### 存檔"
   ]
  },
  {
   "cell_type": "code",
   "execution_count": null,
   "id": "3603e49f-7b10-4209-83c1-d988a2838287",
   "metadata": {},
   "outputs": [],
   "source": [
    "# Save all data from pandas to a csv file\n",
    "import pandas as pd\n",
    "df1 = pd.DataFrame(all_pj)\n",
    "df1.to_csv('all_projects_info_群眾集資.csv', sep=',', encoding='utf-8')"
   ]
  },
  {
   "cell_type": "markdown",
   "id": "a9f4c01c-75a6-4459-af6e-8cde2436088f",
   "metadata": {},
   "source": [
    "### 預購式專案（type1）"
   ]
  },
  {
   "cell_type": "markdown",
   "id": "d57b5824-dd91-40ed-af53-bd90abde0dd2",
   "metadata": {},
   "source": [
    "#### 蒐集每頁連結"
   ]
  },
  {
   "cell_type": "code",
   "execution_count": null,
   "id": "d23dec91-b213-49d4-be99-c1bc4b21db93",
   "metadata": {},
   "outputs": [],
   "source": [
    "first_page_type1 = \"https://www.zeczec.com/categories?page=1&type=0\" # 預購式專案(type1)第一頁\n",
    "res_type1 = requests.get(first_page_type1, headers = headers)\n",
    "\n",
    "from bs4 import BeautifulSoup\n",
    "soup_type1 = BeautifulSoup(res_type1.text, 'html.parser')\n",
    "\n",
    "last_page_type1 = int(soup_type1.find_all(class_='button button-s dn dib-ns')[-1].text) # 預購式專案(type1)最後一頁"
   ]
  },
  {
   "cell_type": "code",
   "execution_count": null,
   "id": "b4ec905f-6e56-408c-b4c6-ce222c21b3d2",
   "metadata": {},
   "outputs": [],
   "source": [
    "#add all page links to a list\n",
    "all_link_type1 = []\n",
    "for page in range(1,last_page_type1): # 402 pages\n",
    "    url_zeze = \"https://www.zeczec.com/categories?page=\"+str(page)+\"&type=1\"\n",
    "    all_link_type1.append(url_zeze)\n",
    "  \n",
    "print(all_link_type1)"
   ]
  },
  {
   "cell_type": "markdown",
   "id": "7c7d4849-c47d-4af9-8ce7-19f769f36456",
   "metadata": {},
   "source": [
    "#### 蒐集每個專案的資料（time, title, money, author, category, url）"
   ]
  },
  {
   "cell_type": "code",
   "execution_count": null,
   "id": "fbd068ee-3275-4cd7-a4da-6688f5d1d859",
   "metadata": {},
   "outputs": [],
   "source": [
    "# 存放預購式集資\n",
    "pj_time = []\n",
    "pj_title = []\n",
    "pj_money = []\n",
    "pj_author = []\n",
    "pj_category = []\n",
    "pj_url = []\n",
    "\n",
    "all_pj = []\n",
    "\n",
    "\n",
    "num = 0\n",
    "for url in all_link_type1:\n",
    "    res = requests.get(url, headers = headers)\n",
    "\n",
    "    #print(res.status_code)\n",
    "    from bs4 import BeautifulSoup\n",
    "    soup = BeautifulSoup(res.text, 'html.parser')\n",
    "    \n",
    "    #Number of projects\n",
    "    for title in soup.find_all(class_='mt3 mb0 b'):\n",
    "        num += 1\n",
    "        \n",
    "\n",
    "    #create lists for all variables, distinguished by event ended or not\n",
    "    for result in soup.find_all(class_='w-100 w-25-l mb4 w-50-m'):\n",
    "\n",
    "        title = result.find(class_='mt3 mb0 b').text\n",
    "        #print(title)\n",
    "\n",
    "        money_0 = result.find(class_='fr b')\n",
    "        money = (money_0.text.replace(\"\\n\",\"\")).replace(\"NT$\",\"\")\n",
    "        #print(money)\n",
    "\n",
    "        category = result.find(class_='f7').text[1:5].replace(\"B\",\"\").replace(\" \",\"\")\n",
    "        #print(category)\n",
    "        author = result.find(class_='f7').a.text\n",
    "        #print(author)\n",
    "\n",
    "        url_0 = result.find(class_='black project gray mh3 mb3 pb4 relative h-100').a['href']\n",
    "        url = \"https://www.zeczec.com\"+url_0\n",
    "        #print(url)\n",
    "\n",
    "        t = result.find(class_='w-100 absolute bottom-0 mb3 black').find(class_='f7').text\n",
    "        if \"成功\" in t: \n",
    "            time = 'success'\n",
    "        elif \"失敗\" in t: \n",
    "            time = 'failure'\n",
    "        elif \"即將\" in t:\n",
    "            time = \"soon\"\n",
    "        else:\n",
    "            index = t.find('剩') #find index of '剩' in text (ongoing)\n",
    "            # print(index)\n",
    "            if index < 0:\n",
    "                continue\n",
    "            else :\n",
    "                time = (t[index+3:index+8].replace(\" \",\"\")).replace(\"\\n\",\"\")\n",
    "        #print(time)\n",
    "\n",
    "        pj_time.append(time)\n",
    "        pj_title.append(title)\n",
    "        pj_money.append(money)\n",
    "        pj_author.append(author)\n",
    "        pj_category.append(category)\n",
    "        pj_url.append(url)\n",
    "\n",
    "\n",
    "\n",
    "num_pj = len(pj_title)\n",
    "print(num_pj)\n",
    "\n",
    "for i in range(0, num_pj):\n",
    "    all_pj.append({'title':pj_title[i], 'author':pj_author[i], 'category':pj_category[i], 'money':pj_money[i],'time_left':pj_time[i], 'url':pj_url[i]})\n",
    "\n",
    "\n",
    "print(num)\n",
    "print(all_pj)"
   ]
  },
  {
   "cell_type": "markdown",
   "id": "7b9f4bf9-a2a2-48cb-a259-f4c918c4403d",
   "metadata": {},
   "source": [
    "#### 存檔"
   ]
  },
  {
   "cell_type": "code",
   "execution_count": null,
   "id": "153f4e77-dd87-4196-b51f-7f63d0c19b67",
   "metadata": {},
   "outputs": [],
   "source": [
    "# Save all data from pandas to a csv file\n",
    "import pandas as pd\n",
    "df1 = pd.DataFrame(all_pj)\n",
    "df1.to_csv('all_projects_info_預購式專案.csv', sep=',', encoding='utf-8')"
   ]
  }
 ],
 "metadata": {
  "kernelspec": {
   "display_name": "Python 3 (ipykernel)",
   "language": "python",
   "name": "python3"
  },
  "language_info": {
   "codemirror_mode": {
    "name": "ipython",
    "version": 3
   },
   "file_extension": ".py",
   "mimetype": "text/x-python",
   "name": "python",
   "nbconvert_exporter": "python",
   "pygments_lexer": "ipython3",
   "version": "3.8.8"
  }
 },
 "nbformat": 4,
 "nbformat_minor": 5
}
