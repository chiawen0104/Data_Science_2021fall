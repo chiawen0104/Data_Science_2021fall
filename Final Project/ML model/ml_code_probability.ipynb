{
  "nbformat": 4,
  "nbformat_minor": 0,
  "metadata": {
    "colab": {
      "name": "資社期末專案_成功機率.ipynb",
      "provenance": [],
      "collapsed_sections": [
        "Rt338be92brm",
        "kwOIUALvt7Tx",
        "LSg4eulJvAEZ"
      ]
    },
    "kernelspec": {
      "name": "python3",
      "display_name": "Python 3"
    },
    "language_info": {
      "name": "python"
    }
  },
  "cells": [
    {
      "cell_type": "markdown",
      "source": [
        "### Read data"
      ],
      "metadata": {
        "id": "PD-lFuI_iySF"
      }
    },
    {
      "cell_type": "code",
      "source": [
        "import numpy as np\n",
        "import pandas as pd\n",
        "import csv\n",
        "data = []\n",
        "with open('balance_cleandata_1_3.csv',newline='') as csvfile:\n",
        "    rows = csv.reader(csvfile, delimiter=',')\n",
        "    for row in rows:\n",
        "        data.append(row)\n",
        "drop_list = ['預購專案','新春賀喜','空間','money'] #防止共線 #money則是用來當Y的\n",
        "df = pd.DataFrame(data[1:],columns=data[0])\n",
        "\n",
        "df = df.drop(drop_list,axis=1)\n",
        "print(df.shape)\n",
        "df"
      ],
      "metadata": {
        "colab": {
          "base_uri": "https://localhost:8080/",
          "height": 557
        },
        "id": "wB8y3IZTa7V3",
        "outputId": "05cdd2f1-576b-4aae-f8cb-09819d97c18a"
      },
      "execution_count": null,
      "outputs": [
        {
          "output_type": "stream",
          "name": "stdout",
          "text": [
            "(6820, 33)\n"
          ]
        },
        {
          "output_type": "execute_result",
          "data": {
            "text/html": [
              "\n",
              "  <div id=\"df-aa6844b6-5d15-41ef-813a-7c1884720e05\">\n",
              "    <div class=\"colab-df-container\">\n",
              "      <div>\n",
              "<style scoped>\n",
              "    .dataframe tbody tr th:only-of-type {\n",
              "        vertical-align: middle;\n",
              "    }\n",
              "\n",
              "    .dataframe tbody tr th {\n",
              "        vertical-align: top;\n",
              "    }\n",
              "\n",
              "    .dataframe thead th {\n",
              "        text-align: right;\n",
              "    }\n",
              "</style>\n",
              "<table border=\"1\" class=\"dataframe\">\n",
              "  <thead>\n",
              "    <tr style=\"text-align: right;\">\n",
              "      <th></th>\n",
              "      <th>群眾募資</th>\n",
              "      <th>音樂</th>\n",
              "      <th>攝影</th>\n",
              "      <th>出版</th>\n",
              "      <th>時尚</th>\n",
              "      <th>設計</th>\n",
              "      <th>表演</th>\n",
              "      <th>藝術</th>\n",
              "      <th>科技</th>\n",
              "      <th>教育</th>\n",
              "      <th>遊戲</th>\n",
              "      <th>飲食</th>\n",
              "      <th>社會</th>\n",
              "      <th>插畫漫畫</th>\n",
              "      <th>電影動畫</th>\n",
              "      <th>地方創生</th>\n",
              "      <th>挺好店</th>\n",
              "      <th>success</th>\n",
              "      <th>image</th>\n",
              "      <th>video</th>\n",
              "      <th>sponsor_num</th>\n",
              "      <th>target</th>\n",
              "      <th>duration</th>\n",
              "      <th>comment_num</th>\n",
              "      <th>QA_num</th>\n",
              "      <th>website</th>\n",
              "      <th>yt</th>\n",
              "      <th>fb</th>\n",
              "      <th>ig</th>\n",
              "      <th>set_num</th>\n",
              "      <th>set_price</th>\n",
              "      <th>time_expected</th>\n",
              "      <th>fb讚</th>\n",
              "    </tr>\n",
              "  </thead>\n",
              "  <tbody>\n",
              "    <tr>\n",
              "      <th>0</th>\n",
              "      <td>0</td>\n",
              "      <td>0</td>\n",
              "      <td>0</td>\n",
              "      <td>0</td>\n",
              "      <td>0</td>\n",
              "      <td>0</td>\n",
              "      <td>0</td>\n",
              "      <td>0</td>\n",
              "      <td>0</td>\n",
              "      <td>0</td>\n",
              "      <td>1</td>\n",
              "      <td>0</td>\n",
              "      <td>0</td>\n",
              "      <td>0</td>\n",
              "      <td>0</td>\n",
              "      <td>0</td>\n",
              "      <td>0</td>\n",
              "      <td>1</td>\n",
              "      <td>21</td>\n",
              "      <td>1</td>\n",
              "      <td>570</td>\n",
              "      <td>10000</td>\n",
              "      <td>16.499305555555555</td>\n",
              "      <td>26</td>\n",
              "      <td>8.0</td>\n",
              "      <td>0</td>\n",
              "      <td>0</td>\n",
              "      <td>0</td>\n",
              "      <td>0</td>\n",
              "      <td>3</td>\n",
              "      <td>1180</td>\n",
              "      <td>31.416666666666668</td>\n",
              "      <td>3814</td>\n",
              "    </tr>\n",
              "    <tr>\n",
              "      <th>1</th>\n",
              "      <td>0</td>\n",
              "      <td>0</td>\n",
              "      <td>0</td>\n",
              "      <td>0</td>\n",
              "      <td>0</td>\n",
              "      <td>1</td>\n",
              "      <td>0</td>\n",
              "      <td>0</td>\n",
              "      <td>0</td>\n",
              "      <td>0</td>\n",
              "      <td>0</td>\n",
              "      <td>0</td>\n",
              "      <td>0</td>\n",
              "      <td>0</td>\n",
              "      <td>0</td>\n",
              "      <td>0</td>\n",
              "      <td>0</td>\n",
              "      <td>1</td>\n",
              "      <td>46</td>\n",
              "      <td>2</td>\n",
              "      <td>201</td>\n",
              "      <td>150000</td>\n",
              "      <td>12.966666666666667</td>\n",
              "      <td>1</td>\n",
              "      <td>13.0</td>\n",
              "      <td>1</td>\n",
              "      <td>0</td>\n",
              "      <td>1</td>\n",
              "      <td>1</td>\n",
              "      <td>6</td>\n",
              "      <td>3680.0</td>\n",
              "      <td>125.25</td>\n",
              "      <td>0</td>\n",
              "    </tr>\n",
              "    <tr>\n",
              "      <th>2</th>\n",
              "      <td>0</td>\n",
              "      <td>0</td>\n",
              "      <td>0</td>\n",
              "      <td>0</td>\n",
              "      <td>1</td>\n",
              "      <td>0</td>\n",
              "      <td>0</td>\n",
              "      <td>0</td>\n",
              "      <td>0</td>\n",
              "      <td>0</td>\n",
              "      <td>0</td>\n",
              "      <td>0</td>\n",
              "      <td>0</td>\n",
              "      <td>0</td>\n",
              "      <td>0</td>\n",
              "      <td>0</td>\n",
              "      <td>0</td>\n",
              "      <td>1</td>\n",
              "      <td>33</td>\n",
              "      <td>0</td>\n",
              "      <td>1542</td>\n",
              "      <td>1500000</td>\n",
              "      <td>7.5</td>\n",
              "      <td>48</td>\n",
              "      <td>7.0</td>\n",
              "      <td>0</td>\n",
              "      <td>0</td>\n",
              "      <td>1</td>\n",
              "      <td>1</td>\n",
              "      <td>5</td>\n",
              "      <td>1500</td>\n",
              "      <td>97.52152777777778</td>\n",
              "      <td>0</td>\n",
              "    </tr>\n",
              "    <tr>\n",
              "      <th>3</th>\n",
              "      <td>0</td>\n",
              "      <td>0</td>\n",
              "      <td>0</td>\n",
              "      <td>0</td>\n",
              "      <td>0</td>\n",
              "      <td>0</td>\n",
              "      <td>0</td>\n",
              "      <td>0</td>\n",
              "      <td>0</td>\n",
              "      <td>1</td>\n",
              "      <td>0</td>\n",
              "      <td>0</td>\n",
              "      <td>0</td>\n",
              "      <td>0</td>\n",
              "      <td>0</td>\n",
              "      <td>0</td>\n",
              "      <td>0</td>\n",
              "      <td>1</td>\n",
              "      <td>34</td>\n",
              "      <td>1</td>\n",
              "      <td>58</td>\n",
              "      <td>30000</td>\n",
              "      <td>21.540972222222223</td>\n",
              "      <td>0</td>\n",
              "      <td>0</td>\n",
              "      <td>0</td>\n",
              "      <td>0</td>\n",
              "      <td>0</td>\n",
              "      <td>0</td>\n",
              "      <td>11</td>\n",
              "      <td>777</td>\n",
              "      <td>7.541666666666667</td>\n",
              "      <td>7530</td>\n",
              "    </tr>\n",
              "    <tr>\n",
              "      <th>4</th>\n",
              "      <td>0</td>\n",
              "      <td>0</td>\n",
              "      <td>0</td>\n",
              "      <td>0</td>\n",
              "      <td>0</td>\n",
              "      <td>0</td>\n",
              "      <td>1</td>\n",
              "      <td>0</td>\n",
              "      <td>0</td>\n",
              "      <td>0</td>\n",
              "      <td>0</td>\n",
              "      <td>0</td>\n",
              "      <td>0</td>\n",
              "      <td>0</td>\n",
              "      <td>0</td>\n",
              "      <td>0</td>\n",
              "      <td>0</td>\n",
              "      <td>1</td>\n",
              "      <td>32</td>\n",
              "      <td>0</td>\n",
              "      <td>62</td>\n",
              "      <td>666</td>\n",
              "      <td>18.499305555555555</td>\n",
              "      <td>0</td>\n",
              "      <td>0</td>\n",
              "      <td>1</td>\n",
              "      <td>0</td>\n",
              "      <td>1</td>\n",
              "      <td>0</td>\n",
              "      <td>5</td>\n",
              "      <td>650</td>\n",
              "      <td>8.5</td>\n",
              "      <td>33359</td>\n",
              "    </tr>\n",
              "    <tr>\n",
              "      <th>...</th>\n",
              "      <td>...</td>\n",
              "      <td>...</td>\n",
              "      <td>...</td>\n",
              "      <td>...</td>\n",
              "      <td>...</td>\n",
              "      <td>...</td>\n",
              "      <td>...</td>\n",
              "      <td>...</td>\n",
              "      <td>...</td>\n",
              "      <td>...</td>\n",
              "      <td>...</td>\n",
              "      <td>...</td>\n",
              "      <td>...</td>\n",
              "      <td>...</td>\n",
              "      <td>...</td>\n",
              "      <td>...</td>\n",
              "      <td>...</td>\n",
              "      <td>...</td>\n",
              "      <td>...</td>\n",
              "      <td>...</td>\n",
              "      <td>...</td>\n",
              "      <td>...</td>\n",
              "      <td>...</td>\n",
              "      <td>...</td>\n",
              "      <td>...</td>\n",
              "      <td>...</td>\n",
              "      <td>...</td>\n",
              "      <td>...</td>\n",
              "      <td>...</td>\n",
              "      <td>...</td>\n",
              "      <td>...</td>\n",
              "      <td>...</td>\n",
              "      <td>...</td>\n",
              "    </tr>\n",
              "    <tr>\n",
              "      <th>6815</th>\n",
              "      <td>1</td>\n",
              "      <td>1</td>\n",
              "      <td>0</td>\n",
              "      <td>0</td>\n",
              "      <td>0</td>\n",
              "      <td>0</td>\n",
              "      <td>0</td>\n",
              "      <td>0</td>\n",
              "      <td>0</td>\n",
              "      <td>0</td>\n",
              "      <td>0</td>\n",
              "      <td>0</td>\n",
              "      <td>0</td>\n",
              "      <td>0</td>\n",
              "      <td>0</td>\n",
              "      <td>0</td>\n",
              "      <td>0</td>\n",
              "      <td>0</td>\n",
              "      <td>29</td>\n",
              "      <td>1</td>\n",
              "      <td>2</td>\n",
              "      <td>35000</td>\n",
              "      <td>32.99930555555556</td>\n",
              "      <td>0</td>\n",
              "      <td>0</td>\n",
              "      <td>0</td>\n",
              "      <td>0</td>\n",
              "      <td>0</td>\n",
              "      <td>0</td>\n",
              "      <td>12</td>\n",
              "      <td>550.0</td>\n",
              "      <td>11.0</td>\n",
              "      <td>0</td>\n",
              "    </tr>\n",
              "    <tr>\n",
              "      <th>6816</th>\n",
              "      <td>1</td>\n",
              "      <td>0</td>\n",
              "      <td>0</td>\n",
              "      <td>0</td>\n",
              "      <td>0</td>\n",
              "      <td>0</td>\n",
              "      <td>0</td>\n",
              "      <td>0</td>\n",
              "      <td>0</td>\n",
              "      <td>0</td>\n",
              "      <td>0</td>\n",
              "      <td>0</td>\n",
              "      <td>0</td>\n",
              "      <td>1</td>\n",
              "      <td>0</td>\n",
              "      <td>0</td>\n",
              "      <td>0</td>\n",
              "      <td>0</td>\n",
              "      <td>7</td>\n",
              "      <td>1</td>\n",
              "      <td>3</td>\n",
              "      <td>80000</td>\n",
              "      <td>69.99930555555555</td>\n",
              "      <td>0</td>\n",
              "      <td>0</td>\n",
              "      <td>0</td>\n",
              "      <td>0</td>\n",
              "      <td>0</td>\n",
              "      <td>0</td>\n",
              "      <td>9</td>\n",
              "      <td>500</td>\n",
              "      <td>21.0</td>\n",
              "      <td>0</td>\n",
              "    </tr>\n",
              "    <tr>\n",
              "      <th>6817</th>\n",
              "      <td>1</td>\n",
              "      <td>0</td>\n",
              "      <td>0</td>\n",
              "      <td>0</td>\n",
              "      <td>0</td>\n",
              "      <td>1</td>\n",
              "      <td>0</td>\n",
              "      <td>0</td>\n",
              "      <td>0</td>\n",
              "      <td>0</td>\n",
              "      <td>0</td>\n",
              "      <td>0</td>\n",
              "      <td>0</td>\n",
              "      <td>0</td>\n",
              "      <td>0</td>\n",
              "      <td>0</td>\n",
              "      <td>0</td>\n",
              "      <td>0</td>\n",
              "      <td>18</td>\n",
              "      <td>1</td>\n",
              "      <td>5</td>\n",
              "      <td>20000</td>\n",
              "      <td>64.99930555555555</td>\n",
              "      <td>0</td>\n",
              "      <td>0</td>\n",
              "      <td>0</td>\n",
              "      <td>0</td>\n",
              "      <td>0</td>\n",
              "      <td>0</td>\n",
              "      <td>4</td>\n",
              "      <td>1500.0</td>\n",
              "      <td>53.0</td>\n",
              "      <td>0</td>\n",
              "    </tr>\n",
              "    <tr>\n",
              "      <th>6818</th>\n",
              "      <td>1</td>\n",
              "      <td>1</td>\n",
              "      <td>0</td>\n",
              "      <td>0</td>\n",
              "      <td>0</td>\n",
              "      <td>0</td>\n",
              "      <td>0</td>\n",
              "      <td>0</td>\n",
              "      <td>0</td>\n",
              "      <td>0</td>\n",
              "      <td>0</td>\n",
              "      <td>0</td>\n",
              "      <td>0</td>\n",
              "      <td>0</td>\n",
              "      <td>0</td>\n",
              "      <td>0</td>\n",
              "      <td>0</td>\n",
              "      <td>0</td>\n",
              "      <td>13</td>\n",
              "      <td>1</td>\n",
              "      <td>2</td>\n",
              "      <td>20000</td>\n",
              "      <td>14.999305555555555</td>\n",
              "      <td>0</td>\n",
              "      <td>0</td>\n",
              "      <td>0</td>\n",
              "      <td>0</td>\n",
              "      <td>0</td>\n",
              "      <td>0</td>\n",
              "      <td>10</td>\n",
              "      <td>850.0</td>\n",
              "      <td>213.0</td>\n",
              "      <td>0</td>\n",
              "    </tr>\n",
              "    <tr>\n",
              "      <th>6819</th>\n",
              "      <td>1</td>\n",
              "      <td>0</td>\n",
              "      <td>0</td>\n",
              "      <td>0</td>\n",
              "      <td>0</td>\n",
              "      <td>1</td>\n",
              "      <td>0</td>\n",
              "      <td>0</td>\n",
              "      <td>0</td>\n",
              "      <td>0</td>\n",
              "      <td>0</td>\n",
              "      <td>0</td>\n",
              "      <td>0</td>\n",
              "      <td>0</td>\n",
              "      <td>0</td>\n",
              "      <td>0</td>\n",
              "      <td>0</td>\n",
              "      <td>0</td>\n",
              "      <td>19</td>\n",
              "      <td>1</td>\n",
              "      <td>16</td>\n",
              "      <td>35000</td>\n",
              "      <td>70.99930555555555</td>\n",
              "      <td>0</td>\n",
              "      <td>0</td>\n",
              "      <td>0</td>\n",
              "      <td>0</td>\n",
              "      <td>0</td>\n",
              "      <td>0</td>\n",
              "      <td>7</td>\n",
              "      <td>200</td>\n",
              "      <td>107.0</td>\n",
              "      <td>0</td>\n",
              "    </tr>\n",
              "  </tbody>\n",
              "</table>\n",
              "<p>6820 rows × 33 columns</p>\n",
              "</div>\n",
              "      <button class=\"colab-df-convert\" onclick=\"convertToInteractive('df-aa6844b6-5d15-41ef-813a-7c1884720e05')\"\n",
              "              title=\"Convert this dataframe to an interactive table.\"\n",
              "              style=\"display:none;\">\n",
              "        \n",
              "  <svg xmlns=\"http://www.w3.org/2000/svg\" height=\"24px\"viewBox=\"0 0 24 24\"\n",
              "       width=\"24px\">\n",
              "    <path d=\"M0 0h24v24H0V0z\" fill=\"none\"/>\n",
              "    <path d=\"M18.56 5.44l.94 2.06.94-2.06 2.06-.94-2.06-.94-.94-2.06-.94 2.06-2.06.94zm-11 1L8.5 8.5l.94-2.06 2.06-.94-2.06-.94L8.5 2.5l-.94 2.06-2.06.94zm10 10l.94 2.06.94-2.06 2.06-.94-2.06-.94-.94-2.06-.94 2.06-2.06.94z\"/><path d=\"M17.41 7.96l-1.37-1.37c-.4-.4-.92-.59-1.43-.59-.52 0-1.04.2-1.43.59L10.3 9.45l-7.72 7.72c-.78.78-.78 2.05 0 2.83L4 21.41c.39.39.9.59 1.41.59.51 0 1.02-.2 1.41-.59l7.78-7.78 2.81-2.81c.8-.78.8-2.07 0-2.86zM5.41 20L4 18.59l7.72-7.72 1.47 1.35L5.41 20z\"/>\n",
              "  </svg>\n",
              "      </button>\n",
              "      \n",
              "  <style>\n",
              "    .colab-df-container {\n",
              "      display:flex;\n",
              "      flex-wrap:wrap;\n",
              "      gap: 12px;\n",
              "    }\n",
              "\n",
              "    .colab-df-convert {\n",
              "      background-color: #E8F0FE;\n",
              "      border: none;\n",
              "      border-radius: 50%;\n",
              "      cursor: pointer;\n",
              "      display: none;\n",
              "      fill: #1967D2;\n",
              "      height: 32px;\n",
              "      padding: 0 0 0 0;\n",
              "      width: 32px;\n",
              "    }\n",
              "\n",
              "    .colab-df-convert:hover {\n",
              "      background-color: #E2EBFA;\n",
              "      box-shadow: 0px 1px 2px rgba(60, 64, 67, 0.3), 0px 1px 3px 1px rgba(60, 64, 67, 0.15);\n",
              "      fill: #174EA6;\n",
              "    }\n",
              "\n",
              "    [theme=dark] .colab-df-convert {\n",
              "      background-color: #3B4455;\n",
              "      fill: #D2E3FC;\n",
              "    }\n",
              "\n",
              "    [theme=dark] .colab-df-convert:hover {\n",
              "      background-color: #434B5C;\n",
              "      box-shadow: 0px 1px 3px 1px rgba(0, 0, 0, 0.15);\n",
              "      filter: drop-shadow(0px 1px 2px rgba(0, 0, 0, 0.3));\n",
              "      fill: #FFFFFF;\n",
              "    }\n",
              "  </style>\n",
              "\n",
              "      <script>\n",
              "        const buttonEl =\n",
              "          document.querySelector('#df-aa6844b6-5d15-41ef-813a-7c1884720e05 button.colab-df-convert');\n",
              "        buttonEl.style.display =\n",
              "          google.colab.kernel.accessAllowed ? 'block' : 'none';\n",
              "\n",
              "        async function convertToInteractive(key) {\n",
              "          const element = document.querySelector('#df-aa6844b6-5d15-41ef-813a-7c1884720e05');\n",
              "          const dataTable =\n",
              "            await google.colab.kernel.invokeFunction('convertToInteractive',\n",
              "                                                     [key], {});\n",
              "          if (!dataTable) return;\n",
              "\n",
              "          const docLinkHtml = 'Like what you see? Visit the ' +\n",
              "            '<a target=\"_blank\" href=https://colab.research.google.com/notebooks/data_table.ipynb>data table notebook</a>'\n",
              "            + ' to learn more about interactive tables.';\n",
              "          element.innerHTML = '';\n",
              "          dataTable['output_type'] = 'display_data';\n",
              "          await google.colab.output.renderOutput(dataTable, element);\n",
              "          const docLink = document.createElement('div');\n",
              "          docLink.innerHTML = docLinkHtml;\n",
              "          element.appendChild(docLink);\n",
              "        }\n",
              "      </script>\n",
              "    </div>\n",
              "  </div>\n",
              "  "
            ],
            "text/plain": [
              "     群眾募資 音樂 攝影 出版 時尚 設計  ... fb ig set_num set_price       time_expected    fb讚\n",
              "0       0  0  0  0  0  0  ...  0  0       3      1180  31.416666666666668   3814\n",
              "1       0  0  0  0  0  1  ...  1  1       6    3680.0              125.25      0\n",
              "2       0  0  0  0  1  0  ...  1  1       5      1500   97.52152777777778      0\n",
              "3       0  0  0  0  0  0  ...  0  0      11       777   7.541666666666667   7530\n",
              "4       0  0  0  0  0  0  ...  1  0       5       650                 8.5  33359\n",
              "...   ... .. .. .. .. ..  ... .. ..     ...       ...                 ...    ...\n",
              "6815    1  1  0  0  0  0  ...  0  0      12     550.0                11.0      0\n",
              "6816    1  0  0  0  0  0  ...  0  0       9       500                21.0      0\n",
              "6817    1  0  0  0  0  1  ...  0  0       4    1500.0                53.0      0\n",
              "6818    1  1  0  0  0  0  ...  0  0      10     850.0               213.0      0\n",
              "6819    1  0  0  0  0  1  ...  0  0       7       200               107.0      0\n",
              "\n",
              "[6820 rows x 33 columns]"
            ]
          },
          "metadata": {},
          "execution_count": 2
        }
      ]
    },
    {
      "cell_type": "code",
      "source": [
        "df.success.value_counts()"
      ],
      "metadata": {
        "colab": {
          "base_uri": "https://localhost:8080/"
        },
        "id": "6fUqxox0PSZb",
        "outputId": "961d3f7c-fe5e-4583-846b-966fbecf87a7"
      },
      "execution_count": null,
      "outputs": [
        {
          "output_type": "execute_result",
          "data": {
            "text/plain": [
              "1    3436\n",
              "0    3384\n",
              "Name: success, dtype: int64"
            ]
          },
          "metadata": {},
          "execution_count": 7
        }
      ]
    },
    {
      "cell_type": "markdown",
      "source": [
        "## Our test Data"
      ],
      "metadata": {
        "id": "n9195Zdj1QC8"
      }
    },
    {
      "cell_type": "code",
      "source": [
        "import numpy as np\n",
        "import pandas as pd\n",
        "import csv\n",
        "data = []\n",
        "with open('cleandata_1_3_test.csv',newline='') as csvfile:\n",
        "    rows = csv.reader(csvfile, delimiter=',')\n",
        "    for row in rows:\n",
        "        data.append(row)\n",
        "drop_list = ['預購專案','新春賀喜','空間','money'] #防止共線 #money則是用來當Y的\n",
        "test_df = pd.DataFrame(data[1:],columns=data[0])\n",
        "\n",
        "test_df = test_df.drop(drop_list,axis=1)\n",
        "print(test_df.shape)\n",
        "test_df"
      ],
      "metadata": {
        "colab": {
          "base_uri": "https://localhost:8080/",
          "height": 557
        },
        "id": "3I_8Sviq1PRd",
        "outputId": "c16da47c-2442-451f-d9db-fe477e75ce76"
      },
      "execution_count": null,
      "outputs": [
        {
          "output_type": "stream",
          "name": "stdout",
          "text": [
            "(102, 33)\n"
          ]
        },
        {
          "output_type": "execute_result",
          "data": {
            "text/html": [
              "\n",
              "  <div id=\"df-5e95c7a0-23f7-492e-84a1-494d701ba37f\">\n",
              "    <div class=\"colab-df-container\">\n",
              "      <div>\n",
              "<style scoped>\n",
              "    .dataframe tbody tr th:only-of-type {\n",
              "        vertical-align: middle;\n",
              "    }\n",
              "\n",
              "    .dataframe tbody tr th {\n",
              "        vertical-align: top;\n",
              "    }\n",
              "\n",
              "    .dataframe thead th {\n",
              "        text-align: right;\n",
              "    }\n",
              "</style>\n",
              "<table border=\"1\" class=\"dataframe\">\n",
              "  <thead>\n",
              "    <tr style=\"text-align: right;\">\n",
              "      <th></th>\n",
              "      <th>群眾募資</th>\n",
              "      <th>音樂</th>\n",
              "      <th>攝影</th>\n",
              "      <th>出版</th>\n",
              "      <th>時尚</th>\n",
              "      <th>設計</th>\n",
              "      <th>表演</th>\n",
              "      <th>藝術</th>\n",
              "      <th>科技</th>\n",
              "      <th>教育</th>\n",
              "      <th>遊戲</th>\n",
              "      <th>飲食</th>\n",
              "      <th>社會</th>\n",
              "      <th>插畫漫畫</th>\n",
              "      <th>電影動畫</th>\n",
              "      <th>地方創生</th>\n",
              "      <th>挺好店</th>\n",
              "      <th>success</th>\n",
              "      <th>image</th>\n",
              "      <th>video</th>\n",
              "      <th>sponsor_num</th>\n",
              "      <th>target</th>\n",
              "      <th>duration</th>\n",
              "      <th>comment_num</th>\n",
              "      <th>QA_num</th>\n",
              "      <th>website</th>\n",
              "      <th>yt</th>\n",
              "      <th>fb</th>\n",
              "      <th>ig</th>\n",
              "      <th>set_num</th>\n",
              "      <th>set_price</th>\n",
              "      <th>time_expected</th>\n",
              "      <th>fb讚</th>\n",
              "    </tr>\n",
              "  </thead>\n",
              "  <tbody>\n",
              "    <tr>\n",
              "      <th>0</th>\n",
              "      <td>0</td>\n",
              "      <td>0</td>\n",
              "      <td>0</td>\n",
              "      <td>0</td>\n",
              "      <td>0</td>\n",
              "      <td>0</td>\n",
              "      <td>0</td>\n",
              "      <td>0</td>\n",
              "      <td>0</td>\n",
              "      <td>0</td>\n",
              "      <td>0</td>\n",
              "      <td>1</td>\n",
              "      <td>0</td>\n",
              "      <td>0</td>\n",
              "      <td>0</td>\n",
              "      <td>0</td>\n",
              "      <td>0</td>\n",
              "      <td>1</td>\n",
              "      <td>33</td>\n",
              "      <td>2</td>\n",
              "      <td>304</td>\n",
              "      <td>100000</td>\n",
              "      <td>16.333333333333332</td>\n",
              "      <td>2</td>\n",
              "      <td>10.0</td>\n",
              "      <td>0</td>\n",
              "      <td>0</td>\n",
              "      <td>1</td>\n",
              "      <td>0</td>\n",
              "      <td>4</td>\n",
              "      <td>3080.0</td>\n",
              "      <td>53.5</td>\n",
              "      <td>0</td>\n",
              "    </tr>\n",
              "    <tr>\n",
              "      <th>1</th>\n",
              "      <td>0</td>\n",
              "      <td>0</td>\n",
              "      <td>0</td>\n",
              "      <td>0</td>\n",
              "      <td>0</td>\n",
              "      <td>0</td>\n",
              "      <td>0</td>\n",
              "      <td>1</td>\n",
              "      <td>0</td>\n",
              "      <td>0</td>\n",
              "      <td>0</td>\n",
              "      <td>0</td>\n",
              "      <td>0</td>\n",
              "      <td>0</td>\n",
              "      <td>0</td>\n",
              "      <td>0</td>\n",
              "      <td>0</td>\n",
              "      <td>1</td>\n",
              "      <td>19</td>\n",
              "      <td>1</td>\n",
              "      <td>9</td>\n",
              "      <td>55555</td>\n",
              "      <td>30.165972222222223</td>\n",
              "      <td>0</td>\n",
              "      <td>4.0</td>\n",
              "      <td>0</td>\n",
              "      <td>0</td>\n",
              "      <td>0</td>\n",
              "      <td>0</td>\n",
              "      <td>5</td>\n",
              "      <td>4388</td>\n",
              "      <td>364.1666666666667</td>\n",
              "      <td>0</td>\n",
              "    </tr>\n",
              "    <tr>\n",
              "      <th>2</th>\n",
              "      <td>0</td>\n",
              "      <td>0</td>\n",
              "      <td>0</td>\n",
              "      <td>0</td>\n",
              "      <td>0</td>\n",
              "      <td>1</td>\n",
              "      <td>0</td>\n",
              "      <td>0</td>\n",
              "      <td>0</td>\n",
              "      <td>0</td>\n",
              "      <td>0</td>\n",
              "      <td>0</td>\n",
              "      <td>0</td>\n",
              "      <td>0</td>\n",
              "      <td>0</td>\n",
              "      <td>0</td>\n",
              "      <td>0</td>\n",
              "      <td>1</td>\n",
              "      <td>12</td>\n",
              "      <td>2</td>\n",
              "      <td>52</td>\n",
              "      <td>10000</td>\n",
              "      <td>30.499305555555555</td>\n",
              "      <td>0</td>\n",
              "      <td>5.0</td>\n",
              "      <td>0</td>\n",
              "      <td>0</td>\n",
              "      <td>1</td>\n",
              "      <td>0</td>\n",
              "      <td>3</td>\n",
              "      <td>2680</td>\n",
              "      <td>30.5</td>\n",
              "      <td>186</td>\n",
              "    </tr>\n",
              "    <tr>\n",
              "      <th>3</th>\n",
              "      <td>0</td>\n",
              "      <td>0</td>\n",
              "      <td>0</td>\n",
              "      <td>0</td>\n",
              "      <td>0</td>\n",
              "      <td>0</td>\n",
              "      <td>0</td>\n",
              "      <td>0</td>\n",
              "      <td>0</td>\n",
              "      <td>0</td>\n",
              "      <td>0</td>\n",
              "      <td>1</td>\n",
              "      <td>0</td>\n",
              "      <td>0</td>\n",
              "      <td>0</td>\n",
              "      <td>0</td>\n",
              "      <td>0</td>\n",
              "      <td>1</td>\n",
              "      <td>19</td>\n",
              "      <td>1</td>\n",
              "      <td>15</td>\n",
              "      <td>10000</td>\n",
              "      <td>30.583333333333332</td>\n",
              "      <td>0</td>\n",
              "      <td>6.0</td>\n",
              "      <td>1</td>\n",
              "      <td>0</td>\n",
              "      <td>1</td>\n",
              "      <td>0</td>\n",
              "      <td>6</td>\n",
              "      <td>790.0</td>\n",
              "      <td>4.5</td>\n",
              "      <td>7752</td>\n",
              "    </tr>\n",
              "    <tr>\n",
              "      <th>4</th>\n",
              "      <td>0</td>\n",
              "      <td>0</td>\n",
              "      <td>0</td>\n",
              "      <td>0</td>\n",
              "      <td>0</td>\n",
              "      <td>0</td>\n",
              "      <td>0</td>\n",
              "      <td>0</td>\n",
              "      <td>1</td>\n",
              "      <td>0</td>\n",
              "      <td>0</td>\n",
              "      <td>0</td>\n",
              "      <td>0</td>\n",
              "      <td>0</td>\n",
              "      <td>0</td>\n",
              "      <td>0</td>\n",
              "      <td>0</td>\n",
              "      <td>1</td>\n",
              "      <td>40</td>\n",
              "      <td>0</td>\n",
              "      <td>251</td>\n",
              "      <td>50000</td>\n",
              "      <td>34.583333333333336</td>\n",
              "      <td>0</td>\n",
              "      <td>0</td>\n",
              "      <td>0</td>\n",
              "      <td>0</td>\n",
              "      <td>1</td>\n",
              "      <td>0</td>\n",
              "      <td>7</td>\n",
              "      <td>2480</td>\n",
              "      <td>36.5</td>\n",
              "      <td>74</td>\n",
              "    </tr>\n",
              "    <tr>\n",
              "      <th>...</th>\n",
              "      <td>...</td>\n",
              "      <td>...</td>\n",
              "      <td>...</td>\n",
              "      <td>...</td>\n",
              "      <td>...</td>\n",
              "      <td>...</td>\n",
              "      <td>...</td>\n",
              "      <td>...</td>\n",
              "      <td>...</td>\n",
              "      <td>...</td>\n",
              "      <td>...</td>\n",
              "      <td>...</td>\n",
              "      <td>...</td>\n",
              "      <td>...</td>\n",
              "      <td>...</td>\n",
              "      <td>...</td>\n",
              "      <td>...</td>\n",
              "      <td>...</td>\n",
              "      <td>...</td>\n",
              "      <td>...</td>\n",
              "      <td>...</td>\n",
              "      <td>...</td>\n",
              "      <td>...</td>\n",
              "      <td>...</td>\n",
              "      <td>...</td>\n",
              "      <td>...</td>\n",
              "      <td>...</td>\n",
              "      <td>...</td>\n",
              "      <td>...</td>\n",
              "      <td>...</td>\n",
              "      <td>...</td>\n",
              "      <td>...</td>\n",
              "      <td>...</td>\n",
              "    </tr>\n",
              "    <tr>\n",
              "      <th>97</th>\n",
              "      <td>1</td>\n",
              "      <td>0</td>\n",
              "      <td>0</td>\n",
              "      <td>0</td>\n",
              "      <td>0</td>\n",
              "      <td>0</td>\n",
              "      <td>0</td>\n",
              "      <td>1</td>\n",
              "      <td>0</td>\n",
              "      <td>0</td>\n",
              "      <td>0</td>\n",
              "      <td>0</td>\n",
              "      <td>0</td>\n",
              "      <td>0</td>\n",
              "      <td>0</td>\n",
              "      <td>0</td>\n",
              "      <td>0</td>\n",
              "      <td>0</td>\n",
              "      <td>39</td>\n",
              "      <td>1</td>\n",
              "      <td>8</td>\n",
              "      <td>30000</td>\n",
              "      <td>51.16597222222222</td>\n",
              "      <td>0</td>\n",
              "      <td>11.0</td>\n",
              "      <td>0</td>\n",
              "      <td>0</td>\n",
              "      <td>1</td>\n",
              "      <td>1</td>\n",
              "      <td>12</td>\n",
              "      <td>430.0</td>\n",
              "      <td>93.16666666666667</td>\n",
              "      <td>219</td>\n",
              "    </tr>\n",
              "    <tr>\n",
              "      <th>98</th>\n",
              "      <td>1</td>\n",
              "      <td>0</td>\n",
              "      <td>0</td>\n",
              "      <td>0</td>\n",
              "      <td>0</td>\n",
              "      <td>1</td>\n",
              "      <td>0</td>\n",
              "      <td>0</td>\n",
              "      <td>0</td>\n",
              "      <td>0</td>\n",
              "      <td>0</td>\n",
              "      <td>0</td>\n",
              "      <td>0</td>\n",
              "      <td>0</td>\n",
              "      <td>0</td>\n",
              "      <td>0</td>\n",
              "      <td>0</td>\n",
              "      <td>0</td>\n",
              "      <td>38</td>\n",
              "      <td>0</td>\n",
              "      <td>15</td>\n",
              "      <td>60000</td>\n",
              "      <td>59.16597222222222</td>\n",
              "      <td>0</td>\n",
              "      <td>5.0</td>\n",
              "      <td>1</td>\n",
              "      <td>1</td>\n",
              "      <td>1</td>\n",
              "      <td>0</td>\n",
              "      <td>5</td>\n",
              "      <td>880</td>\n",
              "      <td>94.16666666666667</td>\n",
              "      <td>2376</td>\n",
              "    </tr>\n",
              "    <tr>\n",
              "      <th>99</th>\n",
              "      <td>1</td>\n",
              "      <td>0</td>\n",
              "      <td>0</td>\n",
              "      <td>0</td>\n",
              "      <td>0</td>\n",
              "      <td>1</td>\n",
              "      <td>0</td>\n",
              "      <td>0</td>\n",
              "      <td>0</td>\n",
              "      <td>0</td>\n",
              "      <td>0</td>\n",
              "      <td>0</td>\n",
              "      <td>0</td>\n",
              "      <td>0</td>\n",
              "      <td>0</td>\n",
              "      <td>0</td>\n",
              "      <td>0</td>\n",
              "      <td>0</td>\n",
              "      <td>29</td>\n",
              "      <td>2</td>\n",
              "      <td>29</td>\n",
              "      <td>250000</td>\n",
              "      <td>56.49930555555556</td>\n",
              "      <td>0</td>\n",
              "      <td>10.0</td>\n",
              "      <td>1</td>\n",
              "      <td>0</td>\n",
              "      <td>1</td>\n",
              "      <td>1</td>\n",
              "      <td>5</td>\n",
              "      <td>1110</td>\n",
              "      <td>98.5</td>\n",
              "      <td>39</td>\n",
              "    </tr>\n",
              "    <tr>\n",
              "      <th>100</th>\n",
              "      <td>1</td>\n",
              "      <td>0</td>\n",
              "      <td>0</td>\n",
              "      <td>0</td>\n",
              "      <td>0</td>\n",
              "      <td>0</td>\n",
              "      <td>0</td>\n",
              "      <td>0</td>\n",
              "      <td>0</td>\n",
              "      <td>0</td>\n",
              "      <td>0</td>\n",
              "      <td>0</td>\n",
              "      <td>0</td>\n",
              "      <td>0</td>\n",
              "      <td>1</td>\n",
              "      <td>0</td>\n",
              "      <td>0</td>\n",
              "      <td>0</td>\n",
              "      <td>37</td>\n",
              "      <td>1</td>\n",
              "      <td>6</td>\n",
              "      <td>250000</td>\n",
              "      <td>61.20763888888889</td>\n",
              "      <td>0</td>\n",
              "      <td>0</td>\n",
              "      <td>0</td>\n",
              "      <td>0</td>\n",
              "      <td>0</td>\n",
              "      <td>1</td>\n",
              "      <td>12</td>\n",
              "      <td>1350.0</td>\n",
              "      <td>129.20833333333334</td>\n",
              "      <td>0</td>\n",
              "    </tr>\n",
              "    <tr>\n",
              "      <th>101</th>\n",
              "      <td>1</td>\n",
              "      <td>0</td>\n",
              "      <td>0</td>\n",
              "      <td>0</td>\n",
              "      <td>0</td>\n",
              "      <td>0</td>\n",
              "      <td>0</td>\n",
              "      <td>0</td>\n",
              "      <td>0</td>\n",
              "      <td>0</td>\n",
              "      <td>0</td>\n",
              "      <td>0</td>\n",
              "      <td>1</td>\n",
              "      <td>0</td>\n",
              "      <td>0</td>\n",
              "      <td>0</td>\n",
              "      <td>0</td>\n",
              "      <td>0</td>\n",
              "      <td>21</td>\n",
              "      <td>1</td>\n",
              "      <td>1</td>\n",
              "      <td>3060000</td>\n",
              "      <td>81.99930555555555</td>\n",
              "      <td>0</td>\n",
              "      <td>0</td>\n",
              "      <td>0</td>\n",
              "      <td>0</td>\n",
              "      <td>0</td>\n",
              "      <td>0</td>\n",
              "      <td>5</td>\n",
              "      <td>1500</td>\n",
              "      <td>142.0</td>\n",
              "      <td>0</td>\n",
              "    </tr>\n",
              "  </tbody>\n",
              "</table>\n",
              "<p>102 rows × 33 columns</p>\n",
              "</div>\n",
              "      <button class=\"colab-df-convert\" onclick=\"convertToInteractive('df-5e95c7a0-23f7-492e-84a1-494d701ba37f')\"\n",
              "              title=\"Convert this dataframe to an interactive table.\"\n",
              "              style=\"display:none;\">\n",
              "        \n",
              "  <svg xmlns=\"http://www.w3.org/2000/svg\" height=\"24px\"viewBox=\"0 0 24 24\"\n",
              "       width=\"24px\">\n",
              "    <path d=\"M0 0h24v24H0V0z\" fill=\"none\"/>\n",
              "    <path d=\"M18.56 5.44l.94 2.06.94-2.06 2.06-.94-2.06-.94-.94-2.06-.94 2.06-2.06.94zm-11 1L8.5 8.5l.94-2.06 2.06-.94-2.06-.94L8.5 2.5l-.94 2.06-2.06.94zm10 10l.94 2.06.94-2.06 2.06-.94-2.06-.94-.94-2.06-.94 2.06-2.06.94z\"/><path d=\"M17.41 7.96l-1.37-1.37c-.4-.4-.92-.59-1.43-.59-.52 0-1.04.2-1.43.59L10.3 9.45l-7.72 7.72c-.78.78-.78 2.05 0 2.83L4 21.41c.39.39.9.59 1.41.59.51 0 1.02-.2 1.41-.59l7.78-7.78 2.81-2.81c.8-.78.8-2.07 0-2.86zM5.41 20L4 18.59l7.72-7.72 1.47 1.35L5.41 20z\"/>\n",
              "  </svg>\n",
              "      </button>\n",
              "      \n",
              "  <style>\n",
              "    .colab-df-container {\n",
              "      display:flex;\n",
              "      flex-wrap:wrap;\n",
              "      gap: 12px;\n",
              "    }\n",
              "\n",
              "    .colab-df-convert {\n",
              "      background-color: #E8F0FE;\n",
              "      border: none;\n",
              "      border-radius: 50%;\n",
              "      cursor: pointer;\n",
              "      display: none;\n",
              "      fill: #1967D2;\n",
              "      height: 32px;\n",
              "      padding: 0 0 0 0;\n",
              "      width: 32px;\n",
              "    }\n",
              "\n",
              "    .colab-df-convert:hover {\n",
              "      background-color: #E2EBFA;\n",
              "      box-shadow: 0px 1px 2px rgba(60, 64, 67, 0.3), 0px 1px 3px 1px rgba(60, 64, 67, 0.15);\n",
              "      fill: #174EA6;\n",
              "    }\n",
              "\n",
              "    [theme=dark] .colab-df-convert {\n",
              "      background-color: #3B4455;\n",
              "      fill: #D2E3FC;\n",
              "    }\n",
              "\n",
              "    [theme=dark] .colab-df-convert:hover {\n",
              "      background-color: #434B5C;\n",
              "      box-shadow: 0px 1px 3px 1px rgba(0, 0, 0, 0.15);\n",
              "      filter: drop-shadow(0px 1px 2px rgba(0, 0, 0, 0.3));\n",
              "      fill: #FFFFFF;\n",
              "    }\n",
              "  </style>\n",
              "\n",
              "      <script>\n",
              "        const buttonEl =\n",
              "          document.querySelector('#df-5e95c7a0-23f7-492e-84a1-494d701ba37f button.colab-df-convert');\n",
              "        buttonEl.style.display =\n",
              "          google.colab.kernel.accessAllowed ? 'block' : 'none';\n",
              "\n",
              "        async function convertToInteractive(key) {\n",
              "          const element = document.querySelector('#df-5e95c7a0-23f7-492e-84a1-494d701ba37f');\n",
              "          const dataTable =\n",
              "            await google.colab.kernel.invokeFunction('convertToInteractive',\n",
              "                                                     [key], {});\n",
              "          if (!dataTable) return;\n",
              "\n",
              "          const docLinkHtml = 'Like what you see? Visit the ' +\n",
              "            '<a target=\"_blank\" href=https://colab.research.google.com/notebooks/data_table.ipynb>data table notebook</a>'\n",
              "            + ' to learn more about interactive tables.';\n",
              "          element.innerHTML = '';\n",
              "          dataTable['output_type'] = 'display_data';\n",
              "          await google.colab.output.renderOutput(dataTable, element);\n",
              "          const docLink = document.createElement('div');\n",
              "          docLink.innerHTML = docLinkHtml;\n",
              "          element.appendChild(docLink);\n",
              "        }\n",
              "      </script>\n",
              "    </div>\n",
              "  </div>\n",
              "  "
            ],
            "text/plain": [
              "    群眾募資 音樂 攝影 出版 時尚 設計 表演  ... yt fb ig set_num set_price       time_expected   fb讚\n",
              "0      0  0  0  0  0  0  0  ...  0  1  0       4    3080.0                53.5     0\n",
              "1      0  0  0  0  0  0  0  ...  0  0  0       5      4388   364.1666666666667     0\n",
              "2      0  0  0  0  0  1  0  ...  0  1  0       3      2680                30.5   186\n",
              "3      0  0  0  0  0  0  0  ...  0  1  0       6     790.0                 4.5  7752\n",
              "4      0  0  0  0  0  0  0  ...  0  1  0       7      2480                36.5    74\n",
              "..   ... .. .. .. .. .. ..  ... .. .. ..     ...       ...                 ...   ...\n",
              "97     1  0  0  0  0  0  0  ...  0  1  1      12     430.0   93.16666666666667   219\n",
              "98     1  0  0  0  0  1  0  ...  1  1  0       5       880   94.16666666666667  2376\n",
              "99     1  0  0  0  0  1  0  ...  0  1  1       5      1110                98.5    39\n",
              "100    1  0  0  0  0  0  0  ...  0  0  1      12    1350.0  129.20833333333334     0\n",
              "101    1  0  0  0  0  0  0  ...  0  0  0       5      1500               142.0     0\n",
              "\n",
              "[102 rows x 33 columns]"
            ]
          },
          "metadata": {},
          "execution_count": 15
        }
      ]
    },
    {
      "cell_type": "markdown",
      "source": [
        "### pre test data\n"
      ],
      "metadata": {
        "id": "JdfpNyUs1if4"
      }
    },
    {
      "cell_type": "code",
      "source": [
        "test_pre_df = test_df.copy()\n",
        "test_pre_drop_list = ['sponsor_num','comment_num','QA_num'] #把事前沒有的資料拿掉\n",
        "test_pre_df = test_pre_df.drop(test_pre_drop_list,axis=1)\n",
        "test_pre_df"
      ],
      "metadata": {
        "id": "oI3yt2Ik1iGo"
      },
      "execution_count": null,
      "outputs": []
    },
    {
      "cell_type": "code",
      "source": [
        "test_pre_x_df = test_pre_df.drop(['success'],axis=1).astype(np.float64)\n",
        "test_pre_y_df = test_pre_df['success'].astype(np.float64)"
      ],
      "metadata": {
        "id": "HZkLj1sv1yA3"
      },
      "execution_count": null,
      "outputs": []
    },
    {
      "cell_type": "code",
      "source": [
        "# Split training and test data\n",
        "from sklearn.model_selection import train_test_split\n",
        "# test_pre_X_train, test_pre_X_test, test_pre_y_train, test_pre_y_test = train_test_split(test_pre_x_df, test_pre_y_df, test_size=0.2)\n",
        "\n",
        "# Validation data\n",
        "# test_pre_X_train, test_pre_X_valid, test_pre_y_train, test_pre_y_valid = train_test_split(test_pre_X_train, test_pre_y_train, test_size=0.1)\n",
        "print(\"X_test:\", test_pre_x_df.shape)\n",
        "print(\"y_test:\", test_pre_y_df.shape)"
      ],
      "metadata": {
        "colab": {
          "base_uri": "https://localhost:8080/"
        },
        "id": "VAnPj1ik16NZ",
        "outputId": "43c5e9a9-edb2-4280-b1b4-176d94f6862b"
      },
      "execution_count": null,
      "outputs": [
        {
          "output_type": "stream",
          "name": "stdout",
          "text": [
            "X_test: (102, 29)\n",
            "y_test: (102,)\n"
          ]
        }
      ]
    },
    {
      "cell_type": "code",
      "source": [
        "test_pre_df.success.value_counts()"
      ],
      "metadata": {
        "colab": {
          "base_uri": "https://localhost:8080/"
        },
        "id": "mdLYgitP2ENR",
        "outputId": "029dfc8e-064f-43ef-9002-9de96c9c61a5"
      },
      "execution_count": null,
      "outputs": [
        {
          "output_type": "execute_result",
          "data": {
            "text/plain": [
              "1    86\n",
              "0    16\n",
              "Name: success, dtype: int64"
            ]
          },
          "metadata": {},
          "execution_count": 19
        }
      ]
    },
    {
      "cell_type": "code",
      "source": [
        "from google.colab import  drive\n",
        "from google.colab import  files\n",
        "test_pre_x_df.to_csv(\"test_pre_x_df\")\n",
        "test_pre_y_df.to_csv(\"test_pre_y_df\")\n",
        "\n",
        "# files.download(\"test_pre_X_test\")\n",
        "# files.download(\"test_pre_y_df\")"
      ],
      "metadata": {
        "id": "pmVKXMAz2HXb"
      },
      "execution_count": null,
      "outputs": []
    },
    {
      "cell_type": "markdown",
      "source": [
        "## test_data"
      ],
      "metadata": {
        "id": "bLoh-sloZBAW"
      }
    },
    {
      "cell_type": "code",
      "source": [
        "test_x_df = test_df.drop(['success'],axis=1).astype(np.float64)\n",
        "test_y_df = test_df['success'].astype(np.float64)"
      ],
      "metadata": {
        "id": "wu8f3iLuZLQr"
      },
      "execution_count": null,
      "outputs": []
    },
    {
      "cell_type": "code",
      "source": [
        "# Split training and test data\n",
        "from sklearn.model_selection import train_test_split\n",
        "# test_pre_X_train, test_pre_X_test, test_pre_y_train, test_pre_y_test = train_test_split(test_pre_x_df, test_pre_y_df, test_size=0.2)\n",
        "\n",
        "# Validation data\n",
        "# test_pre_X_train, test_pre_X_valid, test_pre_y_train, test_pre_y_valid = train_test_split(test_pre_X_train, test_pre_y_train, test_size=0.1)\n",
        "print(\"X_test:\", test_x_df.shape)\n",
        "print(\"y_test:\", test_y_df.shape)"
      ],
      "metadata": {
        "id": "8g0iClM1ZMf-",
        "colab": {
          "base_uri": "https://localhost:8080/"
        },
        "outputId": "8991823b-9f78-4a78-cf06-acb4d3b00a9c"
      },
      "execution_count": null,
      "outputs": [
        {
          "output_type": "stream",
          "name": "stdout",
          "text": [
            "X_test: (102, 32)\n",
            "y_test: (102,)\n"
          ]
        }
      ]
    },
    {
      "cell_type": "code",
      "source": [
        "from google.colab import  drive\n",
        "from google.colab import  files\n",
        "test_x_df.to_csv(\"test_x_df\")\n",
        "test_y_df.to_csv(\"test_y_df\")\n",
        "\n",
        "# files.download(\"test_x_df\")\n",
        "# files.download(\"test_y_df\")"
      ],
      "metadata": {
        "id": "5F05-yREZOY2"
      },
      "execution_count": null,
      "outputs": []
    },
    {
      "cell_type": "markdown",
      "source": [
        "##Random Forest -for our_test"
      ],
      "metadata": {
        "id": "Rt338be92brm"
      }
    },
    {
      "cell_type": "code",
      "source": [
        "# from sklearn.ensemble import RandomForestClassifier\n",
        "# from sklearn.model_selection import GridSearchCV\n",
        "# from sklearn.metrics import mean_squared_error\n",
        "\n",
        "# RF = RandomForestClassifier(random_state=439)\n",
        "# tune_params = {'n_estimators':range(50, 100)}\n",
        "# gd = GridSearchCV(RF, tune_params)\n",
        "# gd.fit(pre_X_valid, pre_y_valid)\n",
        "\n",
        "# n_estimators = gd.best_params_[\"n_estimators\"]\n",
        "# print(\"best n_estimators:\", n_estimators)\n",
        "# print(\"==========\")\n",
        "\n",
        "# pre_X_valid_train = np.concatenate([pre_X_valid.to_numpy(), pre_X_train.to_numpy()], axis=0)\n",
        "# pre_y_valid_train = np.concatenate([pre_y_valid, pre_y_train], axis=0)\n",
        "# RF = RandomForestClassifier(n_estimators=n_estimators, random_state=439)\n",
        "# RF.fit(pre_X_valid_train, pre_y_valid_train)\n",
        "# pred_RF = RF.predict(test_pre_X_test)\n",
        "# score = RF.score(test_pre_X_test, test_pre_y_test)\n",
        "# RMSE = mean_squared_error(test_pre_y_test, pred_RF, squared=False)\n",
        "# print(\"score =\", score)\n",
        "# print(\"RMSE =\", RMSE)"
      ],
      "metadata": {
        "id": "oFTxIr4D2brn"
      },
      "execution_count": null,
      "outputs": []
    },
    {
      "cell_type": "code",
      "source": [
        "# importance = RF.feature_importances_\n",
        "# idx = np.flip(np.argsort(importance))\n",
        "# important_10feat = pre_X_train.columns[idx[:10]]\n",
        "# print(\"The 10 most important features:\")\n",
        "# for i in range(10):\n",
        "#     if i != 9:\n",
        "#         print(important_10feat[i], end=\", \")\n",
        "#     else:\n",
        "#         print(important_10feat[i])"
      ],
      "metadata": {
        "id": "1f9zNheA2brn"
      },
      "execution_count": null,
      "outputs": []
    },
    {
      "cell_type": "code",
      "source": [
        "# # 視覺化預測結果的confusion matrix\n",
        "# from sklearn.metrics import confusion_matrix, classification_report\n",
        "# from mlxtend.plotting import plot_confusion_matrix\n",
        "# import matplotlib.pyplot as plt\n",
        "\n",
        "# print(classification_report(pre_y_test, pred_RF))\n",
        "# cm = confusion_matrix(pre_y_test , pred_RF)\n",
        "\n",
        "\n",
        "# figure, ax = plot_confusion_matrix(conf_mat = cm,\n",
        "#                                    show_absolute = False,\n",
        "#                                    show_normed = True,\n",
        "#                                    colorbar = True)"
      ],
      "metadata": {
        "id": "0QUFqbtr2brn"
      },
      "execution_count": null,
      "outputs": []
    },
    {
      "cell_type": "markdown",
      "source": [
        "# 事前預測"
      ],
      "metadata": {
        "id": "hkV175xEvs_j"
      }
    },
    {
      "cell_type": "code",
      "source": [
        "pre_df = df.copy()\n",
        "pre_drop_list = ['sponsor_num','comment_num','QA_num'] #把事前沒有的資料拿掉\n",
        "pre_df = pre_df.drop(pre_drop_list,axis=1)\n",
        "pre_df"
      ],
      "metadata": {
        "id": "MPpOrGJ8RK95",
        "colab": {
          "base_uri": "https://localhost:8080/",
          "height": 540
        },
        "outputId": "00573ad4-4bac-4c42-b5d2-5cf52acc0c29"
      },
      "execution_count": null,
      "outputs": [
        {
          "output_type": "execute_result",
          "data": {
            "text/html": [
              "\n",
              "  <div id=\"df-6d8402ba-7ac6-4a7c-99f8-894ba328ecad\">\n",
              "    <div class=\"colab-df-container\">\n",
              "      <div>\n",
              "<style scoped>\n",
              "    .dataframe tbody tr th:only-of-type {\n",
              "        vertical-align: middle;\n",
              "    }\n",
              "\n",
              "    .dataframe tbody tr th {\n",
              "        vertical-align: top;\n",
              "    }\n",
              "\n",
              "    .dataframe thead th {\n",
              "        text-align: right;\n",
              "    }\n",
              "</style>\n",
              "<table border=\"1\" class=\"dataframe\">\n",
              "  <thead>\n",
              "    <tr style=\"text-align: right;\">\n",
              "      <th></th>\n",
              "      <th>群眾募資</th>\n",
              "      <th>音樂</th>\n",
              "      <th>攝影</th>\n",
              "      <th>出版</th>\n",
              "      <th>時尚</th>\n",
              "      <th>設計</th>\n",
              "      <th>表演</th>\n",
              "      <th>藝術</th>\n",
              "      <th>科技</th>\n",
              "      <th>教育</th>\n",
              "      <th>遊戲</th>\n",
              "      <th>飲食</th>\n",
              "      <th>社會</th>\n",
              "      <th>插畫漫畫</th>\n",
              "      <th>電影動畫</th>\n",
              "      <th>地方創生</th>\n",
              "      <th>挺好店</th>\n",
              "      <th>success</th>\n",
              "      <th>image</th>\n",
              "      <th>video</th>\n",
              "      <th>target</th>\n",
              "      <th>duration</th>\n",
              "      <th>website</th>\n",
              "      <th>yt</th>\n",
              "      <th>fb</th>\n",
              "      <th>ig</th>\n",
              "      <th>set_num</th>\n",
              "      <th>set_price</th>\n",
              "      <th>time_expected</th>\n",
              "      <th>fb讚</th>\n",
              "    </tr>\n",
              "  </thead>\n",
              "  <tbody>\n",
              "    <tr>\n",
              "      <th>0</th>\n",
              "      <td>0</td>\n",
              "      <td>0</td>\n",
              "      <td>0</td>\n",
              "      <td>0</td>\n",
              "      <td>0</td>\n",
              "      <td>0</td>\n",
              "      <td>0</td>\n",
              "      <td>0</td>\n",
              "      <td>0</td>\n",
              "      <td>0</td>\n",
              "      <td>1</td>\n",
              "      <td>0</td>\n",
              "      <td>0</td>\n",
              "      <td>0</td>\n",
              "      <td>0</td>\n",
              "      <td>0</td>\n",
              "      <td>0</td>\n",
              "      <td>1</td>\n",
              "      <td>21</td>\n",
              "      <td>1</td>\n",
              "      <td>10000</td>\n",
              "      <td>16.499305555555555</td>\n",
              "      <td>0</td>\n",
              "      <td>0</td>\n",
              "      <td>0</td>\n",
              "      <td>0</td>\n",
              "      <td>3</td>\n",
              "      <td>1180</td>\n",
              "      <td>31.416666666666668</td>\n",
              "      <td>3814</td>\n",
              "    </tr>\n",
              "    <tr>\n",
              "      <th>1</th>\n",
              "      <td>0</td>\n",
              "      <td>0</td>\n",
              "      <td>0</td>\n",
              "      <td>0</td>\n",
              "      <td>0</td>\n",
              "      <td>1</td>\n",
              "      <td>0</td>\n",
              "      <td>0</td>\n",
              "      <td>0</td>\n",
              "      <td>0</td>\n",
              "      <td>0</td>\n",
              "      <td>0</td>\n",
              "      <td>0</td>\n",
              "      <td>0</td>\n",
              "      <td>0</td>\n",
              "      <td>0</td>\n",
              "      <td>0</td>\n",
              "      <td>1</td>\n",
              "      <td>46</td>\n",
              "      <td>2</td>\n",
              "      <td>150000</td>\n",
              "      <td>12.966666666666667</td>\n",
              "      <td>1</td>\n",
              "      <td>0</td>\n",
              "      <td>1</td>\n",
              "      <td>1</td>\n",
              "      <td>6</td>\n",
              "      <td>3680.0</td>\n",
              "      <td>125.25</td>\n",
              "      <td>0</td>\n",
              "    </tr>\n",
              "    <tr>\n",
              "      <th>2</th>\n",
              "      <td>0</td>\n",
              "      <td>0</td>\n",
              "      <td>0</td>\n",
              "      <td>0</td>\n",
              "      <td>1</td>\n",
              "      <td>0</td>\n",
              "      <td>0</td>\n",
              "      <td>0</td>\n",
              "      <td>0</td>\n",
              "      <td>0</td>\n",
              "      <td>0</td>\n",
              "      <td>0</td>\n",
              "      <td>0</td>\n",
              "      <td>0</td>\n",
              "      <td>0</td>\n",
              "      <td>0</td>\n",
              "      <td>0</td>\n",
              "      <td>1</td>\n",
              "      <td>33</td>\n",
              "      <td>0</td>\n",
              "      <td>1500000</td>\n",
              "      <td>7.5</td>\n",
              "      <td>0</td>\n",
              "      <td>0</td>\n",
              "      <td>1</td>\n",
              "      <td>1</td>\n",
              "      <td>5</td>\n",
              "      <td>1500</td>\n",
              "      <td>97.52152777777778</td>\n",
              "      <td>0</td>\n",
              "    </tr>\n",
              "    <tr>\n",
              "      <th>3</th>\n",
              "      <td>0</td>\n",
              "      <td>0</td>\n",
              "      <td>0</td>\n",
              "      <td>0</td>\n",
              "      <td>0</td>\n",
              "      <td>0</td>\n",
              "      <td>0</td>\n",
              "      <td>0</td>\n",
              "      <td>0</td>\n",
              "      <td>1</td>\n",
              "      <td>0</td>\n",
              "      <td>0</td>\n",
              "      <td>0</td>\n",
              "      <td>0</td>\n",
              "      <td>0</td>\n",
              "      <td>0</td>\n",
              "      <td>0</td>\n",
              "      <td>1</td>\n",
              "      <td>34</td>\n",
              "      <td>1</td>\n",
              "      <td>30000</td>\n",
              "      <td>21.540972222222223</td>\n",
              "      <td>0</td>\n",
              "      <td>0</td>\n",
              "      <td>0</td>\n",
              "      <td>0</td>\n",
              "      <td>11</td>\n",
              "      <td>777</td>\n",
              "      <td>7.541666666666667</td>\n",
              "      <td>7530</td>\n",
              "    </tr>\n",
              "    <tr>\n",
              "      <th>4</th>\n",
              "      <td>0</td>\n",
              "      <td>0</td>\n",
              "      <td>0</td>\n",
              "      <td>0</td>\n",
              "      <td>0</td>\n",
              "      <td>0</td>\n",
              "      <td>1</td>\n",
              "      <td>0</td>\n",
              "      <td>0</td>\n",
              "      <td>0</td>\n",
              "      <td>0</td>\n",
              "      <td>0</td>\n",
              "      <td>0</td>\n",
              "      <td>0</td>\n",
              "      <td>0</td>\n",
              "      <td>0</td>\n",
              "      <td>0</td>\n",
              "      <td>1</td>\n",
              "      <td>32</td>\n",
              "      <td>0</td>\n",
              "      <td>666</td>\n",
              "      <td>18.499305555555555</td>\n",
              "      <td>1</td>\n",
              "      <td>0</td>\n",
              "      <td>1</td>\n",
              "      <td>0</td>\n",
              "      <td>5</td>\n",
              "      <td>650</td>\n",
              "      <td>8.5</td>\n",
              "      <td>33359</td>\n",
              "    </tr>\n",
              "    <tr>\n",
              "      <th>...</th>\n",
              "      <td>...</td>\n",
              "      <td>...</td>\n",
              "      <td>...</td>\n",
              "      <td>...</td>\n",
              "      <td>...</td>\n",
              "      <td>...</td>\n",
              "      <td>...</td>\n",
              "      <td>...</td>\n",
              "      <td>...</td>\n",
              "      <td>...</td>\n",
              "      <td>...</td>\n",
              "      <td>...</td>\n",
              "      <td>...</td>\n",
              "      <td>...</td>\n",
              "      <td>...</td>\n",
              "      <td>...</td>\n",
              "      <td>...</td>\n",
              "      <td>...</td>\n",
              "      <td>...</td>\n",
              "      <td>...</td>\n",
              "      <td>...</td>\n",
              "      <td>...</td>\n",
              "      <td>...</td>\n",
              "      <td>...</td>\n",
              "      <td>...</td>\n",
              "      <td>...</td>\n",
              "      <td>...</td>\n",
              "      <td>...</td>\n",
              "      <td>...</td>\n",
              "      <td>...</td>\n",
              "    </tr>\n",
              "    <tr>\n",
              "      <th>6815</th>\n",
              "      <td>1</td>\n",
              "      <td>1</td>\n",
              "      <td>0</td>\n",
              "      <td>0</td>\n",
              "      <td>0</td>\n",
              "      <td>0</td>\n",
              "      <td>0</td>\n",
              "      <td>0</td>\n",
              "      <td>0</td>\n",
              "      <td>0</td>\n",
              "      <td>0</td>\n",
              "      <td>0</td>\n",
              "      <td>0</td>\n",
              "      <td>0</td>\n",
              "      <td>0</td>\n",
              "      <td>0</td>\n",
              "      <td>0</td>\n",
              "      <td>0</td>\n",
              "      <td>29</td>\n",
              "      <td>1</td>\n",
              "      <td>35000</td>\n",
              "      <td>32.99930555555556</td>\n",
              "      <td>0</td>\n",
              "      <td>0</td>\n",
              "      <td>0</td>\n",
              "      <td>0</td>\n",
              "      <td>12</td>\n",
              "      <td>550.0</td>\n",
              "      <td>11.0</td>\n",
              "      <td>0</td>\n",
              "    </tr>\n",
              "    <tr>\n",
              "      <th>6816</th>\n",
              "      <td>1</td>\n",
              "      <td>0</td>\n",
              "      <td>0</td>\n",
              "      <td>0</td>\n",
              "      <td>0</td>\n",
              "      <td>0</td>\n",
              "      <td>0</td>\n",
              "      <td>0</td>\n",
              "      <td>0</td>\n",
              "      <td>0</td>\n",
              "      <td>0</td>\n",
              "      <td>0</td>\n",
              "      <td>0</td>\n",
              "      <td>1</td>\n",
              "      <td>0</td>\n",
              "      <td>0</td>\n",
              "      <td>0</td>\n",
              "      <td>0</td>\n",
              "      <td>7</td>\n",
              "      <td>1</td>\n",
              "      <td>80000</td>\n",
              "      <td>69.99930555555555</td>\n",
              "      <td>0</td>\n",
              "      <td>0</td>\n",
              "      <td>0</td>\n",
              "      <td>0</td>\n",
              "      <td>9</td>\n",
              "      <td>500</td>\n",
              "      <td>21.0</td>\n",
              "      <td>0</td>\n",
              "    </tr>\n",
              "    <tr>\n",
              "      <th>6817</th>\n",
              "      <td>1</td>\n",
              "      <td>0</td>\n",
              "      <td>0</td>\n",
              "      <td>0</td>\n",
              "      <td>0</td>\n",
              "      <td>1</td>\n",
              "      <td>0</td>\n",
              "      <td>0</td>\n",
              "      <td>0</td>\n",
              "      <td>0</td>\n",
              "      <td>0</td>\n",
              "      <td>0</td>\n",
              "      <td>0</td>\n",
              "      <td>0</td>\n",
              "      <td>0</td>\n",
              "      <td>0</td>\n",
              "      <td>0</td>\n",
              "      <td>0</td>\n",
              "      <td>18</td>\n",
              "      <td>1</td>\n",
              "      <td>20000</td>\n",
              "      <td>64.99930555555555</td>\n",
              "      <td>0</td>\n",
              "      <td>0</td>\n",
              "      <td>0</td>\n",
              "      <td>0</td>\n",
              "      <td>4</td>\n",
              "      <td>1500.0</td>\n",
              "      <td>53.0</td>\n",
              "      <td>0</td>\n",
              "    </tr>\n",
              "    <tr>\n",
              "      <th>6818</th>\n",
              "      <td>1</td>\n",
              "      <td>1</td>\n",
              "      <td>0</td>\n",
              "      <td>0</td>\n",
              "      <td>0</td>\n",
              "      <td>0</td>\n",
              "      <td>0</td>\n",
              "      <td>0</td>\n",
              "      <td>0</td>\n",
              "      <td>0</td>\n",
              "      <td>0</td>\n",
              "      <td>0</td>\n",
              "      <td>0</td>\n",
              "      <td>0</td>\n",
              "      <td>0</td>\n",
              "      <td>0</td>\n",
              "      <td>0</td>\n",
              "      <td>0</td>\n",
              "      <td>13</td>\n",
              "      <td>1</td>\n",
              "      <td>20000</td>\n",
              "      <td>14.999305555555555</td>\n",
              "      <td>0</td>\n",
              "      <td>0</td>\n",
              "      <td>0</td>\n",
              "      <td>0</td>\n",
              "      <td>10</td>\n",
              "      <td>850.0</td>\n",
              "      <td>213.0</td>\n",
              "      <td>0</td>\n",
              "    </tr>\n",
              "    <tr>\n",
              "      <th>6819</th>\n",
              "      <td>1</td>\n",
              "      <td>0</td>\n",
              "      <td>0</td>\n",
              "      <td>0</td>\n",
              "      <td>0</td>\n",
              "      <td>1</td>\n",
              "      <td>0</td>\n",
              "      <td>0</td>\n",
              "      <td>0</td>\n",
              "      <td>0</td>\n",
              "      <td>0</td>\n",
              "      <td>0</td>\n",
              "      <td>0</td>\n",
              "      <td>0</td>\n",
              "      <td>0</td>\n",
              "      <td>0</td>\n",
              "      <td>0</td>\n",
              "      <td>0</td>\n",
              "      <td>19</td>\n",
              "      <td>1</td>\n",
              "      <td>35000</td>\n",
              "      <td>70.99930555555555</td>\n",
              "      <td>0</td>\n",
              "      <td>0</td>\n",
              "      <td>0</td>\n",
              "      <td>0</td>\n",
              "      <td>7</td>\n",
              "      <td>200</td>\n",
              "      <td>107.0</td>\n",
              "      <td>0</td>\n",
              "    </tr>\n",
              "  </tbody>\n",
              "</table>\n",
              "<p>6820 rows × 30 columns</p>\n",
              "</div>\n",
              "      <button class=\"colab-df-convert\" onclick=\"convertToInteractive('df-6d8402ba-7ac6-4a7c-99f8-894ba328ecad')\"\n",
              "              title=\"Convert this dataframe to an interactive table.\"\n",
              "              style=\"display:none;\">\n",
              "        \n",
              "  <svg xmlns=\"http://www.w3.org/2000/svg\" height=\"24px\"viewBox=\"0 0 24 24\"\n",
              "       width=\"24px\">\n",
              "    <path d=\"M0 0h24v24H0V0z\" fill=\"none\"/>\n",
              "    <path d=\"M18.56 5.44l.94 2.06.94-2.06 2.06-.94-2.06-.94-.94-2.06-.94 2.06-2.06.94zm-11 1L8.5 8.5l.94-2.06 2.06-.94-2.06-.94L8.5 2.5l-.94 2.06-2.06.94zm10 10l.94 2.06.94-2.06 2.06-.94-2.06-.94-.94-2.06-.94 2.06-2.06.94z\"/><path d=\"M17.41 7.96l-1.37-1.37c-.4-.4-.92-.59-1.43-.59-.52 0-1.04.2-1.43.59L10.3 9.45l-7.72 7.72c-.78.78-.78 2.05 0 2.83L4 21.41c.39.39.9.59 1.41.59.51 0 1.02-.2 1.41-.59l7.78-7.78 2.81-2.81c.8-.78.8-2.07 0-2.86zM5.41 20L4 18.59l7.72-7.72 1.47 1.35L5.41 20z\"/>\n",
              "  </svg>\n",
              "      </button>\n",
              "      \n",
              "  <style>\n",
              "    .colab-df-container {\n",
              "      display:flex;\n",
              "      flex-wrap:wrap;\n",
              "      gap: 12px;\n",
              "    }\n",
              "\n",
              "    .colab-df-convert {\n",
              "      background-color: #E8F0FE;\n",
              "      border: none;\n",
              "      border-radius: 50%;\n",
              "      cursor: pointer;\n",
              "      display: none;\n",
              "      fill: #1967D2;\n",
              "      height: 32px;\n",
              "      padding: 0 0 0 0;\n",
              "      width: 32px;\n",
              "    }\n",
              "\n",
              "    .colab-df-convert:hover {\n",
              "      background-color: #E2EBFA;\n",
              "      box-shadow: 0px 1px 2px rgba(60, 64, 67, 0.3), 0px 1px 3px 1px rgba(60, 64, 67, 0.15);\n",
              "      fill: #174EA6;\n",
              "    }\n",
              "\n",
              "    [theme=dark] .colab-df-convert {\n",
              "      background-color: #3B4455;\n",
              "      fill: #D2E3FC;\n",
              "    }\n",
              "\n",
              "    [theme=dark] .colab-df-convert:hover {\n",
              "      background-color: #434B5C;\n",
              "      box-shadow: 0px 1px 3px 1px rgba(0, 0, 0, 0.15);\n",
              "      filter: drop-shadow(0px 1px 2px rgba(0, 0, 0, 0.3));\n",
              "      fill: #FFFFFF;\n",
              "    }\n",
              "  </style>\n",
              "\n",
              "      <script>\n",
              "        const buttonEl =\n",
              "          document.querySelector('#df-6d8402ba-7ac6-4a7c-99f8-894ba328ecad button.colab-df-convert');\n",
              "        buttonEl.style.display =\n",
              "          google.colab.kernel.accessAllowed ? 'block' : 'none';\n",
              "\n",
              "        async function convertToInteractive(key) {\n",
              "          const element = document.querySelector('#df-6d8402ba-7ac6-4a7c-99f8-894ba328ecad');\n",
              "          const dataTable =\n",
              "            await google.colab.kernel.invokeFunction('convertToInteractive',\n",
              "                                                     [key], {});\n",
              "          if (!dataTable) return;\n",
              "\n",
              "          const docLinkHtml = 'Like what you see? Visit the ' +\n",
              "            '<a target=\"_blank\" href=https://colab.research.google.com/notebooks/data_table.ipynb>data table notebook</a>'\n",
              "            + ' to learn more about interactive tables.';\n",
              "          element.innerHTML = '';\n",
              "          dataTable['output_type'] = 'display_data';\n",
              "          await google.colab.output.renderOutput(dataTable, element);\n",
              "          const docLink = document.createElement('div');\n",
              "          docLink.innerHTML = docLinkHtml;\n",
              "          element.appendChild(docLink);\n",
              "        }\n",
              "      </script>\n",
              "    </div>\n",
              "  </div>\n",
              "  "
            ],
            "text/plain": [
              "     群眾募資 音樂 攝影 出版 時尚 設計  ... fb ig set_num set_price       time_expected    fb讚\n",
              "0       0  0  0  0  0  0  ...  0  0       3      1180  31.416666666666668   3814\n",
              "1       0  0  0  0  0  1  ...  1  1       6    3680.0              125.25      0\n",
              "2       0  0  0  0  1  0  ...  1  1       5      1500   97.52152777777778      0\n",
              "3       0  0  0  0  0  0  ...  0  0      11       777   7.541666666666667   7530\n",
              "4       0  0  0  0  0  0  ...  1  0       5       650                 8.5  33359\n",
              "...   ... .. .. .. .. ..  ... .. ..     ...       ...                 ...    ...\n",
              "6815    1  1  0  0  0  0  ...  0  0      12     550.0                11.0      0\n",
              "6816    1  0  0  0  0  0  ...  0  0       9       500                21.0      0\n",
              "6817    1  0  0  0  0  1  ...  0  0       4    1500.0                53.0      0\n",
              "6818    1  1  0  0  0  0  ...  0  0      10     850.0               213.0      0\n",
              "6819    1  0  0  0  0  1  ...  0  0       7       200               107.0      0\n",
              "\n",
              "[6820 rows x 30 columns]"
            ]
          },
          "metadata": {},
          "execution_count": 25
        }
      ]
    },
    {
      "cell_type": "code",
      "source": [
        "pre_x_df = pre_df.drop(['success'],axis=1).astype(np.float64)\n",
        "pre_y_df = pre_df['success'].astype(np.float64)\n",
        "print('x shape' ,pre_x_df.shape)\n",
        "print('y shape',pre_y_df.shape)"
      ],
      "metadata": {
        "id": "zZ2cO5hYRrQ6",
        "colab": {
          "base_uri": "https://localhost:8080/"
        },
        "outputId": "f4712694-e8e3-4b2d-c873-f2e20d16deac"
      },
      "execution_count": null,
      "outputs": [
        {
          "output_type": "stream",
          "name": "stdout",
          "text": [
            "x shape (6820, 29)\n",
            "y shape (6820,)\n"
          ]
        }
      ]
    },
    {
      "cell_type": "code",
      "source": [
        "# Split training and test data\n",
        "from sklearn.model_selection import train_test_split\n",
        "pre_X_train, pre_X_test, pre_y_train, pre_y_test = train_test_split(pre_x_df, pre_y_df, test_size=0.2)\n",
        "\n",
        "# Validation data\n",
        "pre_X_train, pre_X_valid, pre_y_train, pre_y_valid = train_test_split(pre_X_train, pre_y_train, test_size=0.1)\n",
        "print(\"X_train:\", pre_X_train.shape)\n",
        "print(\"X_valid:\", pre_X_valid.shape)\n",
        "print(\"X_test:\", pre_X_test.shape)\n",
        "print(\"y_train:\", pre_y_train.shape)\n",
        "print(\"y_test:\", pre_y_test.shape)\n",
        "print(\"y_valid:\", pre_y_valid.shape)"
      ],
      "metadata": {
        "id": "4plxd4W3R-C6",
        "colab": {
          "base_uri": "https://localhost:8080/"
        },
        "outputId": "4b9a07bc-2ad1-457d-861d-f0934ae5a3f7"
      },
      "execution_count": null,
      "outputs": [
        {
          "output_type": "stream",
          "name": "stdout",
          "text": [
            "X_train: (4910, 29)\n",
            "X_valid: (546, 29)\n",
            "X_test: (1364, 29)\n",
            "y_train: (4910,)\n",
            "y_test: (1364,)\n",
            "y_valid: (546,)\n"
          ]
        }
      ]
    },
    {
      "cell_type": "code",
      "source": [
        "pre_df.success.value_counts()"
      ],
      "metadata": {
        "id": "2diZ7QDASJy0",
        "colab": {
          "base_uri": "https://localhost:8080/"
        },
        "outputId": "a72ead11-b705-400c-983f-93b0cdb30c63"
      },
      "execution_count": null,
      "outputs": [
        {
          "output_type": "execute_result",
          "data": {
            "text/plain": [
              "1    3436\n",
              "0    3384\n",
              "Name: success, dtype: int64"
            ]
          },
          "metadata": {},
          "execution_count": 28
        }
      ]
    },
    {
      "cell_type": "code",
      "source": [
        "from google.colab import  drive\n",
        "from google.colab import  files\n",
        "pre_X_train.to_csv('pre_X_train')\n",
        "pre_X_valid.to_csv(\"pre_X_valid\")\n",
        "pre_X_test.to_csv(\"pre_X_test\")\n",
        "pre_y_train.to_csv(\"pre_y_train\")\n",
        "pre_y_test.to_csv(\"pre_y_test\")\n",
        "pre_y_valid.to_csv(\"pre_y_valid\")\n",
        "\n",
        "# files.download(\"X_train\")\n",
        "# files.download(\"X_valid\")\n",
        "# files.download(\"X_test\")\n",
        "# files.download(\"y_train\")\n",
        "# files.download(\"y_test\")\n",
        "# files.download(\"y_valid\")"
      ],
      "metadata": {
        "id": "Du6zhU7rSM_u"
      },
      "execution_count": null,
      "outputs": []
    },
    {
      "cell_type": "markdown",
      "source": [
        "##Ridge Regression"
      ],
      "metadata": {
        "id": "q2KMFJOFSUMX"
      }
    },
    {
      "cell_type": "code",
      "source": [
        "from sklearn.linear_model import Ridge\n",
        "from sklearn.model_selection import GridSearchCV\n",
        "from sklearn.metrics import mean_squared_error\n",
        "\n",
        "ridge = Ridge()\n",
        "tune_params = {'alpha':np.arange(1, 5, 0.1)}\n",
        "gd = GridSearchCV(ridge, tune_params)\n",
        "gd.fit(pre_X_valid, pre_y_valid)\n",
        "\n",
        "alpha = gd.best_params_[\"alpha\"]\n",
        "print(\"best alpha:\", alpha)\n",
        "print(\"==========\")\n",
        "\n",
        "pre_X_valid_train = np.concatenate([pre_X_valid.to_numpy(), pre_X_train.to_numpy()], axis=0)\n",
        "pre_y_valid_train = np.concatenate([pre_y_valid, pre_y_train], axis=0)\n",
        "ridge = Ridge(alpha=alpha)\n",
        "ridge.fit(pre_X_valid_train, pre_y_valid_train)\n",
        "pred_ridge = ridge.predict(pre_X_test)\n",
        "score = ridge.score(pre_X_test, pre_y_test)\n",
        "RMSE = mean_squared_error(pre_y_test, pred_ridge, squared=False)\n",
        "print(\"score =\", score)\n",
        "print(\"RMSE =\", RMSE)"
      ],
      "metadata": {
        "id": "NwfKUuvIST-U",
        "colab": {
          "base_uri": "https://localhost:8080/"
        },
        "outputId": "9dc289cd-e0c1-47ac-fad8-1772918a5636"
      },
      "execution_count": null,
      "outputs": [
        {
          "output_type": "stream",
          "name": "stdout",
          "text": [
            "best alpha: 4.900000000000004\n",
            "==========\n",
            "score = 0.19415642496525864\n",
            "RMSE = 0.4484094929863553\n"
          ]
        },
        {
          "output_type": "stream",
          "name": "stderr",
          "text": [
            "/usr/local/lib/python3.7/dist-packages/sklearn/base.py:439: UserWarning: X has feature names, but Ridge was fitted without feature names\n",
            "  f\"X has feature names, but {self.__class__.__name__} was fitted without\"\n",
            "/usr/local/lib/python3.7/dist-packages/sklearn/base.py:439: UserWarning: X has feature names, but Ridge was fitted without feature names\n",
            "  f\"X has feature names, but {self.__class__.__name__} was fitted without\"\n"
          ]
        }
      ]
    },
    {
      "cell_type": "code",
      "source": [
        "abs_coef_idx = np.flip(np.argsort(np.absolute(ridge.coef_)))\n",
        "print(\"The 10 most important features:\")\n",
        "for i in range(10):\n",
        "    if i != 9:\n",
        "        print(pre_X_train.columns[abs_coef_idx[i]], end=\", \")\n",
        "    else:\n",
        "        print(pre_X_train.columns[abs_coef_idx[i]], end=\"\")"
      ],
      "metadata": {
        "id": "21IRVtbdShfI",
        "colab": {
          "base_uri": "https://localhost:8080/"
        },
        "outputId": "088eec8d-4be9-46d4-ebbc-42fccdca2251"
      },
      "execution_count": null,
      "outputs": [
        {
          "output_type": "stream",
          "name": "stdout",
          "text": [
            "The 10 most important features:\n",
            "挺好店, 表演, 出版, 社會, fb, 音樂, 電影動畫, 遊戲, ig, 時尚"
          ]
        }
      ]
    },
    {
      "cell_type": "code",
      "source": [
        "pre_y_hat_test = ridge.predict(pre_X_test)\n",
        "for i in range(len(pre_y_hat_test)):\n",
        "  if pre_y_hat_test[i] > 0.5:\n",
        "    pre_y_hat_test[i] = 1\n",
        "  else:\n",
        "    pre_y_hat_test[i] = 0"
      ],
      "metadata": {
        "id": "wjlNEc501D2J",
        "colab": {
          "base_uri": "https://localhost:8080/"
        },
        "outputId": "75316be8-2ca9-4fbc-ae52-336a0a048cd0"
      },
      "execution_count": null,
      "outputs": [
        {
          "output_type": "stream",
          "name": "stderr",
          "text": [
            "/usr/local/lib/python3.7/dist-packages/sklearn/base.py:439: UserWarning: X has feature names, but Ridge was fitted without feature names\n",
            "  f\"X has feature names, but {self.__class__.__name__} was fitted without\"\n"
          ]
        }
      ]
    },
    {
      "cell_type": "code",
      "source": [
        "# 視覺化預測結果的confusion matrix\n",
        "from sklearn.metrics import confusion_matrix, classification_report\n",
        "from mlxtend.plotting import plot_confusion_matrix\n",
        "import matplotlib.pyplot as plt\n",
        "\n",
        "print(classification_report(pre_y_test, pre_y_hat_test))\n",
        "cm = confusion_matrix(pre_y_test , pre_y_hat_test)\n",
        "\n",
        "\n",
        "figure, ax = plot_confusion_matrix(conf_mat = cm,\n",
        "                                   show_absolute = False,\n",
        "                                   show_normed = True,\n",
        "                                   colorbar = True)"
      ],
      "metadata": {
        "colab": {
          "base_uri": "https://localhost:8080/",
          "height": 445
        },
        "id": "goCGC0FmVfAA",
        "outputId": "300543c8-0e94-4c58-fe48-352804e488aa"
      },
      "execution_count": null,
      "outputs": [
        {
          "output_type": "stream",
          "name": "stdout",
          "text": [
            "              precision    recall  f1-score   support\n",
            "\n",
            "         0.0       0.72      0.72      0.72       712\n",
            "         1.0       0.70      0.69      0.69       652\n",
            "\n",
            "    accuracy                           0.71      1364\n",
            "   macro avg       0.71      0.71      0.71      1364\n",
            "weighted avg       0.71      0.71      0.71      1364\n",
            "\n"
          ]
        },
        {
          "output_type": "display_data",
          "data": {
            "image/png": "[encoded data removed]",
            "text/plain": [
              "<Figure size 432x288 with 2 Axes>"
            ]
          },
          "metadata": {
            "needs_background": "light"
          }
        }
      ]
    },
    {
      "cell_type": "markdown",
      "source": [
        "## Lasso Regression\n"
      ],
      "metadata": {
        "id": "QQQwm8w6v5A7"
      }
    },
    {
      "cell_type": "code",
      "source": [
        "from sklearn.linear_model import Lasso\n",
        "from sklearn.model_selection import GridSearchCV\n",
        "from sklearn.metrics import mean_squared_error\n",
        "\n",
        "lasso = Lasso()\n",
        "tune_params = {'alpha':np.arange(1, 5, 0.1)}\n",
        "gd = GridSearchCV(ridge, tune_params)\n",
        "gd.fit(pre_X_valid, pre_y_valid)\n",
        "\n",
        "alpha = gd.best_params_[\"alpha\"]\n",
        "print(\"best alpha:\", alpha)\n",
        "print(\"==========\")\n",
        "\n",
        "X_valid_train = np.concatenate([pre_X_valid.to_numpy(), pre_X_train.to_numpy()], axis=0)\n",
        "y_valid_train = np.concatenate([pre_y_valid, pre_y_train], axis=0)\n",
        "lasso = Lasso(alpha=alpha)\n",
        "lasso.fit(pre_X_valid_train, pre_y_valid_train)\n",
        "pred_lasso = lasso.predict(pre_X_test)\n",
        "score = lasso.score(pre_X_test, pre_y_test)\n",
        "RMSE = mean_squared_error(pre_y_test, pred_lasso, squared=False)\n",
        "print(\"score =\", score)\n",
        "print(\"RMSE =\", RMSE)"
      ],
      "metadata": {
        "id": "i3fbrGm-v3sM",
        "colab": {
          "base_uri": "https://localhost:8080/"
        },
        "outputId": "8040b3db-9acb-4da9-c39a-6dd55678ef5a"
      },
      "execution_count": null,
      "outputs": [
        {
          "output_type": "stream",
          "name": "stdout",
          "text": [
            "best alpha: 4.900000000000004\n",
            "==========\n",
            "score = 0.01641659699875153\n",
            "RMSE = 0.49539887987095793\n"
          ]
        },
        {
          "output_type": "stream",
          "name": "stderr",
          "text": [
            "/usr/local/lib/python3.7/dist-packages/sklearn/base.py:439: UserWarning: X has feature names, but Lasso was fitted without feature names\n",
            "  f\"X has feature names, but {self.__class__.__name__} was fitted without\"\n",
            "/usr/local/lib/python3.7/dist-packages/sklearn/base.py:439: UserWarning: X has feature names, but Lasso was fitted without feature names\n",
            "  f\"X has feature names, but {self.__class__.__name__} was fitted without\"\n"
          ]
        }
      ]
    },
    {
      "cell_type": "code",
      "source": [
        "# Find the most important 10 features\n",
        "abs_coef_idx = np.flip(np.argsort(np.absolute(lasso.coef_)))\n",
        "print(\"The 10 most important features:\")\n",
        "for i in range(10):\n",
        "    if i != 9:\n",
        "        print(pre_X_train.columns[abs_coef_idx[i]], end=\", \")\n",
        "    else:\n",
        "        print(pre_X_train.columns[abs_coef_idx[i]], end=\"\")"
      ],
      "metadata": {
        "id": "F-B5L3x2wAhD",
        "colab": {
          "base_uri": "https://localhost:8080/"
        },
        "outputId": "888cd640-56b6-4a73-ee7d-f9942aaf74d6"
      },
      "execution_count": null,
      "outputs": [
        {
          "output_type": "stream",
          "name": "stdout",
          "text": [
            "The 10 most important features:\n",
            "set_price, fb讚, target, 社會, 音樂, 攝影, 出版, 時尚, 設計, 表演"
          ]
        }
      ]
    },
    {
      "cell_type": "code",
      "source": [
        "pre_y_hat_test_lasso = lasso.predict(pre_X_test)\n",
        "for i in range(len(pre_y_hat_test_lasso)):\n",
        "  if pre_y_hat_test_lasso[i] > 0.5:\n",
        "    pre_y_hat_test_lasso[i] = 1\n",
        "  else:\n",
        "    pre_y_hat_test_lasso[i] = 0"
      ],
      "metadata": {
        "colab": {
          "base_uri": "https://localhost:8080/"
        },
        "id": "7PiazcMMV5tP",
        "outputId": "d5b191d8-e4c7-4f90-9ff3-85f60a278f7e"
      },
      "execution_count": null,
      "outputs": [
        {
          "output_type": "stream",
          "name": "stderr",
          "text": [
            "/usr/local/lib/python3.7/dist-packages/sklearn/base.py:439: UserWarning: X has feature names, but Lasso was fitted without feature names\n",
            "  f\"X has feature names, but {self.__class__.__name__} was fitted without\"\n"
          ]
        }
      ]
    },
    {
      "cell_type": "code",
      "source": [
        "# 視覺化預測結果的confusion matrix\n",
        "from sklearn.metrics import confusion_matrix, classification_report\n",
        "from mlxtend.plotting import plot_confusion_matrix\n",
        "import matplotlib.pyplot as plt\n",
        "\n",
        "print(classification_report(pre_y_test, pre_y_hat_test_lasso))\n",
        "cm = confusion_matrix(pre_y_test , pre_y_hat_test_lasso)\n",
        "\n",
        "\n",
        "figure, ax = plot_confusion_matrix(conf_mat = cm,\n",
        "                                   show_absolute = False,\n",
        "                                   show_normed = True,\n",
        "                                   colorbar = True)"
      ],
      "metadata": {
        "colab": {
          "base_uri": "https://localhost:8080/",
          "height": 445
        },
        "id": "G4WuIDKOWDsc",
        "outputId": "3d1235ee-2ac0-4052-ad37-70b5235f1cde"
      },
      "execution_count": null,
      "outputs": [
        {
          "output_type": "stream",
          "name": "stdout",
          "text": [
            "              precision    recall  f1-score   support\n",
            "\n",
            "         0.0       0.77      0.23      0.35       712\n",
            "         1.0       0.52      0.93      0.67       652\n",
            "\n",
            "    accuracy                           0.56      1364\n",
            "   macro avg       0.65      0.58      0.51      1364\n",
            "weighted avg       0.65      0.56      0.50      1364\n",
            "\n"
          ]
        },
        {
          "output_type": "display_data",
          "data": {
            "image/png": "[encoded data removed]",
            "text/plain": [
              "<Figure size 432x288 with 2 Axes>"
            ]
          },
          "metadata": {
            "needs_background": "light"
          }
        }
      ]
    },
    {
      "cell_type": "markdown",
      "source": [
        "##Random Forest"
      ],
      "metadata": {
        "id": "aWgwsCicS24a"
      }
    },
    {
      "cell_type": "code",
      "source": [
        "from sklearn.ensemble import RandomForestClassifier\n",
        "from sklearn.model_selection import GridSearchCV\n",
        "from sklearn.metrics import mean_squared_error\n",
        "\n",
        "RF = RandomForestClassifier(random_state=439)\n",
        "tune_params = {'n_estimators':range(50, 100)}\n",
        "gd = GridSearchCV(RF, tune_params)\n",
        "gd.fit(pre_X_valid, pre_y_valid)\n",
        "\n",
        "n_estimators = gd.best_params_[\"n_estimators\"]\n",
        "print(\"best n_estimators:\", n_estimators)\n",
        "print(\"==========\")\n",
        "\n",
        "pre_X_valid_train = np.concatenate([pre_X_valid.to_numpy(), pre_X_train.to_numpy()], axis=0)\n",
        "pre_y_valid_train = np.concatenate([pre_y_valid, pre_y_train], axis=0)\n",
        "RF = RandomForestClassifier(n_estimators=n_estimators, random_state=439)\n",
        "RF.fit(pre_X_valid_train, pre_y_valid_train)\n",
        "pred_pre_RF = RF.predict(pre_X_test)\n",
        "score = RF.score(pre_X_test, pre_y_test)\n",
        "RMSE = mean_squared_error(pre_y_test, pred_pre_RF, squared=False)\n",
        "print(\"score =\", score)\n",
        "print(\"RMSE =\", RMSE)"
      ],
      "metadata": {
        "id": "p9XKleU4S2rq",
        "colab": {
          "base_uri": "https://localhost:8080/"
        },
        "outputId": "b205159b-7d29-40dd-bfec-6893fe2c8545"
      },
      "execution_count": null,
      "outputs": [
        {
          "output_type": "stream",
          "name": "stdout",
          "text": [
            "best n_estimators: 82\n",
            "==========\n",
            "score = 0.9252199413489736\n",
            "RMSE = 0.2734594277969337\n"
          ]
        },
        {
          "output_type": "stream",
          "name": "stderr",
          "text": [
            "/usr/local/lib/python3.7/dist-packages/sklearn/base.py:439: UserWarning: X has feature names, but RandomForestClassifier was fitted without feature names\n",
            "  f\"X has feature names, but {self.__class__.__name__} was fitted without\"\n",
            "/usr/local/lib/python3.7/dist-packages/sklearn/base.py:439: UserWarning: X has feature names, but RandomForestClassifier was fitted without feature names\n",
            "  f\"X has feature names, but {self.__class__.__name__} was fitted without\"\n"
          ]
        }
      ]
    },
    {
      "cell_type": "code",
      "source": [
        "importance = RF.feature_importances_\n",
        "idx = np.flip(np.argsort(importance))\n",
        "important_10feat = pre_X_train.columns[idx[:10]]\n",
        "print(\"The 10 most important features:\")\n",
        "for i in range(10):\n",
        "    if i != 9:\n",
        "        print(important_10feat[i], end=\", \")\n",
        "    else:\n",
        "        print(important_10feat[i])"
      ],
      "metadata": {
        "id": "I6lHnUqfS6T4",
        "colab": {
          "base_uri": "https://localhost:8080/"
        },
        "outputId": "b71fec37-864a-4d9c-870d-d51994254b7e"
      },
      "execution_count": null,
      "outputs": [
        {
          "output_type": "stream",
          "name": "stdout",
          "text": [
            "The 10 most important features:\n",
            "image, fb讚, target, duration, time_expected, set_price, set_num, video, 群眾募資, fb\n"
          ]
        }
      ]
    },
    {
      "cell_type": "code",
      "source": [
        "# 視覺化預測結果的confusion matrix\n",
        "from sklearn.metrics import confusion_matrix, classification_report\n",
        "from mlxtend.plotting import plot_confusion_matrix\n",
        "import matplotlib.pyplot as plt\n",
        "\n",
        "print(classification_report(pre_y_test, pred_pre_RF))\n",
        "cm = confusion_matrix(pre_y_test , pred_pre_RF)\n",
        "\n",
        "\n",
        "figure, ax = plot_confusion_matrix(conf_mat = cm,\n",
        "                                   show_absolute = False,\n",
        "                                   show_normed = True,\n",
        "                                   colorbar = True)"
      ],
      "metadata": {
        "id": "MmhaxHhIS-5h",
        "colab": {
          "base_uri": "https://localhost:8080/",
          "height": 445
        },
        "outputId": "6cf94ce1-040b-465a-a14f-6060df3a238a"
      },
      "execution_count": null,
      "outputs": [
        {
          "output_type": "stream",
          "name": "stdout",
          "text": [
            "              precision    recall  f1-score   support\n",
            "\n",
            "         0.0       0.90      0.97      0.93       712\n",
            "         1.0       0.96      0.88      0.92       652\n",
            "\n",
            "    accuracy                           0.93      1364\n",
            "   macro avg       0.93      0.92      0.92      1364\n",
            "weighted avg       0.93      0.93      0.92      1364\n",
            "\n"
          ]
        },
        {
          "output_type": "display_data",
          "data": {
            "image/png": "[encoded data removed]",
            "text/plain": [
              "<Figure size 432x288 with 2 Axes>"
            ]
          },
          "metadata": {
            "needs_background": "light"
          }
        }
      ]
    },
    {
      "cell_type": "markdown",
      "source": [
        "#### 12/18-12/31"
      ],
      "metadata": {
        "id": "x3Pr8L5xa_CT"
      }
    },
    {
      "cell_type": "code",
      "source": [
        "pred_RF_test = RF.predict(test_pre_x_df)\n",
        "score = RF.score(test_pre_x_df, test_pre_y_df)\n",
        "RMSE = mean_squared_error(test_pre_y_df, pred_RF_test, squared=False)\n",
        "print(\"score =\", score)\n",
        "print(\"RMSE =\", RMSE)"
      ],
      "metadata": {
        "id": "ZL6pf1kh3ylq",
        "colab": {
          "base_uri": "https://localhost:8080/"
        },
        "outputId": "6c1df84c-6d01-46a7-91b9-786d399edfed"
      },
      "execution_count": null,
      "outputs": [
        {
          "output_type": "stream",
          "name": "stdout",
          "text": [
            "score = 0.7549019607843137\n",
            "RMSE = 0.49507377148833714\n"
          ]
        },
        {
          "output_type": "stream",
          "name": "stderr",
          "text": [
            "/usr/local/lib/python3.7/dist-packages/sklearn/base.py:439: UserWarning: X has feature names, but RandomForestClassifier was fitted without feature names\n",
            "  f\"X has feature names, but {self.__class__.__name__} was fitted without\"\n",
            "/usr/local/lib/python3.7/dist-packages/sklearn/base.py:439: UserWarning: X has feature names, but RandomForestClassifier was fitted without feature names\n",
            "  f\"X has feature names, but {self.__class__.__name__} was fitted without\"\n"
          ]
        }
      ]
    },
    {
      "cell_type": "code",
      "source": [
        "# 視覺化預測結果的confusion matrix\n",
        "from sklearn.metrics import confusion_matrix, classification_report\n",
        "from mlxtend.plotting import plot_confusion_matrix\n",
        "import matplotlib.pyplot as plt\n",
        "\n",
        "print(classification_report(test_pre_y_df, pred_RF_test))\n",
        "cm = confusion_matrix(test_pre_y_df , pred_RF_test)\n",
        "\n",
        "\n",
        "figure, ax = plot_confusion_matrix(conf_mat = cm,\n",
        "                                   show_absolute = False,\n",
        "                                   show_normed = True,\n",
        "                                   colorbar = True)"
      ],
      "metadata": {
        "id": "9GQMV1Mt4Jkx",
        "colab": {
          "base_uri": "https://localhost:8080/",
          "height": 445
        },
        "outputId": "e4779ea7-0e27-47a5-c69a-a0b9ee179f33"
      },
      "execution_count": null,
      "outputs": [
        {
          "output_type": "stream",
          "name": "stdout",
          "text": [
            "              precision    recall  f1-score   support\n",
            "\n",
            "         0.0       0.26      0.31      0.29        16\n",
            "         1.0       0.87      0.84      0.85        86\n",
            "\n",
            "    accuracy                           0.75       102\n",
            "   macro avg       0.57      0.57      0.57       102\n",
            "weighted avg       0.77      0.75      0.76       102\n",
            "\n"
          ]
        },
        {
          "output_type": "display_data",
          "data": {
            "image/png": "[encoded data removed]",
            "text/plain": [
              "<Figure size 432x288 with 2 Axes>"
            ]
          },
          "metadata": {
            "needs_background": "light"
          }
        }
      ]
    },
    {
      "cell_type": "markdown",
      "source": [
        "## Gradient Boosting"
      ],
      "metadata": {
        "id": "dWtIT8vQRiny"
      }
    },
    {
      "cell_type": "code",
      "source": [
        "from sklearn.ensemble import GradientBoostingClassifier\n",
        "from sklearn.model_selection import GridSearchCV\n",
        "from sklearn.metrics import mean_squared_error\n",
        "\n",
        "GBDT = GradientBoostingClassifier(random_state=439)\n",
        "tune_params = {'learning_rate':[0.01, 0.1, 0.2, 0.4, 0.5, 0.8, 1, 2],\n",
        "               'n_estimators':range(80, 200, 10)}\n",
        "gd = GridSearchCV(GBDT, tune_params, scoring='neg_root_mean_squared_error')\n",
        "gd.fit(pre_X_valid, pre_y_valid)\n",
        "\n",
        "learning_rate = gd.best_params_[\"learning_rate\"]\n",
        "n_estimators = gd.best_params_[\"n_estimators\"]\n",
        "print(\"best learning_rate:\", learning_rate)\n",
        "print(\"best n_estimators:\", n_estimators)\n",
        "print(\"==========\")\n",
        "\n",
        "pre_X_valid_train = np.concatenate([pre_X_valid.to_numpy(), pre_X_train.to_numpy()], axis=0)\n",
        "pre_y_valid_train = np.concatenate([pre_y_valid, pre_y_train], axis=0)\n",
        "GBDT = GradientBoostingClassifier(learning_rate=learning_rate, n_estimators=n_estimators,\n",
        "                                 random_state=439)\n",
        "GBDT.fit(pre_X_valid_train, pre_y_valid_train)\n",
        "pred_pre_gb = GBDT.predict(pre_X_test)\n",
        "score = GBDT.score(pre_X_test, pre_y_test)\n",
        "RMSE = mean_squared_error(pre_y_test, pred_pre_gb, squared=False)\n",
        "print(\"score =\", score)\n",
        "print(\"RMSE =\", RMSE)"
      ],
      "metadata": {
        "colab": {
          "base_uri": "https://localhost:8080/"
        },
        "id": "0hfhv_ypRh6L",
        "outputId": "d3dfc22f-2714-4894-94a6-ca3e184a1045"
      },
      "execution_count": null,
      "outputs": [
        {
          "output_type": "stream",
          "name": "stdout",
          "text": [
            "best learning_rate: 0.1\n",
            "best n_estimators: 150\n",
            "==========\n",
            "score = 0.7881231671554252\n",
            "RMSE = 0.4603008069128\n"
          ]
        },
        {
          "output_type": "stream",
          "name": "stderr",
          "text": [
            "/usr/local/lib/python3.7/dist-packages/sklearn/base.py:439: UserWarning: X has feature names, but GradientBoostingClassifier was fitted without feature names\n",
            "  f\"X has feature names, but {self.__class__.__name__} was fitted without\"\n",
            "/usr/local/lib/python3.7/dist-packages/sklearn/base.py:439: UserWarning: X has feature names, but GradientBoostingClassifier was fitted without feature names\n",
            "  f\"X has feature names, but {self.__class__.__name__} was fitted without\"\n"
          ]
        }
      ]
    },
    {
      "cell_type": "code",
      "source": [
        "# 視覺化預測結果的confusion matrix\n",
        "from sklearn.metrics import confusion_matrix, classification_report\n",
        "from mlxtend.plotting import plot_confusion_matrix\n",
        "import matplotlib.pyplot as plt\n",
        "\n",
        "print(classification_report(pre_y_test, pred_pre_gb))\n",
        "cm = confusion_matrix(pre_y_test , pred_pre_gb)\n",
        "\n",
        "\n",
        "figure, ax = plot_confusion_matrix(conf_mat = cm,\n",
        "                                   show_absolute = False,\n",
        "                                   show_normed = True,\n",
        "                                   colorbar = True)"
      ],
      "metadata": {
        "colab": {
          "base_uri": "https://localhost:8080/",
          "height": 445
        },
        "id": "B0cTcuiiS1Nn",
        "outputId": "3a103830-3381-440c-a068-704482177e9e"
      },
      "execution_count": null,
      "outputs": [
        {
          "output_type": "stream",
          "name": "stdout",
          "text": [
            "              precision    recall  f1-score   support\n",
            "\n",
            "         0.0       0.80      0.80      0.80       712\n",
            "         1.0       0.78      0.78      0.78       652\n",
            "\n",
            "    accuracy                           0.79      1364\n",
            "   macro avg       0.79      0.79      0.79      1364\n",
            "weighted avg       0.79      0.79      0.79      1364\n",
            "\n"
          ]
        },
        {
          "output_type": "display_data",
          "data": {
            "image/png": "[encoded data removed]",
            "text/plain": [
              "<Figure size 432x288 with 2 Axes>"
            ]
          },
          "metadata": {
            "needs_background": "light"
          }
        }
      ]
    },
    {
      "cell_type": "markdown",
      "source": [
        "## XGB"
      ],
      "metadata": {
        "id": "oDALRzzSTaDu"
      }
    },
    {
      "cell_type": "code",
      "source": [
        "from xgboost import XGBClassifier\n",
        "from sklearn.model_selection import GridSearchCV\n",
        "from sklearn.metrics import mean_squared_error\n",
        "\n",
        "xgb = XGBClassifier()\n",
        "tune_params = {\"n_estimators\":range(1, 50)}\n",
        "gd = GridSearchCV(xgb, tune_params, scoring='neg_root_mean_squared_error')\n",
        "gd.fit(pre_X_valid, pre_y_valid)\n",
        "\n",
        "n_estimators = gd.best_params_[\"n_estimators\"]\n",
        "print(\"best n_estimators:\", n_estimators)\n",
        "print(\"==========\")\n",
        "\n",
        "pre_X_valid_train = np.concatenate([pre_X_valid.to_numpy(), pre_X_train.to_numpy()], axis=0)\n",
        "pre_y_valid_train = np.concatenate([pre_y_valid, pre_y_train], axis=0)\n",
        "xgb = XGBClassifier(n_estimators=n_estimators,learning_rate=0.3)\n",
        "xgb.fit(pre_X_valid_train, pre_y_valid_train)\n",
        "pred_pre_xgb = xgb.predict(np.array(pre_X_test))\n",
        "RMSE = mean_squared_error(pre_y_test, pred_pre_xgb, squared=False)\n",
        "print(\"score =\", score)\n",
        "print(\"RMSE =\", RMSE)"
      ],
      "metadata": {
        "colab": {
          "base_uri": "https://localhost:8080/"
        },
        "id": "JrX7fJ1uTYuv",
        "outputId": "033b4942-b699-4f6c-a48e-afbf03de7f1a"
      },
      "execution_count": null,
      "outputs": [
        {
          "output_type": "stream",
          "name": "stdout",
          "text": [
            "best n_estimators: 22\n",
            "==========\n",
            "score = 0.7881231671554252\n",
            "RMSE = 0.49558165121453784\n"
          ]
        }
      ]
    },
    {
      "cell_type": "code",
      "source": [
        "from sklearn.metrics import confusion_matrix, classification_report\n",
        "from mlxtend.plotting import plot_confusion_matrix\n",
        "import matplotlib.pyplot as plt\n",
        "\n",
        "print(classification_report(pre_y_test, pred_pre_xgb))\n",
        "cm = confusion_matrix(pre_y_test , pred_pre_xgb)\n",
        "\n",
        "\n",
        "figure, ax = plot_confusion_matrix(conf_mat = cm,\n",
        "                                   show_absolute = False,\n",
        "                                   show_normed = True,\n",
        "                                   colorbar = True)"
      ],
      "metadata": {
        "colab": {
          "base_uri": "https://localhost:8080/",
          "height": 445
        },
        "id": "DExVuYDYUMFY",
        "outputId": "3c4a6d74-d157-435f-8755-cf3206f378f6"
      },
      "execution_count": null,
      "outputs": [
        {
          "output_type": "stream",
          "name": "stdout",
          "text": [
            "              precision    recall  f1-score   support\n",
            "\n",
            "         0.0       0.77      0.76      0.76       712\n",
            "         1.0       0.74      0.75      0.74       652\n",
            "\n",
            "    accuracy                           0.75      1364\n",
            "   macro avg       0.75      0.75      0.75      1364\n",
            "weighted avg       0.75      0.75      0.75      1364\n",
            "\n"
          ]
        },
        {
          "output_type": "display_data",
          "data": {
            "image/png": "[encoded data removed]",
            "text/plain": [
              "<Figure size 432x288 with 2 Axes>"
            ]
          },
          "metadata": {
            "needs_background": "light"
          }
        }
      ]
    },
    {
      "cell_type": "markdown",
      "source": [
        "# 途中預測"
      ],
      "metadata": {
        "id": "VAnkzCfBRta0"
      }
    },
    {
      "cell_type": "code",
      "source": [
        "x_df = df.drop(['success'],axis=1).astype(np.float64)\n",
        "y_df = df['success'].astype(np.float64)\n",
        "print('x shape',x_df.shape)\n",
        "print('y shape',y_df.shape)"
      ],
      "metadata": {
        "id": "iUH4kF_8uZvB",
        "colab": {
          "base_uri": "https://localhost:8080/"
        },
        "outputId": "fb1812f7-c7d3-442a-db7f-3ddbbab9fa98"
      },
      "execution_count": null,
      "outputs": [
        {
          "output_type": "stream",
          "name": "stdout",
          "text": [
            "x shape (6820, 32)\n",
            "y shape (6820,)\n"
          ]
        }
      ]
    },
    {
      "cell_type": "code",
      "source": [
        "# Split training and test data\n",
        "from sklearn.model_selection import train_test_split\n",
        "X_train, X_test, y_train, y_test = train_test_split(x_df, y_df, test_size=0.2)\n",
        "\n",
        "# Validation data\n",
        "X_train, X_valid, y_train, y_valid = train_test_split(X_train, y_train, test_size=0.1)\n",
        "print(\"X_train:\", X_train.shape)\n",
        "print(\"X_valid:\", X_valid.shape)\n",
        "print(\"X_test:\", X_test.shape)\n",
        "print(\"y_train:\", y_train.shape)\n",
        "print(\"y_test:\", y_test.shape)\n",
        "print(\"y_valid:\", y_valid.shape)"
      ],
      "metadata": {
        "id": "n4Luhy1qqpfK",
        "colab": {
          "base_uri": "https://localhost:8080/"
        },
        "outputId": "33376fa6-74fa-413d-fc90-9dd1ce1d4cff"
      },
      "execution_count": null,
      "outputs": [
        {
          "output_type": "stream",
          "name": "stdout",
          "text": [
            "X_train: (4910, 32)\n",
            "X_valid: (546, 32)\n",
            "X_test: (1364, 32)\n",
            "y_train: (4910,)\n",
            "y_test: (1364,)\n",
            "y_valid: (546,)\n"
          ]
        }
      ]
    },
    {
      "cell_type": "code",
      "source": [
        "df.success.value_counts()"
      ],
      "metadata": {
        "id": "WwUyhi92IxMS",
        "colab": {
          "base_uri": "https://localhost:8080/"
        },
        "outputId": "4090d745-db08-4448-9ca8-d04d9607ee65"
      },
      "execution_count": null,
      "outputs": [
        {
          "output_type": "execute_result",
          "data": {
            "text/plain": [
              "1    3436\n",
              "0    3384\n",
              "Name: success, dtype: int64"
            ]
          },
          "metadata": {},
          "execution_count": 42
        }
      ]
    },
    {
      "cell_type": "code",
      "source": [
        "from google.colab import  drive\n",
        "from google.colab import  files\n",
        "X_train.to_csv('X_train')\n",
        "X_valid.to_csv(\"X_valid\")\n",
        "X_test.to_csv(\"X_test\")\n",
        "y_train.to_csv(\"y_train\")\n",
        "y_test.to_csv(\"y_test\")\n",
        "y_valid.to_csv(\"y_valid\")\n",
        "\n",
        "# files.download(\"X_train\")\n",
        "# files.download(\"X_valid\")\n",
        "# files.download(\"X_test\")\n",
        "# files.download(\"y_train\")\n",
        "# files.download(\"y_test\")\n",
        "# files.download(\"y_valid\")"
      ],
      "metadata": {
        "id": "p4gzZuryrkgY"
      },
      "execution_count": null,
      "outputs": []
    },
    {
      "cell_type": "markdown",
      "source": [
        "### Ridge Regression"
      ],
      "metadata": {
        "id": "kwOIUALvt7Tx"
      }
    },
    {
      "cell_type": "code",
      "source": [
        "from sklearn.linear_model import Ridge\n",
        "from sklearn.model_selection import GridSearchCV\n",
        "from sklearn.metrics import mean_squared_error\n",
        "\n",
        "ridge = Ridge()\n",
        "tune_params = {'alpha':np.arange(1, 5, 0.1)}\n",
        "gd = GridSearchCV(ridge, tune_params)\n",
        "gd.fit(X_valid, y_valid)\n",
        "\n",
        "alpha = gd.best_params_[\"alpha\"]\n",
        "print(\"best alpha:\", alpha)\n",
        "print(\"==========\")\n",
        "\n",
        "X_valid_train = np.concatenate([X_valid.to_numpy(), X_train.to_numpy()], axis=0)\n",
        "y_valid_train = np.concatenate([y_valid, y_train], axis=0)\n",
        "ridge = Ridge(alpha=alpha)\n",
        "ridge.fit(X_valid_train, y_valid_train)\n",
        "pred_ridge = ridge.predict(X_test)\n",
        "score = ridge.score(X_test, y_test)\n",
        "RMSE = mean_squared_error(y_test, pred_ridge, squared=False)\n",
        "print(\"score =\", score)\n",
        "print(\"RMSE =\", RMSE)"
      ],
      "metadata": {
        "id": "5ATZLNk1r-nq",
        "colab": {
          "base_uri": "https://localhost:8080/"
        },
        "outputId": "24bc0d9f-e739-4c6c-d408-2eb1876b4417"
      },
      "execution_count": null,
      "outputs": [
        {
          "output_type": "stream",
          "name": "stdout",
          "text": [
            "best alpha: 4.900000000000004\n",
            "==========\n",
            "score = 0.20582860320190866\n",
            "RMSE = 0.4455795571605179\n"
          ]
        },
        {
          "output_type": "stream",
          "name": "stderr",
          "text": [
            "/usr/local/lib/python3.7/dist-packages/sklearn/base.py:439: UserWarning: X has feature names, but Ridge was fitted without feature names\n",
            "  f\"X has feature names, but {self.__class__.__name__} was fitted without\"\n",
            "/usr/local/lib/python3.7/dist-packages/sklearn/base.py:439: UserWarning: X has feature names, but Ridge was fitted without feature names\n",
            "  f\"X has feature names, but {self.__class__.__name__} was fitted without\"\n"
          ]
        }
      ]
    },
    {
      "cell_type": "code",
      "source": [
        "abs_coef_idx = np.flip(np.argsort(np.absolute(ridge.coef_)))\n",
        "print(\"The 10 most important features:\")\n",
        "for i in range(10):\n",
        "    if i != 9:\n",
        "        print(X_train.columns[abs_coef_idx[i]], end=\", \")\n",
        "    else:\n",
        "        print(X_train.columns[abs_coef_idx[i]], end=\"\")"
      ],
      "metadata": {
        "id": "kioXHFdft3yc",
        "colab": {
          "base_uri": "https://localhost:8080/"
        },
        "outputId": "fd99e8ad-9a11-4984-8f22-d96d58151adb"
      },
      "execution_count": null,
      "outputs": [
        {
          "output_type": "stream",
          "name": "stdout",
          "text": [
            "The 10 most important features:\n",
            "挺好店, 社會, 表演, 電影動畫, 出版, fb, 音樂, 教育, 地方創生, 遊戲"
          ]
        }
      ]
    },
    {
      "cell_type": "code",
      "source": [
        "y_hat_test = ridge.predict(X_test)\n",
        "for i in range(len(y_hat_test)):\n",
        "  if y_hat_test[i] > 0.5:\n",
        "    y_hat_test[i] = 1\n",
        "  else:\n",
        "    y_hat_test[i] = 0"
      ],
      "metadata": {
        "id": "e19JzvF-DDkb",
        "colab": {
          "base_uri": "https://localhost:8080/"
        },
        "outputId": "82646acd-e356-4212-ad26-9bad620acba6"
      },
      "execution_count": null,
      "outputs": [
        {
          "output_type": "stream",
          "name": "stderr",
          "text": [
            "/usr/local/lib/python3.7/dist-packages/sklearn/base.py:439: UserWarning: X has feature names, but Ridge was fitted without feature names\n",
            "  f\"X has feature names, but {self.__class__.__name__} was fitted without\"\n"
          ]
        }
      ]
    },
    {
      "cell_type": "code",
      "source": [
        "# 視覺化預測結果的confusion matrix\n",
        "from sklearn.metrics import confusion_matrix, classification_report\n",
        "from mlxtend.plotting import plot_confusion_matrix\n",
        "import matplotlib.pyplot as plt\n",
        "\n",
        "print(classification_report(y_test, y_hat_test))\n",
        "cm = confusion_matrix(y_test , y_hat_test)\n",
        "\n",
        "\n",
        "figure, ax = plot_confusion_matrix(conf_mat = cm,\n",
        "                                   show_absolute = False,\n",
        "                                   show_normed = True,\n",
        "                                   colorbar = True)"
      ],
      "metadata": {
        "id": "_BPY2ZqJBbPV",
        "colab": {
          "base_uri": "https://localhost:8080/",
          "height": 445
        },
        "outputId": "a1b1cad5-92a6-47e5-e300-248ac70e6bc9"
      },
      "execution_count": null,
      "outputs": [
        {
          "output_type": "stream",
          "name": "stdout",
          "text": [
            "              precision    recall  f1-score   support\n",
            "\n",
            "         0.0       0.70      0.76      0.73       684\n",
            "         1.0       0.74      0.67      0.70       680\n",
            "\n",
            "    accuracy                           0.72      1364\n",
            "   macro avg       0.72      0.72      0.72      1364\n",
            "weighted avg       0.72      0.72      0.72      1364\n",
            "\n"
          ]
        },
        {
          "output_type": "display_data",
          "data": {
            "image/png": "[encoded data removed]",
            "text/plain": [
              "<Figure size 432x288 with 2 Axes>"
            ]
          },
          "metadata": {
            "needs_background": "light"
          }
        }
      ]
    },
    {
      "cell_type": "markdown",
      "source": [
        "### Lasso Regression"
      ],
      "metadata": {
        "id": "LSg4eulJvAEZ"
      }
    },
    {
      "cell_type": "code",
      "source": [
        "from sklearn.linear_model import Lasso\n",
        "from sklearn.model_selection import GridSearchCV\n",
        "from sklearn.metrics import mean_squared_error\n",
        "\n",
        "lasso = Lasso()\n",
        "tune_params = {'alpha':np.arange(1, 5, 0.1)}\n",
        "gd = GridSearchCV(ridge, tune_params)\n",
        "gd.fit(X_valid, y_valid)\n",
        "\n",
        "alpha = gd.best_params_[\"alpha\"]\n",
        "print(\"best alpha:\", alpha)\n",
        "print(\"==========\")\n",
        "\n",
        "X_valid_train = np.concatenate([X_valid.to_numpy(), X_train.to_numpy()], axis=0)\n",
        "y_valid_train = np.concatenate([y_valid, y_train], axis=0)\n",
        "lasso = Lasso(alpha=alpha)\n",
        "lasso.fit(X_valid_train, y_valid_train)\n",
        "pred_lasso = lasso.predict(X_test)\n",
        "score = lasso.score(X_test, y_test)\n",
        "RMSE = mean_squared_error(y_test, pred_lasso, squared=False)\n",
        "print(\"score =\", score)\n",
        "print(\"RMSE =\", RMSE)"
      ],
      "metadata": {
        "id": "9l-BsUEHu_Nh",
        "colab": {
          "base_uri": "https://localhost:8080/"
        },
        "outputId": "f959df10-6b1b-425c-9711-ca93427f2b4a"
      },
      "execution_count": null,
      "outputs": [
        {
          "output_type": "stream",
          "name": "stdout",
          "text": [
            "best alpha: 4.900000000000004\n",
            "==========\n",
            "score = 0.09620571373005604\n",
            "RMSE = 0.4753384356876965\n"
          ]
        },
        {
          "output_type": "stream",
          "name": "stderr",
          "text": [
            "/usr/local/lib/python3.7/dist-packages/sklearn/base.py:439: UserWarning: X has feature names, but Lasso was fitted without feature names\n",
            "  f\"X has feature names, but {self.__class__.__name__} was fitted without\"\n",
            "/usr/local/lib/python3.7/dist-packages/sklearn/base.py:439: UserWarning: X has feature names, but Lasso was fitted without feature names\n",
            "  f\"X has feature names, but {self.__class__.__name__} was fitted without\"\n"
          ]
        }
      ]
    },
    {
      "cell_type": "code",
      "source": [
        "# Find the most important 10 features\n",
        "abs_coef_idx = np.flip(np.argsort(np.absolute(lasso.coef_)))\n",
        "print(\"The 10 most important features:\")\n",
        "for i in range(10):\n",
        "    if i != 9:\n",
        "        print(X_train.columns[abs_coef_idx[i]], end=\", \")\n",
        "    else:\n",
        "        print(X_train.columns[abs_coef_idx[i]], end=\"\")"
      ],
      "metadata": {
        "id": "-_N_oS10vJqc",
        "colab": {
          "base_uri": "https://localhost:8080/"
        },
        "outputId": "559eded4-061d-4fe7-ecc1-92e48ef70f2e"
      },
      "execution_count": null,
      "outputs": [
        {
          "output_type": "stream",
          "name": "stdout",
          "text": [
            "The 10 most important features:\n",
            "sponsor_num, set_price, fb讚, target, 藝術, 飲食, 遊戲, 教育, 科技, 表演"
          ]
        }
      ]
    },
    {
      "cell_type": "code",
      "source": [
        "y_hat_test_lasso = lasso.predict(X_test)\n",
        "for i in range(len(y_hat_test_lasso)):\n",
        "  if y_hat_test_lasso[i] > 0.5:\n",
        "    y_hat_test_lasso[i] = 1\n",
        "  else:\n",
        "    y_hat_test_lasso[i] = 0"
      ],
      "metadata": {
        "colab": {
          "base_uri": "https://localhost:8080/"
        },
        "id": "eFHBYw1fPpnR",
        "outputId": "f32facb2-725a-49a6-eac8-8c2452277625"
      },
      "execution_count": null,
      "outputs": [
        {
          "output_type": "stream",
          "name": "stderr",
          "text": [
            "/usr/local/lib/python3.7/dist-packages/sklearn/base.py:439: UserWarning: X has feature names, but Lasso was fitted without feature names\n",
            "  f\"X has feature names, but {self.__class__.__name__} was fitted without\"\n"
          ]
        }
      ]
    },
    {
      "cell_type": "code",
      "source": [
        "# 視覺化預測結果的confusion matrix\n",
        "from sklearn.metrics import confusion_matrix, classification_report\n",
        "from mlxtend.plotting import plot_confusion_matrix\n",
        "import matplotlib.pyplot as plt\n",
        "\n",
        "print(classification_report(y_test, y_hat_test_lasso))\n",
        "cm = confusion_matrix(y_test , y_hat_test_lasso)\n",
        "\n",
        "\n",
        "figure, ax = plot_confusion_matrix(conf_mat = cm,\n",
        "                                   show_absolute = False,\n",
        "                                   show_normed = True,\n",
        "                                   colorbar = True)"
      ],
      "metadata": {
        "colab": {
          "base_uri": "https://localhost:8080/",
          "height": 445
        },
        "id": "aOXCv8H8PYlx",
        "outputId": "08e35c67-b2f9-426a-85fe-f78c682f18db"
      },
      "execution_count": null,
      "outputs": [
        {
          "output_type": "stream",
          "name": "stdout",
          "text": [
            "              precision    recall  f1-score   support\n",
            "\n",
            "         0.0       0.64      1.00      0.78       684\n",
            "         1.0       1.00      0.44      0.61       680\n",
            "\n",
            "    accuracy                           0.72      1364\n",
            "   macro avg       0.82      0.72      0.70      1364\n",
            "weighted avg       0.82      0.72      0.70      1364\n",
            "\n"
          ]
        },
        {
          "output_type": "display_data",
          "data": {
            "image/png": "[encoded data removed]",
            "text/plain": [
              "<Figure size 432x288 with 2 Axes>"
            ]
          },
          "metadata": {
            "needs_background": "light"
          }
        }
      ]
    },
    {
      "cell_type": "markdown",
      "source": [
        "### Random Forest Method"
      ],
      "metadata": {
        "id": "aIhAC3K0vOfI"
      }
    },
    {
      "cell_type": "code",
      "source": [
        "from sklearn.ensemble import RandomForestClassifier\n",
        "from sklearn.model_selection import GridSearchCV\n",
        "from sklearn.metrics import mean_squared_error\n",
        "\n",
        "RF = RandomForestClassifier(random_state=439)\n",
        "tune_params = {'n_estimators':range(50, 100)}\n",
        "gd = GridSearchCV(RF, tune_params)\n",
        "gd.fit(X_valid, y_valid)\n",
        "\n",
        "n_estimators = gd.best_params_[\"n_estimators\"]\n",
        "print(\"best n_estimators:\", n_estimators)\n",
        "print(\"==========\")\n",
        "\n",
        "X_valid_train = np.concatenate([X_valid.to_numpy(), X_train.to_numpy()], axis=0)\n",
        "y_valid_train = np.concatenate([y_valid, y_train], axis=0)\n",
        "RF = RandomForestClassifier(n_estimators=n_estimators, random_state=439)\n",
        "RF.fit(X_valid_train, y_valid_train)\n",
        "pred_RF = RF.predict(X_test)\n",
        "score = RF.score(X_test, y_test)\n",
        "RMSE = mean_squared_error(y_test, pred_RF, squared=False)\n",
        "print(\"score =\", score)\n",
        "print(\"RMSE =\", RMSE)"
      ],
      "metadata": {
        "id": "Hs0ok_wuvMka",
        "colab": {
          "base_uri": "https://localhost:8080/"
        },
        "outputId": "bf6aa794-3d27-4894-e586-2cddd4fee7ff"
      },
      "execution_count": null,
      "outputs": [
        {
          "output_type": "stream",
          "name": "stdout",
          "text": [
            "best n_estimators: 76\n",
            "==========\n",
            "score = 0.9721407624633431\n",
            "RMSE = 0.1669108670418343\n"
          ]
        },
        {
          "output_type": "stream",
          "name": "stderr",
          "text": [
            "/usr/local/lib/python3.7/dist-packages/sklearn/base.py:439: UserWarning: X has feature names, but RandomForestClassifier was fitted without feature names\n",
            "  f\"X has feature names, but {self.__class__.__name__} was fitted without\"\n",
            "/usr/local/lib/python3.7/dist-packages/sklearn/base.py:439: UserWarning: X has feature names, but RandomForestClassifier was fitted without feature names\n",
            "  f\"X has feature names, but {self.__class__.__name__} was fitted without\"\n"
          ]
        }
      ]
    },
    {
      "cell_type": "code",
      "source": [
        "importance = RF.feature_importances_\n",
        "idx = np.flip(np.argsort(importance))\n",
        "important_10feat = X_train.columns[idx[:10]]\n",
        "print(\"The 10 most important features:\")\n",
        "for i in range(10):\n",
        "    if i != 9:\n",
        "        print(important_10feat[i], end=\", \")\n",
        "    else:\n",
        "        print(important_10feat[i])"
      ],
      "metadata": {
        "id": "08zREXqmvX-s",
        "colab": {
          "base_uri": "https://localhost:8080/"
        },
        "outputId": "28bf5ccd-2b93-492c-e84c-d7b093fb8a6e"
      },
      "execution_count": null,
      "outputs": [
        {
          "output_type": "stream",
          "name": "stdout",
          "text": [
            "The 10 most important features:\n",
            "sponsor_num, comment_num, target, image, fb讚, set_price, time_expected, duration, set_num, QA_num\n"
          ]
        }
      ]
    },
    {
      "cell_type": "code",
      "source": [
        "# 視覺化預測結果的confusion matrix\n",
        "from sklearn.metrics import confusion_matrix, classification_report\n",
        "from mlxtend.plotting import plot_confusion_matrix\n",
        "import matplotlib.pyplot as plt\n",
        "\n",
        "print(classification_report(y_test, pred_RF))\n",
        "cm = confusion_matrix(y_test , pred_RF)\n",
        "\n",
        "\n",
        "figure, ax = plot_confusion_matrix(conf_mat = cm,\n",
        "                                   show_absolute = False,\n",
        "                                   show_normed = True,\n",
        "                                   colorbar = True)"
      ],
      "metadata": {
        "id": "OtwON_cpUj5W",
        "colab": {
          "base_uri": "https://localhost:8080/",
          "height": 448
        },
        "outputId": "d136cd62-07f8-450d-b58c-3c0016d8237d"
      },
      "execution_count": null,
      "outputs": [
        {
          "output_type": "stream",
          "name": "stdout",
          "text": [
            "              precision    recall  f1-score   support\n",
            "\n",
            "         0.0       0.95      1.00      0.97       684\n",
            "         1.0       1.00      0.94      0.97       680\n",
            "\n",
            "    accuracy                           0.97      1364\n",
            "   macro avg       0.97      0.97      0.97      1364\n",
            "weighted avg       0.97      0.97      0.97      1364\n",
            "\n"
          ]
        },
        {
          "output_type": "display_data",
          "data": {
            "image/png": "[encoded data removed]",
            "text/plain": [
              "<Figure size 432x288 with 2 Axes>"
            ]
          },
          "metadata": {
            "needs_background": "light"
          }
        }
      ]
    },
    {
      "cell_type": "code",
      "source": [
        "pred_RF_test = RF.predict(test_x_df)\n",
        "score = RF.score(test_x_df, test_y_df)\n",
        "RMSE = mean_squared_error(test_y_df, pred_RF_test, squared=False)\n",
        "print(\"score =\", score)\n",
        "print(\"RMSE =\", RMSE)"
      ],
      "metadata": {
        "id": "v9PDR8nP5xh5",
        "colab": {
          "base_uri": "https://localhost:8080/"
        },
        "outputId": "30b62e97-d1f9-4794-e584-4abc8f6b3b37"
      },
      "execution_count": null,
      "outputs": [
        {
          "output_type": "stream",
          "name": "stdout",
          "text": [
            "score = 0.8333333333333334\n",
            "RMSE = 0.408248290463863\n"
          ]
        },
        {
          "output_type": "stream",
          "name": "stderr",
          "text": [
            "/usr/local/lib/python3.7/dist-packages/sklearn/base.py:439: UserWarning: X has feature names, but RandomForestClassifier was fitted without feature names\n",
            "  f\"X has feature names, but {self.__class__.__name__} was fitted without\"\n",
            "/usr/local/lib/python3.7/dist-packages/sklearn/base.py:439: UserWarning: X has feature names, but RandomForestClassifier was fitted without feature names\n",
            "  f\"X has feature names, but {self.__class__.__name__} was fitted without\"\n"
          ]
        }
      ]
    },
    {
      "cell_type": "markdown",
      "source": [
        "#### 12/18-12/31"
      ],
      "metadata": {
        "id": "1x_DNB8_ax2H"
      }
    },
    {
      "cell_type": "code",
      "source": [
        "# 視覺化預測結果的confusion matrix\n",
        "from sklearn.metrics import confusion_matrix, classification_report\n",
        "from mlxtend.plotting import plot_confusion_matrix\n",
        "import matplotlib.pyplot as plt\n",
        "\n",
        "print(classification_report(test_y_df, pred_RF_test))\n",
        "cm = confusion_matrix(test_y_df , pred_RF_test)\n",
        "\n",
        "\n",
        "figure, ax = plot_confusion_matrix(conf_mat = cm,\n",
        "                                   show_absolute = False,\n",
        "                                   show_normed = True,\n",
        "                                   colorbar = True)"
      ],
      "metadata": {
        "id": "SgrV20ORZ2Tn",
        "colab": {
          "base_uri": "https://localhost:8080/",
          "height": 445
        },
        "outputId": "109ae9af-d4f6-42dd-9df0-700c57f87d4a"
      },
      "execution_count": null,
      "outputs": [
        {
          "output_type": "stream",
          "name": "stdout",
          "text": [
            "              precision    recall  f1-score   support\n",
            "\n",
            "         0.0       0.48      0.88      0.62        16\n",
            "         1.0       0.97      0.83      0.89        86\n",
            "\n",
            "    accuracy                           0.83       102\n",
            "   macro avg       0.73      0.85      0.76       102\n",
            "weighted avg       0.90      0.83      0.85       102\n",
            "\n"
          ]
        },
        {
          "output_type": "display_data",
          "data": {
            "image/png": "[encoded data removed]",
            "text/plain": [
              "<Figure size 432x288 with 2 Axes>"
            ]
          },
          "metadata": {
            "needs_background": "light"
          }
        }
      ]
    },
    {
      "cell_type": "markdown",
      "source": [
        "### Gradient Boosting"
      ],
      "metadata": {
        "id": "IrsO-UpZyOTm"
      }
    },
    {
      "cell_type": "code",
      "source": [
        "from sklearn.ensemble import GradientBoostingClassifier\n",
        "from sklearn.model_selection import GridSearchCV\n",
        "from sklearn.metrics import mean_squared_error\n",
        "\n",
        "GBDT = GradientBoostingClassifier(random_state=439)\n",
        "tune_params = {'learning_rate':[0.01, 0.1, 0.2, 0.4, 0.5, 0.8, 1, 2],\n",
        "               'n_estimators':range(80, 200, 10)}\n",
        "gd = GridSearchCV(GBDT, tune_params, scoring='neg_root_mean_squared_error')\n",
        "gd.fit(X_valid, y_valid)\n",
        "\n",
        "learning_rate = gd.best_params_[\"learning_rate\"]\n",
        "n_estimators = gd.best_params_[\"n_estimators\"]\n",
        "print(\"best learning_rate:\", learning_rate)\n",
        "print(\"best n_estimators:\", n_estimators)\n",
        "print(\"==========\")\n",
        "\n",
        "X_valid_train = np.concatenate([X_valid.to_numpy(), X_train.to_numpy()], axis=0)\n",
        "y_valid_train = np.concatenate([y_valid, y_train], axis=0)\n",
        "GBDT = GradientBoostingClassifier(learning_rate=learning_rate, n_estimators=n_estimators,\n",
        "                                 random_state=439)\n",
        "GBDT.fit(X_valid_train, y_valid_train)\n",
        "pred_gb = GBDT.predict(X_test)\n",
        "score = GBDT.score(X_test, y_test)\n",
        "RMSE = mean_squared_error(y_test, pred_gb, squared=False)\n",
        "print(\"score =\", score)\n",
        "print(\"RMSE =\", RMSE)"
      ],
      "metadata": {
        "id": "9XQMbl6ayN2q",
        "colab": {
          "base_uri": "https://localhost:8080/"
        },
        "outputId": "57e2305a-bc93-455f-9fbe-54d1bdd517aa"
      },
      "execution_count": null,
      "outputs": [
        {
          "output_type": "stream",
          "name": "stdout",
          "text": [
            "best learning_rate: 0.2\n",
            "best n_estimators: 190\n",
            "==========\n",
            "score = 0.9750733137829912\n",
            "RMSE = 0.1578818742510007\n"
          ]
        },
        {
          "output_type": "stream",
          "name": "stderr",
          "text": [
            "/usr/local/lib/python3.7/dist-packages/sklearn/base.py:439: UserWarning: X has feature names, but GradientBoostingClassifier was fitted without feature names\n",
            "  f\"X has feature names, but {self.__class__.__name__} was fitted without\"\n",
            "/usr/local/lib/python3.7/dist-packages/sklearn/base.py:439: UserWarning: X has feature names, but GradientBoostingClassifier was fitted without feature names\n",
            "  f\"X has feature names, but {self.__class__.__name__} was fitted without\"\n"
          ]
        }
      ]
    },
    {
      "cell_type": "code",
      "source": [
        "# 視覺化預測結果的confusion matrix\n",
        "from sklearn.metrics import confusion_matrix, classification_report\n",
        "from mlxtend.plotting import plot_confusion_matrix\n",
        "import matplotlib.pyplot as plt\n",
        "\n",
        "print(classification_report(y_test, pred_gb))\n",
        "cm = confusion_matrix(y_test , pred_gb)\n",
        "\n",
        "\n",
        "figure, ax = plot_confusion_matrix(conf_mat = cm,\n",
        "                                   show_absolute = False,\n",
        "                                   show_normed = True,\n",
        "                                   colorbar = True)"
      ],
      "metadata": {
        "colab": {
          "base_uri": "https://localhost:8080/",
          "height": 445
        },
        "id": "wKqeCe91MaCo",
        "outputId": "94cc159d-3280-4046-e44e-7bd3c953c9af"
      },
      "execution_count": null,
      "outputs": [
        {
          "output_type": "stream",
          "name": "stdout",
          "text": [
            "              precision    recall  f1-score   support\n",
            "\n",
            "         0.0       0.96      0.99      0.98       684\n",
            "         1.0       0.99      0.96      0.97       680\n",
            "\n",
            "    accuracy                           0.98      1364\n",
            "   macro avg       0.98      0.98      0.98      1364\n",
            "weighted avg       0.98      0.98      0.98      1364\n",
            "\n"
          ]
        },
        {
          "output_type": "display_data",
          "data": {
            "image/png": "[encoded data removed]",
            "text/plain": [
              "<Figure size 432x288 with 2 Axes>"
            ]
          },
          "metadata": {
            "needs_background": "light"
          }
        }
      ]
    },
    {
      "cell_type": "markdown",
      "source": [
        "### XGB\n"
      ],
      "metadata": {
        "id": "sAoKtxs49Rsz"
      }
    },
    {
      "cell_type": "code",
      "source": [
        "from xgboost import XGBClassifier\n",
        "from sklearn.model_selection import GridSearchCV\n",
        "from sklearn.metrics import mean_squared_error\n",
        "\n",
        "xgb = XGBClassifier()\n",
        "tune_params = {\"n_estimators\":range(1, 50)}\n",
        "gd = GridSearchCV(xgb, tune_params, scoring='neg_root_mean_squared_error')\n",
        "gd.fit(X_valid, y_valid)\n",
        "\n",
        "n_estimators = gd.best_params_[\"n_estimators\"]\n",
        "print(\"best n_estimators:\", n_estimators)\n",
        "print(\"==========\")\n",
        "\n",
        "X_valid_train = np.concatenate([X_valid.to_numpy(), X_train.to_numpy()], axis=0)\n",
        "y_valid_train = np.concatenate([y_valid, y_train], axis=0)\n",
        "xgb = XGBClassifier(n_estimators=n_estimators,learning_rate=0.3)\n",
        "xgb.fit(X_valid_train, y_valid_train)\n",
        "pred_xgb = xgb.predict(np.array(X_test))\n",
        "RMSE = mean_squared_error(y_test, pred_xgb, squared=False)\n",
        "print(\"score =\", score)\n",
        "print(\"RMSE =\", RMSE)"
      ],
      "metadata": {
        "id": "3XtZFS6U9P4j",
        "colab": {
          "base_uri": "https://localhost:8080/"
        },
        "outputId": "78fd0568-78d5-4b57-e16a-0707fd915406"
      },
      "execution_count": null,
      "outputs": [
        {
          "output_type": "stream",
          "name": "stdout",
          "text": [
            "best n_estimators: 16\n",
            "==========\n",
            "RMSE = 0.2360476118780145\n"
          ]
        }
      ]
    },
    {
      "cell_type": "code",
      "source": [
        "from sklearn.metrics import confusion_matrix, classification_report\n",
        "from mlxtend.plotting import plot_confusion_matrix\n",
        "import matplotlib.pyplot as plt\n",
        "\n",
        "print(classification_report(y_test, pred_xgb))\n",
        "cm = confusion_matrix(y_test , pred_xgb)\n",
        "\n",
        "\n",
        "figure, ax = plot_confusion_matrix(conf_mat = cm,\n",
        "                                   show_absolute = False,\n",
        "                                   show_normed = True,\n",
        "                                   colorbar = True)"
      ],
      "metadata": {
        "colab": {
          "base_uri": "https://localhost:8080/",
          "height": 445
        },
        "id": "S3F2udJxTlg1",
        "outputId": "dc8408ea-c198-40b7-e118-1c119bffa65f"
      },
      "execution_count": null,
      "outputs": [
        {
          "output_type": "stream",
          "name": "stdout",
          "text": [
            "              precision    recall  f1-score   support\n",
            "\n",
            "         0.0       0.94      0.95      0.95       684\n",
            "         1.0       0.95      0.93      0.94       680\n",
            "\n",
            "    accuracy                           0.94      1364\n",
            "   macro avg       0.94      0.94      0.94      1364\n",
            "weighted avg       0.94      0.94      0.94      1364\n",
            "\n"
          ]
        },
        {
          "output_type": "display_data",
          "data": {
            "image/png": "[encoded data removed]",
            "text/plain": [
              "<Figure size 432x288 with 2 Axes>"
            ]
          },
          "metadata": {
            "needs_background": "light"
          }
        }
      ]
    }
  ]
}