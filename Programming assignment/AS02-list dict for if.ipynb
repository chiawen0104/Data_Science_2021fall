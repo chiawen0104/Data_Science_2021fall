{
  "nbformat": 4,
  "nbformat_minor": 0,
  "metadata": {
    "colab": {
      "name": "「AS02.ipynb」的副本",
      "provenance": [],
      "collapsed_sections": []
    },
    "kernelspec": {
      "display_name": "Python 3 (ipykernel)",
      "language": "python",
      "name": "python3"
    },
    "language_info": {
      "codemirror_mode": {
        "name": "ipython",
        "version": 3
      },
      "file_extension": ".py",
      "mimetype": "text/x-python",
      "name": "python",
      "nbconvert_exporter": "python",
      "pygments_lexer": "ipython3",
      "version": "3.8.12"
    },
    "toc": {
      "base_numbering": 1,
      "nav_menu": {},
      "number_sections": true,
      "sideBar": true,
      "skip_h1_title": false,
      "title_cell": "Table of Contents",
      "title_sidebar": "Contents",
      "toc_cell": true,
      "toc_position": {},
      "toc_section_display": true,
      "toc_window_display": true
    }
  },
  "cells": [
    {
      "cell_type": "markdown",
      "metadata": {
        "id": "iiMwv5fb01PH"
      },
      "source": [
        "# Q1 Pre-Processing Youbike data"
      ]
    },
    {
      "cell_type": "code",
      "metadata": {
        "id": "jviuL0hgrrZI"
      },
      "source": [
        "# Getting youtube data\n",
        "import requests\n",
        "import json\n",
        "response = requests.get('https://tcgbusfs.blob.core.windows.net/blobyoubike/YouBikeTP.gz')\n",
        "data = json.loads(response.text)"
      ],
      "execution_count": 1,
      "outputs": []
    },
    {
      "cell_type": "markdown",
      "metadata": {
        "id": "9jc47vviq7Hf"
      },
      "source": [
        "## Q1_Code: Using site name as dict id \n",
        "\n",
        "1. 原本的Youbike data除了第一層有`retCode`和`retVal`外，在`retVal`所對應到的資料中，是以`sno`也就是駐車站編號作為dict的key。我希望把整筆資料轉個型態，仍保持dict of dict，但最外層的dictionary裡面的每個key是站台「中文名稱」，並以`site_dict`來作為新的dictionary的變數名稱。\n",
        "\n",
        "2. 除此之外，請參考下列資料，嘗試移除幾個儲存英文站名、英文區域和英文地址的keys與values，有`['sareaen', 'snaen', 'aren']`。參考資料：[Removing multiple keys from a dictionary safely (stackoverflow)](https://stackoverflow.com/questions/8995611/removing-multiple-keys-from-a-dictionary-safely)"
      ]
    },
    {
      "cell_type": "code",
      "metadata": {
        "id": "CmW91nT5tZcF"
      },
      "source": [
        "site_dict = {}  # Using this as new dict name\n",
        "en_keys = ['sareaen', 'snaen', 'aren']\n",
        "\n",
        "# Your code should go here\n",
        "for k, v in data['retVal'].items():\n",
        "  k = v['sna']\n",
        "  site_dict[k] = v \n",
        "\n",
        "for i in site_dict:\n",
        "  if site_dict[i]['sareaen'] != \"\":\n",
        "   del(site_dict[i]['sareaen'])\n",
        "  if site_dict[i]['snaen'] != \"\":\n",
        "   del(site_dict[i]['snaen'])\n",
        "  if site_dict[i]['aren'] != \"\":\n",
        "   del(site_dict[i]['aren'])"
      ],
      "execution_count": 2,
      "outputs": []
    },
    {
      "cell_type": "markdown",
      "metadata": {
        "id": "2f_A9HOZtja7"
      },
      "source": [
        "## Q1_Verification: Print out the key of the outermost dictionary\n",
        "\n",
        "執行以下程式碼以驗證你的程式撰寫是否成功。你不能更動以下Cell的Code，僅能在上面的Cell撰寫程式，使得以下的Code列印出來的資料與預期相同。助教會看這個Cell的結果來判斷你是否達到題目要求。\n",
        "\n",
        "預期結果如下：\n",
        "`['捷運市政府站(3號出口)', '捷運國父紀念館站(2號出口)', '台北市政府', '市民廣場', '興雅國中', '臺北南山廣場', '信義廣場(台北101)', '世貿三館', '松德站', '台北市災害應變中心']\n",
        "`"
      ]
    },
    {
      "cell_type": "code",
      "metadata": {
        "id": "gJR-kyDkt_U4",
        "colab": {
          "base_uri": "https://localhost:8080/"
        },
        "outputId": "bf44cf24-6c43-4211-a562-1c4d1c9e771f"
      },
      "source": [
        "print(list(site_dict.keys())[:10])"
      ],
      "execution_count": 3,
      "outputs": [
        {
          "output_type": "stream",
          "name": "stdout",
          "text": [
            "['捷運市政府站(3號出口)', '捷運國父紀念館站(2號出口)', '台北市政府', '市民廣場', '興雅國中', '臺北南山廣場', '信義廣場(台北101)', '世貿三館', '松德站', '台北市災害應變中心']\n"
          ]
        }
      ]
    },
    {
      "cell_type": "markdown",
      "metadata": {
        "id": "P3rG0rxSuRnR"
      },
      "source": [
        "## Q1_Verification: Print out keys of site's data\n",
        "\n",
        "執行以下程式碼以驗證你的程式撰寫是否成功。你不能更動以下Cell的Code，僅能在上面的Cell撰寫程式，使得以下的Code列印出來的資料與預期相同。預期結果如下：`dict_keys(['sno', 'sna', 'tot', 'sbi', 'sarea', 'mday', 'lat', 'lng', 'ar', 'bemp', 'act'])\n",
        "`"
      ]
    },
    {
      "cell_type": "code",
      "metadata": {
        "id": "iGToCqINuR0R",
        "colab": {
          "base_uri": "https://localhost:8080/"
        },
        "outputId": "abf0b6f7-41c9-4b04-f906-7422bf2a82dc"
      },
      "source": [
        "site_dict['捷運市政府站(3號出口)'].keys()"
      ],
      "execution_count": 4,
      "outputs": [
        {
          "output_type": "execute_result",
          "data": {
            "text/plain": [
              "dict_keys(['sno', 'sna', 'tot', 'sbi', 'sarea', 'mday', 'lat', 'lng', 'ar', 'bemp', 'act'])"
            ]
          },
          "metadata": {},
          "execution_count": 4
        }
      ]
    },
    {
      "cell_type": "markdown",
      "metadata": {
        "id": "KDJT6w7nro03"
      },
      "source": [
        "# Q2 Calculating the fullness of each youbike site\n",
        "\n",
        "\n",
        "## Q2_1 : Inserting a new indicator fullness for each site\n",
        "\n",
        "建立一個新的指標`perc = sbi/tot`，為現有單車數(`sbi`)除以總單車格數（`tot`）作為滿站的比例，並希望在每個駐車站的資料中多一個key為`perc`來存放滿站比例。你可以接續上題作，或者回到原本撈回來的資料做。\n",
        "\n",
        "例如\n",
        "```\n",
        "{ '捷運市政府站(3號出口)':{\n",
        "    'sna': '捷運市政府站(3號出口)', \n",
        "    'sno': ...,\n",
        "    'tot': ...,\n",
        "    'sbi': ..., \n",
        "    'perc': ...,\n",
        "    ...},\n",
        "    ...\n",
        "}\n",
        "```"
      ]
    },
    {
      "cell_type": "code",
      "metadata": {
        "id": "awYVPUw2yClq",
        "colab": {
          "base_uri": "https://localhost:8080/"
        },
        "outputId": "e2566658-bdb0-4ec5-8c7d-ba8636af6ffe"
      },
      "source": [
        "# Your code should be here\n",
        "for k, v in data['retVal'].items():\n",
        "  if int(v['tot']) != 0:\n",
        "    data['retVal'][k]['perc'] = int(v['sbi'])/int(v['tot'])\n",
        "    # print(\"%s\\t%.2f\" %(v['sna'],v['perc']))\n",
        "\n",
        "print(data['retVal']['0001'].keys())\n"
      ],
      "execution_count": 5,
      "outputs": [
        {
          "output_type": "stream",
          "name": "stdout",
          "text": [
            "dict_keys(['sno', 'sna', 'tot', 'sbi', 'sarea', 'mday', 'lat', 'lng', 'ar', 'bemp', 'act', 'perc'])\n"
          ]
        }
      ]
    },
    {
      "cell_type": "markdown",
      "metadata": {
        "tags": [],
        "id": "shzHjtAQLdJQ"
      },
      "source": [
        "## Q2_1: Verification\n",
        "* 列印出任意10個站台的perc。必須同時列印出每個站台的sna, sbi, tot, perc\n",
        "* 請盡可能地印出類似下面的格式，以了解如何使用`.format()`或`%d`等來控制列印輸出格式。"
      ]
    },
    {
      "cell_type": "code",
      "metadata": {
        "id": "dRIC8oJVLdJQ",
        "colab": {
          "base_uri": "https://localhost:8080/"
        },
        "outputId": "542db399-271b-4646-c177-5aad0d319300"
      },
      "source": [
        "# Your code should be here\n",
        "i = 0\n",
        "for k, v in data['retVal'].items():\n",
        "  print(\"{:<15}\\t{:>3}\\t{:>3}\\t{:.2f}\".format(v['sna'], v['tot'], v['sbi'], v['perc']))\n",
        "  i += 1\n",
        "  if i>9: break"
      ],
      "execution_count": 6,
      "outputs": [
        {
          "output_type": "stream",
          "name": "stdout",
          "text": [
            "捷運市政府站(3號出口)   \t180\t 89\t0.49\n",
            "捷運國父紀念館站(2號出口) \t 48\t 10\t0.21\n",
            "台北市政府          \t 40\t 13\t0.33\n",
            "市民廣場           \t 60\t 17\t0.28\n",
            "興雅國中           \t 60\t 12\t0.20\n",
            "臺北南山廣場         \t 80\t 28\t0.35\n",
            "信義廣場(台北101)    \t 80\t 23\t0.29\n",
            "世貿三館           \t 60\t 29\t0.48\n",
            "松德站            \t 40\t  9\t0.23\n",
            "台北市災害應變中心      \t 54\t 36\t0.67\n"
          ]
        }
      ]
    },
    {
      "cell_type": "markdown",
      "metadata": {
        "id": "u_CLG0BIrqhk"
      },
      "source": [
        "## Q2_2 (Code + Output verification): 列印出`perc`(fullness)最高的站\n",
        "\n",
        "用`for-loop`和`if-else`找出`perc`(fullness)最高的駐車站，並印出其站名和`perc`數值，以及時間。<br>\n",
        "\n",
        "註：本題不可使用內建或者第三方的sorting函式。"
      ]
    },
    {
      "cell_type": "code",
      "metadata": {
        "id": "cELbhh1myJLG",
        "colab": {
          "base_uri": "https://localhost:8080/"
        },
        "outputId": "4d4aca50-0aa2-46e7-801c-daa5a3f382ba"
      },
      "source": [
        "fullest_sna = \"\"\n",
        "fullest_perc = 0.0\n",
        "fullest_time = \"\"\n",
        "\n",
        "# Your code should be here\n",
        "for i in data['retVal']:\n",
        "  if (data['retVal'][i]['perc']) > fullest_perc:\n",
        "      fullest_perc = data['retVal'][i]['perc']\n",
        "      fullest_sna = data['retVal'][i]['sna']\n",
        "      fullest_time = data['retVal'][i]['mday']\n",
        "  \n",
        "\n",
        "print(\"At %s, the highest perc is %f (Station: %s)\"%(fullest_time, fullest_perc, fullest_sna))\n"
      ],
      "execution_count": 7,
      "outputs": [
        {
          "output_type": "stream",
          "name": "stdout",
          "text": [
            "At 20211024170834, the highest perc is 0.909091 (Station: 喬治工商)\n"
          ]
        }
      ]
    },
    {
      "cell_type": "markdown",
      "metadata": {
        "id": "xJyWK69h44qu"
      },
      "source": [
        "## Q2_3 (Code + Output verification 2): Top 10\n",
        "\n",
        "用內建或第三方的sorting函式，將`perc`(fullness)按照full to empty排序，用for-loop列印出，`perc`最高的10個駐車站的`sna`、`perc`、`tot`、`sbi`(（請善用printing formation和`\\t`將之對齊排列好，但不用照高低順序）。"
      ]
    },
    {
      "cell_type": "code",
      "metadata": {
        "id": "hMxtXfUR44yz",
        "colab": {
          "base_uri": "https://localhost:8080/"
        },
        "outputId": "a1fed5b3-fccc-4f2b-ca8c-8b573135b2b0"
      },
      "source": [
        "\n",
        "# Your code should be here\n",
        "perc_list = []\n",
        "for k, v in data['retVal'].items():\n",
        "  if v['perc'] != \"\":\n",
        "    perc_list.append(v['perc'])\n",
        "\n",
        "\n",
        "\n",
        "for k, v in data['retVal'].items():\n",
        "  if v['perc'] >= sorted(perc_list, reverse=True)[9]:\n",
        "    print(\"{:<30}\\t{:>3}\\t{:>3}\\t{:.2f}\".format(v['sna'], v['tot'], v['sbi'], v['perc']))"
      ],
      "execution_count": 34,
      "outputs": [
        {
          "output_type": "stream",
          "name": "stdout",
          "text": [
            "南昌公園                          \t 34\t 28\t0.82\n",
            "蘭雅公園                          \t 30\t 23\t0.77\n",
            "臺北市立天文館                       \t 30\t 23\t0.77\n",
            "捷運松江南京站(7號出口)                 \t 38\t 30\t0.79\n",
            "興安華城                          \t 60\t 53\t0.88\n",
            "信義杭州路口(中華電信總公司)               \t 42\t 36\t0.86\n",
            "市民東興路口                        \t 30\t 23\t0.77\n",
            "喬治工商                          \t 22\t 20\t0.91\n",
            "富台公園                          \t 30\t 23\t0.77\n",
            "金華公園                          \t 24\t 21\t0.88\n",
            "新興公園                          \t 26\t 22\t0.85\n",
            "松德虎林街口                        \t 32\t 27\t0.84\n"
          ]
        }
      ]
    },
    {
      "cell_type": "markdown",
      "metadata": {
        "id": "5nPZprJfLdJW"
      },
      "source": [
        "# Q3: Categorizing fullness\n",
        "\n",
        "當要建立回歸模型來預測腳踏車的滿站程度時，我們需要的可能是上述的`perc`來作為依變項Y；但我如果只是要仿照Youbike地圖，用顏色來標示出滿站程度時（如https://taipei.youbike.com.tw/station/map） ，就需要將`perc`按數值分區。"
      ]
    },
    {
      "cell_type": "markdown",
      "metadata": {
        "id": "_JWFYfTv6r9u"
      },
      "source": [
        "## Q3_2 (Code and Output Verification)\n",
        "\n",
        "設計if-else搭配for-loop來計算每個資料區間各有多少個腳踏車站台。一共分成以下幾個label。\n",
        "- full: perc = 1.0，\n",
        "- empty: perc = 0.0, \n",
        "- few: 0.0 < perc <0.3\n",
        "- general: 0.3 <= perc < 0.7\n",
        "- many: 0.7 <=  perc < 1.0\n",
        "請在每個站台的dictionary中新增一個key為label，然後用Counting來累計並**列印出**當時刻full, empty, few, general, many各有多少個站台。\n",
        "\n",
        "範例輸出（可能因為不同時間而數量不同）\n",
        "```\n",
        "few 173\n",
        "general 152\n",
        "empty 44\n",
        "many 30\n",
        "```"
      ]
    },
    {
      "cell_type": "code",
      "metadata": {
        "id": "XWT_qlKPLdJY",
        "colab": {
          "base_uri": "https://localhost:8080/"
        },
        "outputId": "19a10d6e-e517-43c6-8ca7-16a60be38240"
      },
      "source": [
        "# Your code should be here\n",
        "degree = ['empty', 'few', 'general', 'many', 'full']\n",
        "scaler = [0.0, 0.3, 0.7, 1.0]\n",
        "j = 0\n",
        "label_count = {}\n",
        "label_list = []\n",
        " \n",
        "# Assign the label to 'perc'\n",
        "for site in data['retVal']:\n",
        "  if data['retVal'][site]['perc'] != \"\":\n",
        "    for i, element in enumerate(scaler):\n",
        "      if data['retVal'][site]['perc'] == element:\n",
        "        if element == 0.0:\n",
        "          j = 0\n",
        "          break\n",
        "        if element == 1.0: \n",
        "          j = 4\n",
        "          break\n",
        "      if data['retVal'][site]['perc'] < element:\n",
        "        j = i\n",
        "        break\n",
        "    data['retVal'][site]['label'] = degree[j]\n",
        "\n",
        "# Add labels to the list\n",
        "for k, v in data['retVal'].items():\n",
        "  if v['label'] != \"\":\n",
        "    label_list.append(v['label'])\n",
        "    \n",
        "# Count the amount of labels\n",
        "for label in label_list:\n",
        "    if label not in label_count:\n",
        "        label_count[label] = 1\n",
        "    else:\n",
        "        label_count[label] += 1\n",
        "\n",
        "for k, v in label_count.items():\n",
        "  print(k, v)\n",
        "\n",
        "\n"
      ],
      "execution_count": 9,
      "outputs": [
        {
          "output_type": "stream",
          "name": "stdout",
          "text": [
            "general 230\n",
            "few 129\n",
            "many 24\n",
            "empty 16\n"
          ]
        }
      ]
    },
    {
      "cell_type": "markdown",
      "metadata": {
        "id": "SLEcXoD9LdJZ"
      },
      "source": [
        "# Q4_e 自然常數的泰勒展式\n",
        "* e ≈ 2.71828 18284 59045 23536"
      ]
    },
    {
      "cell_type": "code",
      "metadata": {
        "id": "IWVUSascLdJa",
        "colab": {
          "base_uri": "https://localhost:8080/"
        },
        "outputId": "35d9310d-4532-4dd2-dc10-ec7020e28221"
      },
      "source": [
        "e = 1\n",
        "t = 1\n",
        "# e^1 = 1+(1/1!)+(1/2!)+...+(1/n!)\n",
        "\n",
        "for i in range(1, 1000):\n",
        "    # Your code should be here\n",
        "    t *= (1/i)\n",
        "    e += t\n",
        "\n",
        "print(e)\n",
        "    \n",
        "        "
      ],
      "execution_count": 20,
      "outputs": [
        {
          "output_type": "stream",
          "name": "stdout",
          "text": [
            "2.7182818284590455\n"
          ]
        }
      ]
    },
    {
      "cell_type": "code",
      "metadata": {
        "id": "25ozx7uTFO0d"
      },
      "source": [
        ""
      ],
      "execution_count": null,
      "outputs": []
    }
  ]
}
