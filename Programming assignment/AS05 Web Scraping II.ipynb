{
  "nbformat": 4,
  "nbformat_minor": 0,
  "metadata": {
    "colab": {
      "name": "「AS05p_ibon_Scraper.ipynb」的副本",
      "provenance": [],
      "collapsed_sections": []
    },
    "kernelspec": {
      "display_name": "Python 3",
      "language": "python",
      "name": "python3"
    },
    "language_info": {
      "codemirror_mode": {
        "name": "ipython",
        "version": 3
      },
      "file_extension": ".py",
      "mimetype": "text/x-python",
      "name": "python",
      "nbconvert_exporter": "python",
      "pygments_lexer": "ipython3",
      "version": "3.7.6"
    },
    "toc-autonumbering": false
  },
  "cells": [
    {
      "cell_type": "markdown",
      "metadata": {
        "id": "x8bPZDqkCo2N"
      },
      "source": [
        "# AS05\n",
        "這裡有兩題看似要你寫Crawler，但事實上要怎麼Crawl或要怎麼Parse HTML老師都幫你寫好了。程式碼都是完整的，但卻只是某個模組功能的。所以你在這個作業要做的，實際上是看懂這些程式碼，並把這些程式碼兜起來。\n",
        "\n",
        "這個作業要考驗你的是耐心看懂別人的程式碼，和重組別人的程式碼。"
      ]
    },
    {
      "cell_type": "markdown",
      "metadata": {
        "id": "taPaK2ZwCo2Q"
      },
      "source": [
        "# AS05_1. Getting ibon store address\n",
        "* 這題的目標是取得所有ibon生活便利站的所在地址。http://www.ibon.com.tw/retail_inquiry.aspx#gsc.tab=0。\n",
        "* 我已經幫你寫好，怎麼從上述網頁取得所有縣市名稱（`get()` + `BeautifulSoup`如**Get all counties***）。我也幫你寫好，怎麼取得某一個縣市的所有生活便利站（`post()` + `BeautifulSoup` 如**Get stores of a county**）。\n",
        "\n"
      ]
    },
    {
      "cell_type": "code",
      "metadata": {
        "id": "JcG4EWwACo2R"
      },
      "source": [
        "import requests\n",
        "from bs4 import BeautifulSoup"
      ],
      "execution_count": 118,
      "outputs": []
    },
    {
      "cell_type": "markdown",
      "metadata": {
        "id": "8GeuKoEUCo2T"
      },
      "source": [
        "## Get all counties"
      ]
    },
    {
      "cell_type": "code",
      "metadata": {
        "colab": {
          "base_uri": "https://localhost:8080/",
          "height": 140
        },
        "id": "AMgTU3EtCo2T",
        "outputId": "ab024347-8d8d-450c-afbe-39b3a4740eba"
      },
      "source": [
        "url_counties = 'http://www.ibon.com.tw/retail_inquiry.aspx#gsc.tab=0'\n",
        "res = requests.get(url_counties)\n",
        "soup = BeautifulSoup(res.text, \"html.parser\")\n",
        "soup.prettify()"
      ],
      "execution_count": 119,
      "outputs": [
        {
          "output_type": "execute_result",
          "data": {
            "application/vnd.google.colaboratory.intrinsic+json": {
              "type": "string"
            },
            "text/plain": [
              "'<!DOCTYPE html PUBLIC \"-//W3C//DTD XHTML 1.0 Transitional//EN\" \"http://www.w3.org/TR/xhtml1/DTD/xhtml1-transitional.dtd\">\\n<html>\\n <head>\\n  <!-- viewport -->\\n  <meta content=\"IE=edge\" http-equiv=\"X-UA-Compatible\"/>\\n  <meta charset=\"utf-8\"/>\\n  <title id=\"titleNaming\">\\n   ibon 便利生活站 - 門市查詢-網頁版\\n  </title>\\n  <link href=\"css/pcstyle.css\" rel=\"stylesheet\" type=\"text/css\"/>\\n  <link href=\"css/font-awesome.min.css\" rel=\"stylesheet\"/>\\n  <!-- jQuery -->\\n  <script src=\"js/jquery-3.5.1.min.js\">\\n  </script>\\n  <script src=\"js/jquery-migrate-1.4.1.min.js\">\\n  </script>\\n  <script src=\"js/jquery-migrate-3.3.2.min.js\">\\n  </script>\\n  <script src=\"js/selectivizr-min.js\">\\n  </script>\\n  <script src=\"js/script.js\">\\n  </script>\\n  <script src=\"js/commonutil.js\">\\n  </script>\\n  <!-- 解決IE7~8看不懂html5的標籤 -->\\n  <!--[if lt IE 9]>\\r\\n<script src=\\x0b\"http://html5shim.googlecode.com/svn/trunk/html5.js\">\\r\\n</script>\\r\\n<![endif]-->\\n  <style>\\n   .subContainer {\\r\\n            display: none;\\r\\n        }\\r\\n        /* 顯示檔案上傳相關*/\\r\\n        .maskFade\\r\\n        {\\r\\n        \\tcursor:pointer;\\r\\n\\t        display:none;\\r\\n\\t        position:absolute;\\r\\n\\t        width:100%;\\r\\n\\t        height:100%;\\r\\n\\t        background:#000000;\\r\\n\\t        z-index:10000000;\\r\\n\\t        top:0;\\r\\n\\t        left:0;\\r\\n\\t        opacity:0.6;\\r\\n\\t        filter:alpha(opacity=60);\\r\\n        }\\r\\n\\t\\t.rounded-corners {\\r\\n            -moz-border-radius: 10px; /* Firefox */\\r\\n            -webkit-border-radius: 10px; /* Safari, Chrome */\\r\\n            -khtml-border-radius: 10px; /* Konqueror */\\r\\n            border-radius: 10px; /* Opera 10.50 and later (CSS3 standard) */\\r\\n            behavior: url(border-radius.htc); /* IE6, IE7, IE8 */\\r\\n        }\\r\\n        /*一般MASK*/\\r\\n        .mask\\r\\n        {\\r\\n            display: none;\\r\\n            position: absolute;\\r\\n            top: 0px;\\r\\n            left: 0px;\\r\\n            width:100%;\\r\\n            height:100%;\\r\\n            opacity: 0.6;\\r\\n            filter: alpha(opacity=60);\\r\\n            background-color: #000000;\\r\\n            z-index: 10000000; /*圖層需高於主選單,所有CSS最高為9999999*/\\r\\n        }\\r\\n        .banner a:link {\\r\\n            color: #5E5E5E;\\r\\n        }\\r\\n        /* visited link */\\r\\n        a:visited {\\r\\n            color: #5E5E5E;\\r\\n        }\\r\\n        /* selected link */\\r\\n        a:active {\\r\\n            color: #5E5E5E;\\r\\n        }\\r\\n        .banner a:hover{\\r\\n                color: #ABC31F; /* 當滑鼠經過時，超連結文字顏色變成指定顏色 */\\r\\n                position: relative; /* 當滑鼠經過超連結時，超連結往右下位移1像素 */\\r\\n                top: 1px;\\r\\n                left: 1px;\\r\\n                /*background-color:#FFFFFF;*/\\r\\n                font-size:large;\\r\\n                \\r\\n        }\\n  </style>\\n </head>\\n <body>\\n  <form action=\"./retail_inquiry.aspx\" id=\"thisform\" method=\"post\" name=\"thisform\" onsubmit=\"return getKeyword(\\'retail_inquiry.aspx\\',\\'請輸入關鍵字\\')\">\\n   <input id=\"__VIEWSTATE\" name=\"__VIEWSTATE\" type=\"hidden\" value=\"/wEPDwUKLTcwNzE5MTA3OA9kFgQCAQ8WAh4JaW5uZXJodG1sBS1pYm9uIOS+v+WIqeeUn+a0u+ermSAtIOmWgOW4guafpeipoi3ntrLpoIHniYhkAgMPZBYGAgEPFgIeC18hSXRlbUNvdW50AggWEGYPZBYEZg8VBAExGGphdmFzY3JpcHQ6T3BlbldpbmRvdygpOw3lhLLlgLwv57mz6LK7AGQCAQ8WAh8BZmQCAQ9kFgRmDxUEATIPYm9udXMuYXNweCNCMDExDuWlveW6ty/ntIXliKkgAGQCAQ8WAh8BAgsWFmYPZBYCZg8VAg9ib251cy5hc3B4I0IwMTEM5aW95bq35rS75YuVZAIBD2QWAmYPFQIPYm9udXMuYXNweCNCMDQxBumKgOihjGQCAg9kFgJmDxUCD2JvbnVzLmFzcHgjQjAzMRLpm7vlrZDnpajorYnmnIPlk6FkAgMPZBYCZg8VAg9ib251cy5hc3B4I0IwNjEc6Zu75L+hIOesrOS4ieaWueaUr+S7mOacg+WToWQCBA9kFgJmDxUCD2JvbnVzLmFzcHgjQjA4MQ3orYnliLgg5L+d6ZqqZAIFD2QWAmYPFQIPYm9udXMuYXNweCNCMDUxCeWKoOayueermWQCBg9kFgJmDxUCD2JvbnVzLmFzcHgjQjA3MRLntrLot6/pgYrmiLLmnIPlk6FkAgcPZBYCZg8VAg9ib251cy5hc3B4I0IwOTEG5pS/5bqcZAIID2QWAmYPFQIPYm9udXMuYXNweCNCMDEyBuWtuOagoWQCCQ9kFgJmDxUCD2JvbnVzLmFzcHgjQjAyMgbkuqTpgJpkAgoPZBYCZg8VAg9ib251cy5hc3B4I0IwMjEY57SF5Yip6bue5pW45YWM5o+b6aCF55uuZAICD2QWBGYPFQQBMwtUaWNrZXQuYXNweAznpajliLjkuK3lv4MAZAIBDxYCHwFmZAIDD2QWBGYPFQQBNBJzaG9wcGluZy5hc3B4I0MwNTEN6LO854mpL+WvhOiyqABkAgEPFgIfAQIGFgxmD2QWAmYPFQISc2hvcHBpbmcuYXNweCNDMDUxCeS6pOiyqOS+v2QCAQ9kFgJmDxUCEnNob3BwaW5nLmFzcHgjQzA2MQ/pu5HospPlroXmgKXkvr9kAgIPZBYCZg8VAhJzaG9wcGluZy5hc3B4I0MwNzEM5ZyL6Zqb5b+r6YGeZAIDD2QWAmYPFQIRc2hvcHBpbmcuYXNweCNDMDMM6ZaA5biC6aCQ6LO8ZAIED2QWAmYPFQISc2hvcHBpbmcuYXNweCNDMDExGzctRUxFVkVOIOe3muS4iuizvOeJqeS4reW/g2QCBQ9kFgJmDxUCEXNob3BwaW5nLmFzcHgjQzA0GOmWgOW4gumgkOizvOWcsOWdgOafpeipomQCBA9kFgRmDxUEATUXcHJpbnRzY2FuX2llLmFzcHgjRDAxMTEN5YiX5Y2wL+aOg+aPjwBkAgEPFgIfAQIHFg5mD2QWAmYPFQIXcHJpbnRzY2FuX2llLmFzcHgjRDAxMTEY5o+S5YWl5YSy5a2Y6KOd572u5YiX5Y2wZAIBD2QWAmYPFQIWcHJpbnRzY2FuX2llLmFzcHgjRDA3MRBpYm9u5paH5Lu25LiL6LyJZAICD2QWAmYPFQIWcHJpbnRzY2FuX2llLmFzcHgjRDAzMRLkvIHmpa3pm7Lnq6/noaznop9kAgMPZBYCZg8VAhZwcmludHNjYW5faWUuYXNweCNEMDYxGeWll+eJiOWIl+WNsC/mjojmrIrlnJblg49kAgQPZBYCZg8VAhVwcmludHNjYW5faWUuYXNweCNEMDIS5rW35aCx5YiG5Ymy5YiX5Y2wZAIFD2QWAmYPFQIVcHJpbnRzY2FuX2llLmFzcHgjRDA0GOewoeioiuS7o+eivOWPluS7tuWIl+WNsGQCBg9kFgJmDxUCF3ByaW50c2Nhbl9pZS5hc3B4I0QwNTExDOaWh+S7tuaOg+aPj2QCBQ9kFgRmDxUEATYRc2VydmljZS5hc3B4I0UwNDEM55Sz6L6m5pyN5YuZAGQCAQ8WAh8BAgQWCGYPZBYCZg8VAhFzZXJ2aWNlLmFzcHgjRTA0MRnmlL/lupwv5a245qCh5L6/5rCR5pyN5YuZZAIBD2QWAmYPFQIRc2VydmljZS5hc3B4I0UwMzEN6YeR6J6NL+S/nemaqmQCAg9kFgJmDxUCEXNlcnZpY2UuYXNweCNFMDExDOmbu+S/oeeUs+i+pmQCAw9kFgJmDxUCEXNlcnZpY2UuYXNweCNFMDUxDOW7o+WRiuWIiueZu2QCBg9kFgRmDxUEATcObGlmZS5hc3B4I0YwMjEM55Sf5rS75pyN5YuZAGQCAQ8WAh8BAgYWDGYPZBYCZg8VAg5saWZlLmFzcHgjRjAyMQzpm7vlrZDnmbznpahkAgEPZBYCZg8VAg5saWZlLmFzcHgjRjA2MR9pY2FzaC/mgqDpgYrljaEv5LiA5Y2h6YCa5p+l6KmiZAICD2QWAmYPFQIObGlmZS5hc3B4I0YwNDEM5Y+r6LuK5pyN5YuZZAIDD2QWAmYPFQINbGlmZS5hc3B4I0YwMRTmib7lt6XkvZwo5Yue5YuV6YOoKWQCBA9kFgJmDxUCDmxpZmUuYXNweCNGMDUxDOeUn+a0u+aDheWgsWQCBQ9kFgJmDxUCDmxpZmUuYXNweCNGMDMxEuWBpeW6t+eUn+a0u+izh+ioimQCBw9kFgRmDxUEATgORkxBL2luZGV4Lmh0bWwRRW5nbGlzaC/ml6XmnKzoqp4Tc3R5bGU9InJpZ2h0OiAwcHg7ImQCAQ8WAh8BAgIWBGYPZBYCZg8VAg5GTEEvaW5kZXguaHRtbAdFbmdsaXNoZAIBD2QWAmYPFQIPRkxBSi9pbmRleC5odG1sBuaXpeaWh2QCAw8WAh8BAhcWLgIBD2QWAmYPFQMBMQnlj7DljJfluIIJ5Y+w5YyX5biCZAICD2QWAmYPFQMBMgnmlrDljJfluIIJ5paw5YyX5biCZAIDD2QWAmYPFQMBMwnln7rpmobluIIJ5Z+66ZqG5biCZAIED2QWAmYPFQMBNAnlrpzomK3nuKMJ5a6c6Jit57ijZAIFD2QWAmYPFQMBNQnmoYPlnJLluIIJ5qGD5ZyS5biCZAIGD2QWAmYPFQMBNgnmlrDnq7nluIIJ5paw56u55biCZAIHD2QWAmYPFQMBNwnmlrDnq7nnuKMJ5paw56u557ijZAIID2QWAmYPFQMBOAnoi5fmoJfnuKMJ6IuX5qCX57ijZAIJD2QWAmYPFQMBOQnlj7DkuK3luIIJ5Y+w5Lit5biCZAIKD2QWAmYPFQMCMTAJ5b2w5YyW57ijCeW9sOWMlue4o2QCCw9kFgJmDxUDAjExCeWNl+aKlee4ownljZfmipXnuKNkAgwPZBYCZg8VAwIxMgnpm7LmnpfnuKMJ6Zuy5p6X57ijZAIND2QWAmYPFQMCMTMJ5ZiJ576p5biCCeWYiee+qeW4gmQCDg9kFgJmDxUDAjE0CeWYiee+qee4ownlmInnvqnnuKNkAg8PZBYCZg8VAwIxNQnlj7DljZfluIIJ5Y+w5Y2X5biCZAIQD2QWAmYPFQMCMTYJ6auY6ZuE5biCCemrmOmbhOW4gmQCEQ9kFgJmDxUDAjE3CeWxj+adsee4ownlsY/mnbHnuKNkAhIPZBYCZg8VAwIxOAnoirHok67nuKMJ6Iqx6JOu57ijZAITD2QWAmYPFQMCMTkJ5Y+w5p2x57ijCeWPsOadsee4o2QCFA9kFgJmDxUDAjIwCea+jua5lue4ownmvo7muZbnuKNkAhUPZBYCZg8VAwIyMQnph5HploDnuKMJ6YeR6ZaA57ijZAIWD2QWAmYPFQMCMjIJ6YCj5rGf57ijCemAo+axn+e4o2QCFw9kFgJmDxUDAjIzDOWNl+a1t+iruOWztgzljZfmtbfoq7jls7ZkAgUPFgIfAQIMFhgCAQ9kFgJmDxUEAzEwMAnkuK3mraPljYADMTAwCeS4reato+WNgGQCAg9kFgJmDxUEAzEwMwnlpKflkIzljYADMTAzCeWkp+WQjOWNgGQCAw9kFgJmDxUEAzEwNAnkuK3lsbHljYADMTA0CeS4reWxseWNgGQCBA9kFgJmDxUEAzEwNQnmnb7lsbHljYADMTA1CeadvuWxseWNgGQCBQ9kFgJmDxUEAzEwNgnlpKflronljYADMTA2CeWkp+WuieWNgGQCBg9kFgJmDxUEAzEwOAnokKzoj6/ljYADMTA4CeiQrOiPr+WNgGQCBw9kFgJmDxUEAzExMAnkv6HnvqnljYADMTEwCeS/oee+qeWNgGQCCA9kFgJmDxUEAzExMQnlo6vmnpfljYADMTExCeWjq+ael+WNgGQCCQ9kFgJmDxUEAzExMgnljJfmipXljYADMTEyCeWMl+aKleWNgGQCCg9kFgJmDxUEAzExNAnlhafmuZbljYADMTE0CeWFp+a5luWNgGQCCw9kFgJmDxUEAzExNQnljZfmuK/ljYADMTE1CeWNl+a4r+WNgGQCDA9kFgJmDxUEAzExNgnmloflsbHljYADMTE2CeaWh+WxseWNgGRkfRd/pU1LHN22+QwLZ00CkzyOP4mux68Bj23qVdwFJi0=\"/>\\n   <input id=\"__VIEWSTATEGENERATOR\" name=\"__VIEWSTATEGENERATOR\" type=\"hidden\" value=\"1A903B08\"/>\\n   <div id=\"googlesearchbar\" style=\"width:10px;height:10px;position:absolute;top:-100px;left:-100px;z-index:-100;\">\\n    <!--Google Search Binding-->\\n    <gcse:search>\\n    </gcse:search>\\n   </div>\\n   <!--wrapper Start-->\\n   <div id=\"wrapper\">\\n    <!--header Start-->\\n    <header>\\n     <!--navContainer-->\\n     <div class=\"navContainer\">\\n      <h1 class=\"logo\">\\n       <a href=\"default.aspx\">\\n        7-ELEVEN ibon 便利生活站\\n       </a>\\n      </h1>\\n      <ul class=\"navlink\">\\n       <li>\\n        <a href=\"about.aspx\">\\n         關於ibon\\n        </a>\\n       </li>\\n       <li>\\n        <a href=\"qa_atibon.aspx\">\\n         常見問題\\n        </a>\\n       </li>\\n       <li>\\n        <a href=\"sponsor.aspx\">\\n         廠商合作提案\\n        </a>\\n       </li>\\n       <li>\\n        <a href=\"sponsor_ibon.aspx\">\\n         ibon好康合作\\n        </a>\\n       </li>\\n       <li>\\n        <a href=\"retail_inquiry.aspx\">\\n         門市查詢\\n        </a>\\n       </li>\\n       <li class=\"bordernone\">\\n        <a href=\"webmap.aspx\">\\n         網站地圖\\n        </a>\\n       </li>\\n       <li class=\"search\">\\n        <input class=\"searchbox\" id=\"keywords\" name=\"tt\" onblur=\"resettext(this)\" onfocus=\"cleartext(this)\" type=\"text\" value=\"請輸入搜尋關鍵字\"/>\\n        <!--(先寫onfocus, 再寫onblur) -->\\n        <ul>\\n         <li>\\n          <a href=\"javascript: void(0)\" onclick=\"getKeyword(\\'retail_inquiry.aspx\\',\\'請輸入搜尋關鍵字\\')\">\\n           搜尋\\n          </a>\\n         </li>\\n        </ul>\\n       </li>\\n      </ul>\\n     </div>\\n     <!--/navContainer-->\\n     <!--mainmenu-->\\n     <div class=\"mainmenu\" style=\"position: relative; z-index:10;\">\\n      <div class=\"mainmenuContainer\">\\n       <ul class=\"l1\">\\n        <li class=\"m1\">\\n         <a href=\"javascript:OpenWindow();\">\\n          儲值/繳費\\n         </a>\\n         <ul class=\"l2\">\\n         </ul>\\n        </li>\\n        <li class=\"m2\">\\n         <a href=\"bonus.aspx#B011\">\\n          好康/紅利\\n         </a>\\n         <ul class=\"l2\">\\n          <li>\\n           <a href=\"bonus.aspx#B011\">\\n            好康活動\\n           </a>\\n           <span class=\"fa fa-angle-right\">\\n           </span>\\n          </li>\\n          <li>\\n           <a href=\"bonus.aspx#B041\">\\n            銀行\\n           </a>\\n           <span class=\"fa fa-angle-right\">\\n           </span>\\n          </li>\\n          <li>\\n           <a href=\"bonus.aspx#B031\">\\n            電子票證會員\\n           </a>\\n           <span class=\"fa fa-angle-right\">\\n           </span>\\n          </li>\\n          <li>\\n           <a href=\"bonus.aspx#B061\">\\n            電信 第三方支付會員\\n           </a>\\n           <span class=\"fa fa-angle-right\">\\n           </span>\\n          </li>\\n          <li>\\n           <a href=\"bonus.aspx#B081\">\\n            證券 保險\\n           </a>\\n           <span class=\"fa fa-angle-right\">\\n           </span>\\n          </li>\\n          <li>\\n           <a href=\"bonus.aspx#B051\">\\n            加油站\\n           </a>\\n           <span class=\"fa fa-angle-right\">\\n           </span>\\n          </li>\\n          <li>\\n           <a href=\"bonus.aspx#B071\">\\n            網路遊戲會員\\n           </a>\\n           <span class=\"fa fa-angle-right\">\\n           </span>\\n          </li>\\n          <li>\\n           <a href=\"bonus.aspx#B091\">\\n            政府\\n           </a>\\n           <span class=\"fa fa-angle-right\">\\n           </span>\\n          </li>\\n          <li>\\n           <a href=\"bonus.aspx#B012\">\\n            學校\\n           </a>\\n           <span class=\"fa fa-angle-right\">\\n           </span>\\n          </li>\\n          <li>\\n           <a href=\"bonus.aspx#B022\">\\n            交通\\n           </a>\\n           <span class=\"fa fa-angle-right\">\\n           </span>\\n          </li>\\n          <li>\\n           <a href=\"bonus.aspx#B021\">\\n            紅利點數兌換項目\\n           </a>\\n           <span class=\"fa fa-angle-right\">\\n           </span>\\n          </li>\\n         </ul>\\n        </li>\\n        <li class=\"m3\">\\n         <a href=\"Ticket.aspx\">\\n          票券中心\\n         </a>\\n         <ul class=\"l2\">\\n         </ul>\\n        </li>\\n        <li class=\"m4\">\\n         <a href=\"shopping.aspx#C051\">\\n          購物/寄貨\\n         </a>\\n         <ul class=\"l2\">\\n          <li>\\n           <a href=\"shopping.aspx#C051\">\\n            交貨便\\n           </a>\\n           <span class=\"fa fa-angle-right\">\\n           </span>\\n          </li>\\n          <li>\\n           <a href=\"shopping.aspx#C061\">\\n            黑貓宅急便\\n           </a>\\n           <span class=\"fa fa-angle-right\">\\n           </span>\\n          </li>\\n          <li>\\n           <a href=\"shopping.aspx#C071\">\\n            國際快遞\\n           </a>\\n           <span class=\"fa fa-angle-right\">\\n           </span>\\n          </li>\\n          <li>\\n           <a href=\"shopping.aspx#C03\">\\n            門市預購\\n           </a>\\n           <span class=\"fa fa-angle-right\">\\n           </span>\\n          </li>\\n          <li>\\n           <a href=\"shopping.aspx#C011\">\\n            7-ELEVEN 線上購物中心\\n           </a>\\n           <span class=\"fa fa-angle-right\">\\n           </span>\\n          </li>\\n          <li>\\n           <a href=\"shopping.aspx#C04\">\\n            門市預購地址查詢\\n           </a>\\n           <span class=\"fa fa-angle-right\">\\n           </span>\\n          </li>\\n         </ul>\\n        </li>\\n        <li class=\"m5\">\\n         <a href=\"printscan_ie.aspx#D0111\">\\n          列印/掃描\\n         </a>\\n         <ul class=\"l2\">\\n          <li>\\n           <a href=\"printscan_ie.aspx#D0111\">\\n            插入儲存裝置列印\\n           </a>\\n           <span class=\"fa fa-angle-right\">\\n           </span>\\n          </li>\\n          <li>\\n           <a href=\"printscan_ie.aspx#D071\">\\n            ibon文件下載\\n           </a>\\n           <span class=\"fa fa-angle-right\">\\n           </span>\\n          </li>\\n          <li>\\n           <a href=\"printscan_ie.aspx#D031\">\\n            企業雲端硬碟\\n           </a>\\n           <span class=\"fa fa-angle-right\">\\n           </span>\\n          </li>\\n          <li>\\n           <a href=\"printscan_ie.aspx#D061\">\\n            套版列印/授權圖像\\n           </a>\\n           <span class=\"fa fa-angle-right\">\\n           </span>\\n          </li>\\n          <li>\\n           <a href=\"printscan_ie.aspx#D02\">\\n            海報分割列印\\n           </a>\\n           <span class=\"fa fa-angle-right\">\\n           </span>\\n          </li>\\n          <li>\\n           <a href=\"printscan_ie.aspx#D04\">\\n            簡訊代碼取件列印\\n           </a>\\n           <span class=\"fa fa-angle-right\">\\n           </span>\\n          </li>\\n          <li>\\n           <a href=\"printscan_ie.aspx#D0511\">\\n            文件掃描\\n           </a>\\n           <span class=\"fa fa-angle-right\">\\n           </span>\\n          </li>\\n         </ul>\\n        </li>\\n        <li class=\"m6\">\\n         <a href=\"service.aspx#E041\">\\n          申辦服務\\n         </a>\\n         <ul class=\"l2\">\\n          <li>\\n           <a href=\"service.aspx#E041\">\\n            政府/學校便民服務\\n           </a>\\n           <span class=\"fa fa-angle-right\">\\n           </span>\\n          </li>\\n          <li>\\n           <a href=\"service.aspx#E031\">\\n            金融/保險\\n           </a>\\n           <span class=\"fa fa-angle-right\">\\n           </span>\\n          </li>\\n          <li>\\n           <a href=\"service.aspx#E011\">\\n            電信申辦\\n           </a>\\n           <span class=\"fa fa-angle-right\">\\n           </span>\\n          </li>\\n          <li>\\n           <a href=\"service.aspx#E051\">\\n            廣告刊登\\n           </a>\\n           <span class=\"fa fa-angle-right\">\\n           </span>\\n          </li>\\n         </ul>\\n        </li>\\n        <li class=\"m7\">\\n         <a href=\"life.aspx#F021\">\\n          生活服務\\n         </a>\\n         <ul class=\"l2\">\\n          <li>\\n           <a href=\"life.aspx#F021\">\\n            電子發票\\n           </a>\\n           <span class=\"fa fa-angle-right\">\\n           </span>\\n          </li>\\n          <li>\\n           <a href=\"life.aspx#F061\">\\n            icash/悠遊卡/一卡通查詢\\n           </a>\\n           <span class=\"fa fa-angle-right\">\\n           </span>\\n          </li>\\n          <li>\\n           <a href=\"life.aspx#F041\">\\n            叫車服務\\n           </a>\\n           <span class=\"fa fa-angle-right\">\\n           </span>\\n          </li>\\n          <li>\\n           <a href=\"life.aspx#F01\">\\n            找工作(勞動部)\\n           </a>\\n           <span class=\"fa fa-angle-right\">\\n           </span>\\n          </li>\\n          <li>\\n           <a href=\"life.aspx#F051\">\\n            生活情報\\n           </a>\\n           <span class=\"fa fa-angle-right\">\\n           </span>\\n          </li>\\n          <li>\\n           <a href=\"life.aspx#F031\">\\n            健康生活資訊\\n           </a>\\n           <span class=\"fa fa-angle-right\">\\n           </span>\\n          </li>\\n         </ul>\\n        </li>\\n        <li class=\"m8\">\\n         <a href=\"FLA/index.html\">\\n          English/日本語\\n         </a>\\n         <ul class=\"l2\" style=\"right: 0px;\">\\n          <li>\\n           <a href=\"FLA/index.html\">\\n            English\\n           </a>\\n           <span class=\"fa fa-angle-right\">\\n           </span>\\n          </li>\\n          <li>\\n           <a href=\"FLAJ/index.html\">\\n            日文\\n           </a>\\n           <span class=\"fa fa-angle-right\">\\n           </span>\\n          </li>\\n         </ul>\\n        </li>\\n       </ul>\\n      </div>\\n     </div>\\n     <!--/mainmenu-->\\n    </header>\\n    <!--/header-->\\n    <!--contentContainer-->\\n    <div class=\"contentContainer\">\\n     <!--content-->\\n     <div class=\"content\">\\n      <div class=\"mainArea\" id=\"B011\">\\n       <!--notabcontent-->\\n       <div class=\"mainContainer\" style=\" min-height:570px;\">\\n        <div class=\"searchmap\" style=\"float:left; margin:0 10px 0 0; position:relative; background:url(image/map.gif) no-repeat; width:387px; height:555px; margin:15px 0 0 0;\">\\n         <p onclick=\"setCountyShortCut(\\'基隆市\\')\" style=\"left: 320px; top: 25px;\">\\n          基隆市\\n         </p>\\n         <p onclick=\"setCountyShortCut(\\'台北市\\')\" style=\"left: 265px; top: 28px;\">\\n          台北市\\n         </p>\\n         <p onclick=\"setCountyShortCut(\\'新北市\\')\" style=\"left: 270px; top: 64px;\">\\n          新北市\\n         </p>\\n         <p onclick=\"setCountyShortCut(\\'桃園市\\')\" style=\"left: 210px; top: 45px;\">\\n          桃園市\\n         </p>\\n         <p onclick=\"setCountyShortCut(\\'新竹市\\')\" style=\"left: 159px; top: 80px;\">\\n          新竹市\\n         </p>\\n         <p onclick=\"setCountyShortCut(\\'新竹縣\\')\" style=\"left: 210px; top: 87px;\">\\n          新竹縣\\n         </p>\\n         <p onclick=\"setCountyShortCut(\\'苗栗縣\\')\" style=\"left: 175px; top: 126px;\">\\n          苗栗縣\\n         </p>\\n         <p onclick=\"setCountyShortCut(\\'台中市\\')\" style=\"left: 155px; top: 170px;\">\\n          台中市\\n         </p>\\n         <p onclick=\"setCountyShortCut(\\'彰化縣\\')\" style=\"left: 110px; top: 213px;\">\\n          彰化縣\\n         </p>\\n         <p onclick=\"setCountyShortCut(\\'雲林縣\\')\" style=\"left: 106px; top: 255px;\">\\n          雲林縣\\n         </p>\\n         <p onclick=\"setCountyShortCut(\\'南投縣\\')\" style=\"left: 190px; top: 225px;\">\\n          南投縣\\n         </p>\\n         <p onclick=\"setCountyShortCut(\\'嘉義縣\\')\" style=\"left: 75px; top: 300px;\">\\n          嘉義縣\\n         </p>\\n         <p onclick=\"setCountyShortCut(\\'嘉義市\\')\" style=\"left: 130px; top: 288px;\">\\n          嘉義市\\n         </p>\\n         <p onclick=\"setCountyShortCut(\\'台南市\\')\" style=\"left: 95px; top: 344px;\">\\n          台南市\\n         </p>\\n         <p onclick=\"setCountyShortCut(\\'高雄市\\')\" style=\"left: 155px; top: 357px;\">\\n          高雄市\\n         </p>\\n         <p onclick=\"setCountyShortCut(\\'屏東縣\\')\" style=\"left: 145px; top: 414px;\">\\n          屏東縣\\n         </p>\\n         <p onclick=\"setCountyShortCut(\\'台東縣\\')\" style=\"left: 225px; top: 357px;\">\\n          台東縣\\n         </p>\\n         <p onclick=\"setCountyShortCut(\\'花蓮縣\\')\" style=\"left: 265px; top: 221px;\">\\n          花蓮縣\\n         </p>\\n         <p onclick=\"setCountyShortCut(\\'宜蘭縣\\')\" style=\"left: 285px; top: 117px;\">\\n          宜蘭縣\\n         </p>\\n         <p onclick=\"setCountyShortCut(\\'連江縣\\')\" style=\"left: 23px; top: 130px;\">\\n          連江縣\\n         </p>\\n         <p onclick=\"setCountyShortCut(\\'金門縣\\')\" style=\"left: 11px; top: 225px;\">\\n          金門縣\\n         </p>\\n         <p onclick=\"setCountyShortCut(\\'澎湖縣\\')\" style=\"left: 15px; top: 275px;\">\\n          澎湖縣\\n         </p>\\n        </div>\\n        <div class=\"searchmain\" style=\" width:560px; margin:0 0 0 400px;\">\\n         <table cellpadding=\"0\" cellspacing=\"5\" style=\"margin:0 0 0 10px; width:96%;\">\\n          <tr>\\n           <td class=\"font16\" height=\"70\">\\n            請選擇欲查詢門市 :\\n           </td>\\n           <td height=\"70\">\\n            <select class=\"formstyle width170\" id=\"Class1\" name=\"FirstClass\" onchange=\"getRetailArea(\\'retail_inquiry_control.aspx\\', \\'thisform\\', \\'1\\', \\'2\\', 2);\" size=\"1\">\\n             <option value=\"1*台北市\">\\n              台北市\\n             </option>\\n             <option value=\"2*新北市\">\\n              新北市\\n             </option>\\n             <option value=\"3*基隆市\">\\n              基隆市\\n             </option>\\n             <option value=\"4*宜蘭縣\">\\n              宜蘭縣\\n             </option>\\n             <option value=\"5*桃園市\">\\n              桃園市\\n             </option>\\n             <option value=\"6*新竹市\">\\n              新竹市\\n             </option>\\n             <option value=\"7*新竹縣\">\\n              新竹縣\\n             </option>\\n             <option value=\"8*苗栗縣\">\\n              苗栗縣\\n             </option>\\n             <option value=\"9*台中市\">\\n              台中市\\n             </option>\\n             <option value=\"10*彰化縣\">\\n              彰化縣\\n             </option>\\n             <option value=\"11*南投縣\">\\n              南投縣\\n             </option>\\n             <option value=\"12*雲林縣\">\\n              雲林縣\\n             </option>\\n             <option value=\"13*嘉義市\">\\n              嘉義市\\n             </option>\\n             <option value=\"14*嘉義縣\">\\n              嘉義縣\\n             </option>\\n             <option value=\"15*台南市\">\\n              台南市\\n             </option>\\n             <option value=\"16*高雄市\">\\n              高雄市\\n             </option>\\n             <option value=\"17*屏東縣\">\\n              屏東縣\\n             </option>\\n             <option value=\"18*花蓮縣\">\\n              花蓮縣\\n             </option>\\n             <option value=\"19*台東縣\">\\n              台東縣\\n             </option>\\n             <option value=\"20*澎湖縣\">\\n              澎湖縣\\n             </option>\\n             <option value=\"21*金門縣\">\\n              金門縣\\n             </option>\\n             <option value=\"22*連江縣\">\\n              連江縣\\n             </option>\\n             <option value=\"23*南海諸島\">\\n              南海諸島\\n             </option>\\n            </select>\\n           </td>\\n           <td height=\"70\">\\n            <select class=\"formstyle width170\" id=\"Class2\" name=\"SecondClass\" onchange=\"getRetailArea(\\'retail_inquiry_control.aspx\\', \\'thisform\\', \\'2\\', \\'\\', 0);\" size=\"1\" style=\"visibility:visible;\">\\n             <option value=\"0\">\\n              全部行政區\\n             </option>\\n             <option value=\"100*中正區\">\\n              ( 100 ) 中正區\\n             </option>\\n             <option value=\"103*大同區\">\\n              ( 103 ) 大同區\\n             </option>\\n             <option value=\"104*中山區\">\\n              ( 104 ) 中山區\\n             </option>\\n             <option value=\"105*松山區\">\\n              ( 105 ) 松山區\\n             </option>\\n             <option value=\"106*大安區\">\\n              ( 106 ) 大安區\\n             </option>\\n             <option value=\"108*萬華區\">\\n              ( 108 ) 萬華區\\n             </option>\\n             <option value=\"110*信義區\">\\n              ( 110 ) 信義區\\n             </option>\\n             <option value=\"111*士林區\">\\n              ( 111 ) 士林區\\n             </option>\\n             <option value=\"112*北投區\">\\n              ( 112 ) 北投區\\n             </option>\\n             <option value=\"114*內湖區\">\\n              ( 114 ) 內湖區\\n             </option>\\n             <option value=\"115*南港區\">\\n              ( 115 ) 南港區\\n             </option>\\n             <option value=\"116*文山區\">\\n              ( 116 ) 文山區\\n             </option>\\n            </select>\\n           </td>\\n          </tr>\\n          <tr>\\n           <td class=\"font16\" colspan=\"3\">\\n            <div class=\"line\">\\n            </div>\\n           </td>\\n          </tr>\\n          <tr>\\n           <td class=\"font16\" colspan=\"3\" height=\"70\">\\n            地址:\\n            <input class=\"formstyle width350\" id=\"txtKeyWords\" maxlength=\"50\" name=\"txtKeyWords\" onblur=\"resettext(this)\" onfocus=\"cleartext(this)\" onkeyup=\"undoBorderColor(\\'txtKeyWords\\', true)\" style=\"color:#7D7D7D;\" type=\"text\" value=\"可查地址、店號/店名、縣市/鄉鎮市區/郵遞區號\"/>\\n            <a class=\"btn btn_d\" href=\"javascript: void(0)\" onclick=\"return SendProcess_Retail_Inquiry(this, false);\" style=\" margin:0 0 0 10px; padding:9px 30px;\">\\n             查詢\\n             <i class=\"fa fa-caret-right\">\\n             </i>\\n            </a>\\n           </td>\\n          </tr>\\n         </table>\\n         <div id=\"InquiryResule\">\\n         </div>\\n         <!--/notabcontent-->\\n        </div>\\n       </div>\\n       <!--/content-->\\n       <!--gototop-->\\n       <div class=\"gototop\" style=\"position: fixed; bottom: 60px; display:none;\">\\n        <ul>\\n         <li>\\n          <a href=\"javascript: goTop();\">\\n           top\\n          </a>\\n         </li>\\n        </ul>\\n       </div>\\n       <!--/gototop-->\\n      </div>\\n      <!--/contentContainer-->\\n     </div>\\n     <!--/wrapper-->\\n    </div>\\n    <!--footer-->\\n    <footer>\\n     <div class=\"footerContainer\">\\n      ©2015 President Chain Store Corporation. All rights reserved. │\\n      <a href=\"./privacy.aspx\">\\n       隱私權政策\\n      </a>\\n      │\\n      <a href=\"./mobile/default.aspx?frompage=pc\">\\n       手機版\\n      </a>\\n      │ 客服專線：0800-016-138 /(02)2659-9900(24小時)\\n     </div>\\n    </footer>\\n    <!--/footer-->\\n    <script language=\"javascript\" type=\"text/javascript\">\\n     ajxSend_Retail_Inquiry_MappingLocate(\\'台北市\\', \\'COUNTY\\');\\n    </script>\\n    <iframe frameborder=\"1\" id=\"imitate_ajax\" name=\"imitate_ajax\" scrolling=\"yes\" style=\"width:0px;height:0px;position:absolute;top:-100px;left:-100px;z-index:-100;background-color:Gray\">\\n    </iframe>\\n   </div>\\n  </form>\\n </body>\\n</html>\\n<script src=\"js/GoogleTrafficAnalysisTools.js\">\\n</script>'"
            ]
          },
          "metadata": {},
          "execution_count": 119
        }
      ]
    },
    {
      "cell_type": "markdown",
      "metadata": {
        "id": "qRlH-PhxCo2U"
      },
      "source": [
        "\n",
        "- Selecting data by CSS selector https://stackoverflow.com/questions/24801548/how-to-use-css-selectors-to-retrieve-specific-links-lying-in-some-class-using-be\n",
        "- Selecting node with id: https://stackoverflow.com/questions/56860183/how-to-find-allid-from-a-div-with-beautiful-soup-in-python/56860413"
      ]
    },
    {
      "cell_type": "code",
      "metadata": {
        "colab": {
          "base_uri": "https://localhost:8080/"
        },
        "id": "S1c4KWl2Co2V",
        "outputId": "9daef71c-d6e6-4744-c990-63f213d855b3"
      },
      "source": [
        "counties = []\n",
        "for op in soup.select(\"#Class1 option\"):\n",
        "    print(op.text)\n",
        "    counties.append(op.text)"
      ],
      "execution_count": 120,
      "outputs": [
        {
          "output_type": "stream",
          "name": "stdout",
          "text": [
            "台北市\n",
            "新北市\n",
            "基隆市\n",
            "宜蘭縣\n",
            "桃園市\n",
            "新竹市\n",
            "新竹縣\n",
            "苗栗縣\n",
            "台中市\n",
            "彰化縣\n",
            "南投縣\n",
            "雲林縣\n",
            "嘉義市\n",
            "嘉義縣\n",
            "台南市\n",
            "高雄市\n",
            "屏東縣\n",
            "花蓮縣\n",
            "台東縣\n",
            "澎湖縣\n",
            "金門縣\n",
            "連江縣\n",
            "南海諸島\n"
          ]
        }
      ]
    },
    {
      "cell_type": "markdown",
      "metadata": {
        "id": "DmIrxspVCo2W"
      },
      "source": [
        "https://stackoverflow.com/questions/50633050/scrape-tables-into-dataframe-with-beautifulsoup"
      ]
    },
    {
      "cell_type": "markdown",
      "metadata": {
        "id": "HIGi42ytCo2X"
      },
      "source": [
        "## Get stores of a county"
      ]
    },
    {
      "cell_type": "code",
      "metadata": {
        "id": "-GVlCqygCo2Y"
      },
      "source": [
        "payloads = {'strTargetField':'COUNTY', \n",
        "            'strKeyWords':'台北市'}\n",
        "url_ibon = 'https://www.ibon.com.tw/retail_inquiry_ajax.aspx'\n",
        "raw = requests.post(url_ibon, data=payloads)\n",
        "soup = BeautifulSoup(raw.text, \"html.parser\")"
      ],
      "execution_count": 121,
      "outputs": []
    },
    {
      "cell_type": "code",
      "metadata": {
        "colab": {
          "base_uri": "https://localhost:8080/",
          "height": 419
        },
        "id": "fV9SK1fHCo2Z",
        "outputId": "e204b4cf-f42c-4d28-adfe-efabcfd6fbba"
      },
      "source": [
        "import pandas as pd\n",
        "table_rows = soup.find('table').find_all('tr')\n",
        "cname = ['sid', 'sname', 'addr']\n",
        "rows = []\n",
        "for tr in table_rows[1:]:\n",
        "    tds = tr.find_all('td')\n",
        "    row = []\n",
        "    for td in tds:\n",
        "        row.append(td.text.strip())\n",
        "    rows.append(row)\n",
        "pd.DataFrame(rows, columns=cname)"
      ],
      "execution_count": 122,
      "outputs": [
        {
          "output_type": "execute_result",
          "data": {
            "text/html": [
              "<div>\n",
              "<style scoped>\n",
              "    .dataframe tbody tr th:only-of-type {\n",
              "        vertical-align: middle;\n",
              "    }\n",
              "\n",
              "    .dataframe tbody tr th {\n",
              "        vertical-align: top;\n",
              "    }\n",
              "\n",
              "    .dataframe thead th {\n",
              "        text-align: right;\n",
              "    }\n",
              "</style>\n",
              "<table border=\"1\" class=\"dataframe\">\n",
              "  <thead>\n",
              "    <tr style=\"text-align: right;\">\n",
              "      <th></th>\n",
              "      <th>sid</th>\n",
              "      <th>sname</th>\n",
              "      <th>addr</th>\n",
              "    </tr>\n",
              "  </thead>\n",
              "  <tbody>\n",
              "    <tr>\n",
              "      <th>0</th>\n",
              "      <td>110817</td>\n",
              "      <td>千翔</td>\n",
              "      <td>台北市中正區許昌街17號1樓</td>\n",
              "    </tr>\n",
              "    <tr>\n",
              "      <th>1</th>\n",
              "      <td>111278</td>\n",
              "      <td>前港</td>\n",
              "      <td>台北市士林區後港街98之1號2號1樓</td>\n",
              "    </tr>\n",
              "    <tr>\n",
              "      <th>2</th>\n",
              "      <td>111636</td>\n",
              "      <td>江東</td>\n",
              "      <td>台北市中山區長安東路二段43號45-1號1樓</td>\n",
              "    </tr>\n",
              "    <tr>\n",
              "      <th>3</th>\n",
              "      <td>112684</td>\n",
              "      <td>塔優</td>\n",
              "      <td>台北市松山區撫遠街197號199號</td>\n",
              "    </tr>\n",
              "    <tr>\n",
              "      <th>4</th>\n",
              "      <td>113089</td>\n",
              "      <td>秀湖</td>\n",
              "      <td>台北市內湖區成功路四段359號1樓</td>\n",
              "    </tr>\n",
              "    <tr>\n",
              "      <th>...</th>\n",
              "      <td>...</td>\n",
              "      <td>...</td>\n",
              "      <td>...</td>\n",
              "    </tr>\n",
              "    <tr>\n",
              "      <th>862</th>\n",
              "      <td>996523</td>\n",
              "      <td>篷萊</td>\n",
              "      <td>台北市大同區寧夏路131-1號</td>\n",
              "    </tr>\n",
              "    <tr>\n",
              "      <th>863</th>\n",
              "      <td>996637</td>\n",
              "      <td>和業</td>\n",
              "      <td>台北市北投區中和街10號</td>\n",
              "    </tr>\n",
              "    <tr>\n",
              "      <th>864</th>\n",
              "      <td>996741</td>\n",
              "      <td>元大</td>\n",
              "      <td>台北市中山區遼寧街110號1樓</td>\n",
              "    </tr>\n",
              "    <tr>\n",
              "      <th>865</th>\n",
              "      <td>997571</td>\n",
              "      <td>聚鑫</td>\n",
              "      <td>台北市士林區延平北路六段350號</td>\n",
              "    </tr>\n",
              "    <tr>\n",
              "      <th>866</th>\n",
              "      <td>999083</td>\n",
              "      <td>匯陽</td>\n",
              "      <td>台北市內湖區陽光街383號</td>\n",
              "    </tr>\n",
              "  </tbody>\n",
              "</table>\n",
              "<p>867 rows × 3 columns</p>\n",
              "</div>"
            ],
            "text/plain": [
              "        sid sname                    addr\n",
              "0    110817    千翔          台北市中正區許昌街17號1樓\n",
              "1    111278    前港      台北市士林區後港街98之1號2號1樓\n",
              "2    111636    江東  台北市中山區長安東路二段43號45-1號1樓\n",
              "3    112684    塔優       台北市松山區撫遠街197號199號\n",
              "4    113089    秀湖       台北市內湖區成功路四段359號1樓\n",
              "..      ...   ...                     ...\n",
              "862  996523    篷萊         台北市大同區寧夏路131-1號\n",
              "863  996637    和業            台北市北投區中和街10號\n",
              "864  996741    元大         台北市中山區遼寧街110號1樓\n",
              "865  997571    聚鑫        台北市士林區延平北路六段350號\n",
              "866  999083    匯陽           台北市內湖區陽光街383號\n",
              "\n",
              "[867 rows x 3 columns]"
            ]
          },
          "metadata": {},
          "execution_count": 122
        }
      ]
    },
    {
      "cell_type": "markdown",
      "metadata": {
        "id": "dedM9glpCo2a"
      },
      "source": [
        "## (YOUR CODE HERE) Combine them\n",
        "Output should be \n",
        "```\n",
        "COUNTY\tNum of Stores\n",
        "台北市 \t 855\n",
        "新北市 \t 1043\n",
        "基隆市 \t 80\n",
        "宜蘭縣 \t 108\n",
        "桃園市 \t 697\n",
        "新竹市 \t 154\n",
        "新竹縣 \t 183\n",
        "苗栗縣 \t 135\n",
        "台中市 \t 755\n",
        "彰化縣 \t 225\n",
        "南投縣 \t 100\n",
        "雲林縣 \t 120\n",
        "嘉義市 \t 67\n",
        "嘉義縣 \t 103\n",
        "台南市 \t 512\n",
        "高雄市 \t 609\n",
        "屏東縣 \t 163\n",
        "花蓮縣 \t 99\n",
        "台東縣 \t 60\n",
        "澎湖縣 \t 31\n",
        "金門縣 \t 25\n",
        "連江縣 \t 12\n",
        "南海諸島 \t\n",
        "```"
      ]
    },
    {
      "cell_type": "code",
      "metadata": {
        "colab": {
          "base_uri": "https://localhost:8080/"
        },
        "id": "DS0qs6wTCo2b",
        "outputId": "668c3024-9826-43d9-cb0a-0a42b99e00e6"
      },
      "source": [
        "\n",
        "url_ibon = 'http://www.ibon.com.tw/retail_inquiry_ajax.aspx'\n",
        "\n",
        "rows = []\n",
        "\n",
        "# YOUR CODE GOES FROM HERE\n",
        "print('{}\\t{}'.format('COUNTY','Num of Stores'))\n",
        "for county in counties:\n",
        "    num = 0\n",
        "    payloads = {'strTargetField':'COUNTY', \n",
        "                'strKeyWords':county}\n",
        "    url_ibon = 'https://www.ibon.com.tw/retail_inquiry_ajax.aspx'\n",
        "    raw = requests.post(url_ibon, data=payloads)\n",
        "    soup = BeautifulSoup(raw.text, \"html.parser\")\n",
        "    table_rows = soup.find('table').find_all('tr')\n",
        "    for tr in table_rows[1:]:\n",
        "        tds = tr.find_all('td')\n",
        "        row = []\n",
        "        for td in tds:\n",
        "            row.append(td.text.strip())\n",
        "        rows.append(row)   \n",
        "        num += 1\n",
        "    print('{}\\t{}'.format(county,num))\n"
      ],
      "execution_count": 123,
      "outputs": [
        {
          "output_type": "stream",
          "name": "stdout",
          "text": [
            "COUNTY\tNum of Stores\n",
            "台北市\t867\n",
            "新北市\t1074\n",
            "基隆市\t83\n",
            "宜蘭縣\t112\n",
            "桃園市\t722\n",
            "新竹市\t156\n",
            "新竹縣\t191\n",
            "苗栗縣\t141\n",
            "台中市\t785\n",
            "彰化縣\t234\n",
            "南投縣\t103\n",
            "雲林縣\t122\n",
            "嘉義市\t68\n",
            "嘉義縣\t106\n",
            "台南市\t528\n",
            "高雄市\t637\n",
            "屏東縣\t171\n",
            "花蓮縣\t101\n",
            "台東縣\t58\n",
            "澎湖縣\t33\n",
            "金門縣\t23\n",
            "連江縣\t12\n",
            "南海諸島\t1\n"
          ]
        }
      ]
    },
    {
      "cell_type": "markdown",
      "metadata": {
        "id": "3UddEhLvCo2c"
      },
      "source": [
        "## AS04_1 Output Verification"
      ]
    },
    {
      "cell_type": "markdown",
      "metadata": {
        "id": "e3fc9OIPCo2d"
      },
      "source": [
        "### Verification 1_1\n",
        "```\n",
        "sid\tsname\taddr\n",
        "0\t110817\t千翔\t台北市中正區許昌街17號1樓\n",
        "1\t111278\t前港\t台北市士林區後港街98之1號2號1樓\n",
        "2\t111636\t江東\t台北市中山區長安東路二段43號45-1號1樓\n",
        "3\t112684\t塔優\t台北市松山區撫遠街197號199號\n",
        "4\t113089\t秀湖\t台北市內湖區成功路四段359號1樓\n",
        "...\t...\t...\t...\n",
        "6132\t950376\t南竿\t連江縣南竿鄉清水村100號\n",
        "6133\t952512\t馬港\t連江縣南竿鄉馬祖村中山路58號60號\n",
        "6134\t952523\t北竿\t連江縣北竿鄉塘岐村中山路193號195號\n",
        "6135\t991322\t中隴\t連江縣南竿鄉介壽村3鄰48-2號\n",
        "6136\t無符合條件的門市資料，請重新定義條件\tNone\tNone\n",
        "6137 rows × 3 columns\n",
        "```"
      ]
    },
    {
      "cell_type": "code",
      "metadata": {
        "colab": {
          "base_uri": "https://localhost:8080/",
          "height": 419
        },
        "id": "9plwJg-1Co2d",
        "outputId": "68a2b324-e7df-4552-8346-3e7005b03a7e"
      },
      "source": [
        "cname = ['sid', 'sname', 'addr']\n",
        "ibon_df = pd.DataFrame(rows, columns=cname)\n",
        "ibon_df"
      ],
      "execution_count": 124,
      "outputs": [
        {
          "output_type": "execute_result",
          "data": {
            "text/html": [
              "<div>\n",
              "<style scoped>\n",
              "    .dataframe tbody tr th:only-of-type {\n",
              "        vertical-align: middle;\n",
              "    }\n",
              "\n",
              "    .dataframe tbody tr th {\n",
              "        vertical-align: top;\n",
              "    }\n",
              "\n",
              "    .dataframe thead th {\n",
              "        text-align: right;\n",
              "    }\n",
              "</style>\n",
              "<table border=\"1\" class=\"dataframe\">\n",
              "  <thead>\n",
              "    <tr style=\"text-align: right;\">\n",
              "      <th></th>\n",
              "      <th>sid</th>\n",
              "      <th>sname</th>\n",
              "      <th>addr</th>\n",
              "    </tr>\n",
              "  </thead>\n",
              "  <tbody>\n",
              "    <tr>\n",
              "      <th>0</th>\n",
              "      <td>110817</td>\n",
              "      <td>千翔</td>\n",
              "      <td>台北市中正區許昌街17號1樓</td>\n",
              "    </tr>\n",
              "    <tr>\n",
              "      <th>1</th>\n",
              "      <td>111278</td>\n",
              "      <td>前港</td>\n",
              "      <td>台北市士林區後港街98之1號2號1樓</td>\n",
              "    </tr>\n",
              "    <tr>\n",
              "      <th>2</th>\n",
              "      <td>111636</td>\n",
              "      <td>江東</td>\n",
              "      <td>台北市中山區長安東路二段43號45-1號1樓</td>\n",
              "    </tr>\n",
              "    <tr>\n",
              "      <th>3</th>\n",
              "      <td>112684</td>\n",
              "      <td>塔優</td>\n",
              "      <td>台北市松山區撫遠街197號199號</td>\n",
              "    </tr>\n",
              "    <tr>\n",
              "      <th>4</th>\n",
              "      <td>113089</td>\n",
              "      <td>秀湖</td>\n",
              "      <td>台北市內湖區成功路四段359號1樓</td>\n",
              "    </tr>\n",
              "    <tr>\n",
              "      <th>...</th>\n",
              "      <td>...</td>\n",
              "      <td>...</td>\n",
              "      <td>...</td>\n",
              "    </tr>\n",
              "    <tr>\n",
              "      <th>6323</th>\n",
              "      <td>950376</td>\n",
              "      <td>南竿</td>\n",
              "      <td>連江縣南竿鄉清水村100號</td>\n",
              "    </tr>\n",
              "    <tr>\n",
              "      <th>6324</th>\n",
              "      <td>952512</td>\n",
              "      <td>馬港</td>\n",
              "      <td>連江縣南竿鄉馬祖村中山路58號60號</td>\n",
              "    </tr>\n",
              "    <tr>\n",
              "      <th>6325</th>\n",
              "      <td>952523</td>\n",
              "      <td>北竿</td>\n",
              "      <td>連江縣北竿鄉塘岐村中山路193號195號</td>\n",
              "    </tr>\n",
              "    <tr>\n",
              "      <th>6326</th>\n",
              "      <td>991322</td>\n",
              "      <td>中隴</td>\n",
              "      <td>連江縣南竿鄉介壽村3鄰48-2號</td>\n",
              "    </tr>\n",
              "    <tr>\n",
              "      <th>6327</th>\n",
              "      <td>無符合條件的門市資料，請重新定義條件</td>\n",
              "      <td>None</td>\n",
              "      <td>None</td>\n",
              "    </tr>\n",
              "  </tbody>\n",
              "</table>\n",
              "<p>6328 rows × 3 columns</p>\n",
              "</div>"
            ],
            "text/plain": [
              "                     sid sname                    addr\n",
              "0                 110817    千翔          台北市中正區許昌街17號1樓\n",
              "1                 111278    前港      台北市士林區後港街98之1號2號1樓\n",
              "2                 111636    江東  台北市中山區長安東路二段43號45-1號1樓\n",
              "3                 112684    塔優       台北市松山區撫遠街197號199號\n",
              "4                 113089    秀湖       台北市內湖區成功路四段359號1樓\n",
              "...                  ...   ...                     ...\n",
              "6323              950376    南竿           連江縣南竿鄉清水村100號\n",
              "6324              952512    馬港      連江縣南竿鄉馬祖村中山路58號60號\n",
              "6325              952523    北竿    連江縣北竿鄉塘岐村中山路193號195號\n",
              "6326              991322    中隴        連江縣南竿鄉介壽村3鄰48-2號\n",
              "6327  無符合條件的門市資料，請重新定義條件  None                    None\n",
              "\n",
              "[6328 rows x 3 columns]"
            ]
          },
          "metadata": {},
          "execution_count": 124
        }
      ]
    },
    {
      "cell_type": "markdown",
      "metadata": {
        "id": "hyqt4h5eCo2e"
      },
      "source": [
        "### Verification 1_2"
      ]
    },
    {
      "cell_type": "code",
      "metadata": {
        "colab": {
          "base_uri": "https://localhost:8080/"
        },
        "id": "rb5QfiYbCo2f",
        "outputId": "6215c012-230f-460e-ddaa-476cbc81fc0c"
      },
      "source": [
        "ibon_df.shape"
      ],
      "execution_count": 125,
      "outputs": [
        {
          "output_type": "execute_result",
          "data": {
            "text/plain": [
              "(6328, 3)"
            ]
          },
          "metadata": {},
          "execution_count": 125
        }
      ]
    },
    {
      "cell_type": "markdown",
      "metadata": {
        "id": "smW_NFntCo2f"
      },
      "source": [
        "# AS05_2 Scraping PTT comments\n",
        "- 撈取Boy-Girl版最新的10頁文章（並非10則文章，是10頁的文章，約150則左右）。\n",
        "- 撈取的同時，請稍微修改下面的Code以抓回Comments"
      ]
    },
    {
      "cell_type": "markdown",
      "metadata": {
        "id": "tPo6yvMfCo2g"
      },
      "source": [
        "## Getting 10 pages of post list\n",
        "- `lastpage` 不見得是5303，撈得到就好。重點是撈10個post list頁面"
      ]
    },
    {
      "cell_type": "code",
      "metadata": {
        "id": "TZ03hs65Co2h"
      },
      "source": [
        "import requests\n",
        "from bs4 import BeautifulSoup"
      ],
      "execution_count": 101,
      "outputs": []
    },
    {
      "cell_type": "code",
      "metadata": {
        "colab": {
          "base_uri": "https://localhost:8080/"
        },
        "id": "ZDFUrKzdCo2h",
        "outputId": "c6693727-2444-4c4b-aa71-e0ceee11e05b"
      },
      "source": [
        "pre = 'https://www.ptt.cc'\n",
        "links = []\n",
        "lastpage = 5303\n",
        "for i in range(lastpage, lastpage-10, -1):\n",
        "    url = 'https://www.ptt.cc/bbs/Boy-Girl/index{}.html'.format(i)\n",
        "    response = requests.get(url, timeout=(1, 2))\n",
        "    soup = BeautifulSoup(response.text, 'html.parser')\n",
        "    for div in soup.find_all(class_='r-ent'):\n",
        "        try:\n",
        "            links.append(pre + div.find(class_='title').a['href'])\n",
        "        except:\n",
        "            pass\n",
        "    print(i, \"\\t\", len(links))"
      ],
      "execution_count": 102,
      "outputs": [
        {
          "output_type": "stream",
          "name": "stdout",
          "text": [
            "5303 \t 20\n",
            "5302 \t 40\n",
            "5301 \t 60\n",
            "5300 \t 80\n",
            "5299 \t 100\n",
            "5298 \t 120\n",
            "5297 \t 140\n",
            "5296 \t 160\n",
            "5295 \t 180\n",
            "5294 \t 200\n"
          ]
        }
      ]
    },
    {
      "cell_type": "markdown",
      "metadata": {
        "id": "I9zQw1Q2Co2i"
      },
      "source": [
        "## Getting comments of a specific post\n",
        "- 撈到的links數也不見得會是165"
      ]
    },
    {
      "cell_type": "code",
      "metadata": {
        "colab": {
          "base_uri": "https://localhost:8080/"
        },
        "id": "0jeTTtyQCo2j",
        "outputId": "3f347b8b-142d-4f7c-b25d-c78a669c9f24"
      },
      "source": [
        "print(links[0])\n",
        "print(len(links))"
      ],
      "execution_count": 103,
      "outputs": [
        {
          "output_type": "stream",
          "name": "stdout",
          "text": [
            "https://www.ptt.cc/bbs/Boy-Girl/M.1620139681.A.677.html\n",
            "200\n"
          ]
        }
      ]
    },
    {
      "cell_type": "code",
      "metadata": {
        "colab": {
          "base_uri": "https://localhost:8080/",
          "height": 419
        },
        "id": "GgjUvmr-Co2k",
        "outputId": "38db8b14-b0fc-4aea-a481-cd60c0e70ae4"
      },
      "source": [
        "res = requests.get(links[0], timeout=(1, 2))\n",
        "soup = BeautifulSoup(res.text, \"html.parser\")\n",
        "\n",
        "comments = []\n",
        "for push in soup.find_all(class_=\"push\"):\n",
        "    push_tag = push.find(class_='push-tag').text\n",
        "    push_userid = push.find(class_='push-userid').text\n",
        "    push_content = push.find(class_='push-content').text\n",
        "    push_ipdatetime = push.find(class_='push-ipdatetime').text\n",
        "\n",
        "    #print push_userid, push_content, push_ipdatetime\n",
        "    comments.append({'tag': push_tag,\n",
        "                     'userid':push_userid, \n",
        "                     'content':push_content, \n",
        "                     'timestamp':push_ipdatetime})\n",
        "    \n",
        "pd.DataFrame(comments)"
      ],
      "execution_count": 104,
      "outputs": [
        {
          "output_type": "execute_result",
          "data": {
            "text/html": [
              "<div>\n",
              "<style scoped>\n",
              "    .dataframe tbody tr th:only-of-type {\n",
              "        vertical-align: middle;\n",
              "    }\n",
              "\n",
              "    .dataframe tbody tr th {\n",
              "        vertical-align: top;\n",
              "    }\n",
              "\n",
              "    .dataframe thead th {\n",
              "        text-align: right;\n",
              "    }\n",
              "</style>\n",
              "<table border=\"1\" class=\"dataframe\">\n",
              "  <thead>\n",
              "    <tr style=\"text-align: right;\">\n",
              "      <th></th>\n",
              "      <th>tag</th>\n",
              "      <th>userid</th>\n",
              "      <th>content</th>\n",
              "      <th>timestamp</th>\n",
              "    </tr>\n",
              "  </thead>\n",
              "  <tbody>\n",
              "    <tr>\n",
              "      <th>0</th>\n",
              "      <td>推</td>\n",
              "      <td>fkt12</td>\n",
              "      <td>: 甘願做甘願受...自己選擇的也要自己承擔失去的失落感</td>\n",
              "      <td>05/04 23:24\\n</td>\n",
              "    </tr>\n",
              "    <tr>\n",
              "      <th>1</th>\n",
              "      <td>推</td>\n",
              "      <td>frombehind</td>\n",
              "      <td>: 等到雙方情愫都消退之後，如果還有機會的話，大可再</td>\n",
              "      <td>05/04 23:30\\n</td>\n",
              "    </tr>\n",
              "    <tr>\n",
              "      <th>2</th>\n",
              "      <td>→</td>\n",
              "      <td>frombehind</td>\n",
              "      <td>: 做朋友啊</td>\n",
              "      <td>05/04 23:30\\n</td>\n",
              "    </tr>\n",
              "    <tr>\n",
              "      <th>3</th>\n",
              "      <td>推</td>\n",
              "      <td>Pheromone</td>\n",
              "      <td>: 尻 小旅行 開車亂晃 吉他練nail attack技巧（單音）</td>\n",
              "      <td>05/04 23:36\\n</td>\n",
              "    </tr>\n",
              "    <tr>\n",
              "      <th>4</th>\n",
              "      <td>噓</td>\n",
              "      <td>rogergon</td>\n",
              "      <td>: 失眠小意思，對方搞不好被你這樣一分都失調了。</td>\n",
              "      <td>05/04 23:48\\n</td>\n",
              "    </tr>\n",
              "    <tr>\n",
              "      <th>...</th>\n",
              "      <td>...</td>\n",
              "      <td>...</td>\n",
              "      <td>...</td>\n",
              "      <td>...</td>\n",
              "    </tr>\n",
              "    <tr>\n",
              "      <th>83</th>\n",
              "      <td>→</td>\n",
              "      <td>amy76425</td>\n",
              "      <td>: 在一起無論多長多短 遇到問題應該討論 而不是逃避阿</td>\n",
              "      <td>05/05 22:08\\n</td>\n",
              "    </tr>\n",
              "    <tr>\n",
              "      <th>84</th>\n",
              "      <td>→</td>\n",
              "      <td>iwanttosleep</td>\n",
              "      <td>: 交往多年現在才意識到很多價值觀不合？</td>\n",
              "      <td>05/05 22:11\\n</td>\n",
              "    </tr>\n",
              "    <tr>\n",
              "      <th>85</th>\n",
              "      <td>→</td>\n",
              "      <td>iwanttosleep</td>\n",
              "      <td>: 這幾年都沒在用心沒在溝通？</td>\n",
              "      <td>05/05 22:11\\n</td>\n",
              "    </tr>\n",
              "    <tr>\n",
              "      <th>86</th>\n",
              "      <td>噓</td>\n",
              "      <td>somouse</td>\n",
              "      <td>: 玩膩了總要找個藉口</td>\n",
              "      <td>05/05 23:49\\n</td>\n",
              "    </tr>\n",
              "    <tr>\n",
              "      <th>87</th>\n",
              "      <td>噓</td>\n",
              "      <td>qmei</td>\n",
              "      <td>: 夠噁</td>\n",
              "      <td>06/06 16:00\\n</td>\n",
              "    </tr>\n",
              "  </tbody>\n",
              "</table>\n",
              "<p>88 rows × 4 columns</p>\n",
              "</div>"
            ],
            "text/plain": [
              "   tag        userid                            content       timestamp\n",
              "0   推          fkt12       : 甘願做甘願受...自己選擇的也要自己承擔失去的失落感   05/04 23:24\\n\n",
              "1   推     frombehind         : 等到雙方情愫都消退之後，如果還有機會的話，大可再   05/04 23:30\\n\n",
              "2   →     frombehind                             : 做朋友啊   05/04 23:30\\n\n",
              "3   推      Pheromone  : 尻 小旅行 開車亂晃 吉他練nail attack技巧（單音）   05/04 23:36\\n\n",
              "4   噓       rogergon           : 失眠小意思，對方搞不好被你這樣一分都失調了。   05/04 23:48\\n\n",
              "..  ..           ...                                ...             ...\n",
              "83  →       amy76425        : 在一起無論多長多短 遇到問題應該討論 而不是逃避阿   05/05 22:08\\n\n",
              "84  →   iwanttosleep               : 交往多年現在才意識到很多價值觀不合？   05/05 22:11\\n\n",
              "85  →   iwanttosleep                    : 這幾年都沒在用心沒在溝通？   05/05 22:11\\n\n",
              "86  噓        somouse                        : 玩膩了總要找個藉口   05/05 23:49\\n\n",
              "87  噓           qmei                               : 夠噁   06/06 16:00\\n\n",
              "\n",
              "[88 rows x 4 columns]"
            ]
          },
          "metadata": {},
          "execution_count": 104
        }
      ]
    },
    {
      "cell_type": "markdown",
      "metadata": {
        "id": "QCUBUItSCo2l"
      },
      "source": [
        "## (YOUR CODE HERE) Combine above two chunks\n",
        "\n",
        "上面第一部分是撈10頁的posts，取得超過100個post links。\n",
        "第二部分是把某一篇posts的comment用BeautifulSoup給爬梳出來，\n",
        "現在你要做的事情是，把上面這兩部分結合起來，把這超過100篇的posts中的comments給抓出來。\n",
        "\n"
      ]
    },
    {
      "cell_type": "code",
      "metadata": {
        "id": "y5rtotDqCo2l"
      },
      "source": [
        "from bs4 import NavigableString\n",
        "all_post = []\n",
        "for link in links:\n",
        "    # YOUR CODE GOES FROM HERE\n",
        "    res = requests.get(link, timeout=(1, 2))\n",
        "    soup = BeautifulSoup(res.text, \"html.parser\")\n",
        "    title = soup.title.text\n",
        "    metas = soup.find_all(class_='article-meta-value')\n",
        "    author = metas[0].text\n",
        "    timestamp = metas[-1].text\n",
        "    content = ''\n",
        "    for text in soup.find(id = 'main-content'):\n",
        "        if isinstance(text, NavigableString):\n",
        "            content += text.strip()\n",
        "\n",
        "    comm = []\n",
        "    for push in soup.find_all(class_=\"push\"):\n",
        "        push_tag = push.find(class_='push-tag').text\n",
        "        push_userid = push.find(class_='push-userid').text\n",
        "        push_content = push.find(class_='push-content').text\n",
        "        push_ipdatetime = push.find(class_='push-ipdatetime').text\n",
        "        comm.append({'tag': push_tag,\n",
        "                     'userid':push_userid, \n",
        "                     'content':push_content, \n",
        "                     'timestamp':push_ipdatetime})\n",
        "    all_post.append({'author': author,\n",
        "                     'link':link,\n",
        "                     'title':title,\n",
        "                     'timestamp':timestamp, \n",
        "                     'content':content,\n",
        "                    'comments':comm})\n",
        "    #print(all_post[-1])"
      ],
      "execution_count": 105,
      "outputs": []
    },
    {
      "cell_type": "markdown",
      "metadata": {
        "id": "JN2o47-NCo2m"
      },
      "source": [
        "## MUST Run This -> Output Verification\n",
        "每則貼文的結構應該是這個樣子。\n",
        "```\n",
        "{\n",
        "    'author': '...',\n",
        "    'link': '...',\n",
        "    'title': '...',\n",
        "    'timestamp': '...',\n",
        "    'content': '...',\n",
        "    'comments': [\n",
        "        {\n",
        "           'tag': '推 ',\n",
        "           'userid': '...',\n",
        "           'content': '...',\n",
        "           'timestamp': '...'\n",
        "        },\n",
        "        {\n",
        "           'tag': '推 ',\n",
        "           'userid': '...',\n",
        "           'content': '...',\n",
        "           'timestamp': '...'\n",
        "        },\n",
        "        {...},\n",
        "        {...},\n",
        "        {...}]\n",
        "}\n",
        "```\n",
        "範例資料如\n",
        "```\n",
        "{'author': 'pauljet (拜登哥不要)',\n",
        " 'link': 'https://www.ptt.cc/bbs/Boy-Girl/M.1617778263.A.0D4.html',\n",
        " 'title': 'Re: [求助] 老婆家裡給房子 每次吵架就',\n",
        " 'timestamp': 'Wed Apr  7 14:51:01 2021',\n",
        " 'content': '你也唸一唸不會離婚啦\\n\\n我有這種老婆要我離婚 又不是傻了\\n\\n先規劃生小孩差不多\\n\\n房子老婆出 要小心不要被趕出去都沒你的份\\n\\n100萬 還是自己也在用\\n\\n被你講得偉大得跟什麼一樣\\n\\n老婆不想工作也可以唸 不是都做網拍有收入嗎？\\n\\n你出資金她做網拍 收入還跟你對分耶 你也有拿到盈餘\\n\\n你還嫌棄她不做家務 真的是 家務本來就不應該出房子的人做\\n\\n不知道怎麼講了 都沒要求生小孩要母姓\\n\\n你也腦補成入贅\\n\\n你這篇性別互換還不被噓爆\\n\\n\\n--',\n",
        " 'comments': [{'tag': '推 ',\n",
        "   'userid': 'VVizZ',\n",
        "   'content': ': 鞭屍開始XDD',\n",
        "   'timestamp': ' 04/07 14:54\\n'},\n",
        "  {'tag': '推 ',\n",
        "   'userid': 'a0913',\n",
        "   'content': ': 她說又不花我錢 為什麼要催她去上班<<無業還不用花先生的錢',\n",
        "   'timestamp': ' 04/07 14:54\\n'},\n",
        "  {'tag': '→ ',\n",
        "   'userid': 'a0913',\n",
        "   'content': ': 根本賺到 身在福中不知福',\n",
        "   'timestamp': ' 04/07 14:55\\n'},\n",
        "  {'tag': '→ ',\n",
        "   'userid': 'bbbing',\n",
        "   'content': ': 基於安全感來個共同持有如何',\n",
        "   'timestamp': ' 04/07 14:57\\n'},\n",
        "  {'tag': '→ ',\n",
        "   'userid': 'VVizZ',\n",
        "   'content': ': 當然免談 2021了還在共同持有想騙誰',\n",
        "   'timestamp': ' 04/07 14:59\\n'}]}\n",
        "  ```"
      ]
    },
    {
      "cell_type": "markdown",
      "metadata": {
        "id": "Vy2m3IvlCo2n"
      },
      "source": [
        "### Verification 2_1"
      ]
    },
    {
      "cell_type": "code",
      "metadata": {
        "colab": {
          "base_uri": "https://localhost:8080/"
        },
        "id": "t_myZj2kCo2n",
        "outputId": "d08e1adc-69c5-4a9b-bc59-19518c3fbb71"
      },
      "source": [
        "print(all_post[0])"
      ],
      "execution_count": 106,
      "outputs": [
        {
          "output_type": "stream",
          "name": "stdout",
          "text": [
            "{'author': 'cute183 (腦海中的橡皮擦)', 'link': 'https://www.ptt.cc/bbs/Boy-Girl/M.1620139681.A.677.html', 'title': '[心情] 提分手後一直失眠 - 看板 Boy-Girl - 批踢踢實業坊', 'timestamp': 'Tue May  4 22:47:59 2021', 'content': '是這樣的\\n\\n前幾天跟交往多年的女友提分手了\\n\\n因為覺得對他感覺淡了 聚少離多\\n\\n加上很多生活上的想法跟價值觀都不同調\\n\\n我就跟他協議分手了\\n\\n其實我感受的到她有想挽回\\n\\n但是我覺得都已經沒感覺了我就不想再勉強跟給她希望\\n\\n雖然是這樣 但畢竟也再一起過 也是有難過了一下\\n\\n失眠好幾天了 但還是要工作真的很痛苦\\n\\n該怎麼調適自己呢\\n\\n--', 'comments': [{'tag': '推 ', 'userid': 'fkt12', 'content': ': 甘願做甘願受...自己選擇的也要自己承擔失去的失落感', 'timestamp': ' 05/04 23:24\\n'}, {'tag': '推 ', 'userid': 'frombehind', 'content': ': 等到雙方情愫都消退之後，如果還有機會的話，大可再', 'timestamp': ' 05/04 23:30\\n'}, {'tag': '→ ', 'userid': 'frombehind', 'content': ': 做朋友啊', 'timestamp': ' 05/04 23:30\\n'}, {'tag': '推 ', 'userid': 'Pheromone', 'content': ': 尻 小旅行 開車亂晃 吉他練nail attack技巧（單音）', 'timestamp': ' 05/04 23:36\\n'}, {'tag': '噓 ', 'userid': 'rogergon', 'content': ': 失眠小意思，對方搞不好被你這樣一分都失調了。', 'timestamp': ' 05/04 23:48\\n'}, {'tag': '→ ', 'userid': 'rock801121', 'content': ': 選擇分手不就是覺得分完會過得更好？', 'timestamp': ' 05/04 23:50\\n'}, {'tag': '噓 ', 'userid': 'palapalanhu', 'content': ': 你自己提的還有什麼好想的', 'timestamp': ' 05/04 23:55\\n'}, {'tag': '→ ', 'userid': 'kk931205zz', 'content': ': 肛 尻 約 茶 魚', 'timestamp': ' 05/04 23:59\\n'}, {'tag': '→ ', 'userid': 'rock801121', 'content': ': 你那感覺叫失落，你女友才叫難過', 'timestamp': ' 05/05 00:05\\n'}, {'tag': '→ ', 'userid': 'rock801121', 'content': ': 也沒啥好想的，該上班就上班，失眠就吃個褪黑素', 'timestamp': ' 05/05 00:07\\n'}, {'tag': '→ ', 'userid': 'rock801121', 'content': ': 你也沒啥資格哭自己過得不好，多出去走走吧', 'timestamp': ' 05/05 00:08\\n'}, {'tag': '噓 ', 'userid': 'GGrunrundela', 'content': ': 喔 阿不就好可憐好悲催 被提的都沒來幹幹叫了妳是', 'timestamp': ' 05/05 00:13\\n'}, {'tag': '→ ', 'userid': 'GGrunrundela', 'content': ': 來叫幾點的？', 'timestamp': ' 05/05 00:13\\n'}, {'tag': '→ ', 'userid': 'GGrunrundela', 'content': ': *你是來叫幾點的', 'timestamp': ' 05/05 00:14\\n'}, {'tag': '噓 ', 'userid': 'abby9160', 'content': ': 好可憐喔www', 'timestamp': ' 05/05 00:25\\n'}, {'tag': '→ ', 'userid': 'transiency', 'content': ': 給自己一些時間', 'timestamp': ' 05/05 00:34\\n'}, {'tag': '→ ', 'userid': 'transiency', 'content': ': 提分手的人只是比較敢處理問題的人，不等於是罪人。有', 'timestamp': ' 05/05 00:37\\n'}, {'tag': '→ ', 'userid': 'transiency', 'content': ': 時分手就是最適合的處理方式，不等於自己不會難受。即', 'timestamp': ' 05/05 00:37\\n'}, {'tag': '→ ', 'userid': 'transiency', 'content': ': 使得過於失才這麼選擇，總是會為了失落難過的。畢竟前', 'timestamp': ' 05/05 00:37\\n'}, {'tag': '→ ', 'userid': 'transiency', 'content': ': 任也不是個讓人避之唯恐不及的雷包，甩掉只有爽字，那', 'timestamp': ' 05/05 00:37\\n'}, {'tag': '→ ', 'userid': 'transiency', 'content': ': 為何不能也有些難受？', 'timestamp': ' 05/05 00:37\\n'}, {'tag': '→ ', 'userid': 'transiency', 'content': ': 才分手幾天，就希望自己不會難受，這期待不合理。所以', 'timestamp': ' 05/05 00:41\\n'}, {'tag': '→ ', 'userid': 'transiency', 'content': ': 其實沒啥好處理的。就是接受自己有些情緒，感受一下沒', 'timestamp': ' 05/05 00:41\\n'}, {'tag': '→ ', 'userid': 'transiency', 'content': ': 有她後的生活，想想對下一次感情（或許復合她，或許跟', 'timestamp': ' 05/05 00:41\\n'}, {'tag': '→ ', 'userid': 'transiency', 'content': ': 別人），可以怎樣不會走到這一步，還有你期望的感情該', 'timestamp': ' 05/05 00:41\\n'}, {'tag': '→ ', 'userid': 'transiency', 'content': ': 是什麼摸樣，而你得為此付出什麼。如果你這麼快無感，', 'timestamp': ' 05/05 00:41\\n'}, {'tag': '→ ', 'userid': 'transiency', 'content': ': 反而顯得你不曾真心過。', 'timestamp': ' 05/05 00:41\\n'}, {'tag': '→ ', 'userid': 'iwanttosleep', 'content': ': 不是很喜歡相處久了沒感覺就分手，有想過原因或試', 'timestamp': ' 05/05 00:53\\n'}, {'tag': '→ ', 'userid': 'iwanttosleep', 'content': ': 著重溫舊愛嗎(回到彼此初識或特殊回憶的地方找回當', 'timestamp': ' 05/05 00:53\\n'}, {'tag': '→ ', 'userid': 'iwanttosleep', 'content': ': 初熱戀的感覺等等)？', 'timestamp': ' 05/05 00:53\\n'}, {'tag': '→ ', 'userid': 'iwanttosleep', 'content': ': 但我覺得被留下的對方肯定更難過，慢冷的人啊...', 'timestamp': ' 05/05 00:55\\n'}, {'tag': '噓 ', 'userid': 'yunf', 'content': ': 自私的分手理由', 'timestamp': ' 05/05 00:56\\n'}, {'tag': '推 ', 'userid': 'namis77', 'content': ': 吃安眠藥，但不要習慣吃藥睡覺，超過兩個禮拜還這樣就該', 'timestamp': ' 05/05 01:19\\n'}, {'tag': '→ ', 'userid': 'namis77', 'content': ': 去看醫生', 'timestamp': ' 05/05 01:19\\n'}, {'tag': '噓 ', 'userid': 'Lovinfo', 'content': ': 推i 大', 'timestamp': ' 05/05 01:20\\n'}, {'tag': '推 ', 'userid': 'namis77', 'content': ': 他果斷分手總比死拖浪費時間好吧', 'timestamp': ' 05/05 01:25\\n'}, {'tag': '→ ', 'userid': 'yunf', 'content': ': 對呀所以玩完了都說沒感覺然後覺得失眠就好了', 'timestamp': ' 05/05 01:33\\n'}, {'tag': '→ ', 'userid': 'yunf', 'content': ': 總比拖著好', 'timestamp': ' 05/05 01:33\\n'}, {'tag': '推 ', 'userid': 'namis77', 'content': ': 玩幾年也是夠耐玩的 cp 值真高，好玩具不玩？', 'timestamp': ' 05/05 01:35\\n'}, {'tag': '→ ', 'userid': 'yunf', 'content': ': 誰願意被當玩具?', 'timestamp': ' 05/05 01:36\\n'}, {'tag': '推 ', 'userid': 'namis77', 'content': ': 我怎麼知道 你說玩的，而且沒經歷過講話特別簡單不是嗎', 'timestamp': ' 05/05 01:38\\n'}, {'tag': '→ ', 'userid': 'cvoa1026', 'content': ': 反正又沒心要相處 隨便一句感覺就好啦，推 你只是失落', 'timestamp': ' 05/05 01:41\\n'}, {'tag': '→ ', 'userid': 'cvoa1026', 'content': ': 對方才叫難過', 'timestamp': ' 05/05 01:41\\n'}, {'tag': '→ ', 'userid': 'eva200952', 'content': ': 樓上好多很兇的人，但總是被提分手的我倒覺得你是對的', 'timestamp': ' 05/05 01:51\\n'}, {'tag': '→ ', 'userid': 'eva200952', 'content': ': （推還在CD中）與其浪費雙方時間，不如早點放手。會難', 'timestamp': ' 05/05 01:51\\n'}, {'tag': '→ ', 'userid': 'eva200952', 'content': ': 過和不捨也很正常，畢竟相處久了還是有很多感情在，只', 'timestamp': ' 05/05 01:51\\n'}, {'tag': '→ ', 'userid': 'eva200952', 'content': ': 要記得自己做的是正確決定，好好過好自己的生活就好。', 'timestamp': ' 05/05 01:51\\n'}, {'tag': '→ ', 'userid': 'eva200952', 'content': ': 我就很謝謝生命中的過客們曾經比我勇敢的提出來，每一', 'timestamp': ' 05/05 01:51\\n'}, {'tag': '→ ', 'userid': 'eva200952', 'content': ': 段都要比上一次更好，加油！', 'timestamp': ' 05/05 01:51\\n'}, {'tag': '推 ', 'userid': 'fly02094484', 'content': ': 靠杯 再交一個就好啦', 'timestamp': ' 05/05 02:05\\n'}, {'tag': '→ ', 'userid': 'slutyboy', 'content': ': 說真的被提的比較難受...所以老兄你其實還好啦', 'timestamp': ' 05/05 02:10\\n'}, {'tag': '→ ', 'userid': 'iwanttosleep', 'content': ': 其實有點懷疑這篇欸...前年說女友結婚了、去年說沒', 'timestamp': ' 05/05 02:19\\n'}, {'tag': '→ ', 'userid': 'iwanttosleep', 'content': ': 意外今年會結婚，現在又說交往多年的女友???', 'timestamp': ' 05/05 02:20\\n'}, {'tag': '噓 ', 'userid': 'ling7777777', 'content': ': 吃屎看看囉', 'timestamp': ' 05/05 02:52\\n'}, {'tag': '噓 ', 'userid': 'iamwhoim', 'content': ': 最討厭提分手方來靠邀', 'timestamp': ' 05/05 03:15\\n'}, {'tag': '→ ', 'userid': 'RaiGend0519', 'content': ': SteamＲ這ＭＯ簡單', 'timestamp': ' 05/05 04:41\\n'}, {'tag': '推 ', 'userid': 'xulu0', 'content': ': 自作自受', 'timestamp': ' 05/05 07:40\\n'}, {'tag': '推 ', 'userid': 'knik119', 'content': ': 好像被害者', 'timestamp': ' 05/05 08:04\\n'}, {'tag': '→ ', 'userid': 'molamolajump', 'content': ': 你只是不習慣一個人', 'timestamp': ' 05/05 08:10\\n'}, {'tag': '→ ', 'userid': 'molamolajump', 'content': ': 自己做的決定不要後悔', 'timestamp': ' 05/05 08:10\\n'}, {'tag': '推 ', 'userid': 'jenny02026', 'content': ': 樓上也太兇', 'timestamp': ' 05/05 08:17\\n'}, {'tag': '→ ', 'userid': 'jenny02026', 'content': ': 提分手好像是什麼罪大惡極的事一樣', 'timestamp': ' 05/05 08:17\\n'}, {'tag': '→ ', 'userid': 'jenny02026', 'content': ': 不愛本身就是分手的理由啊', 'timestamp': ' 05/05 08:17\\n'}, {'tag': '→ ', 'userid': 'jenny02026', 'content': ': 不然分手什麼理由才會覺得合理', 'timestamp': ' 05/05 08:17\\n'}, {'tag': '→ ', 'userid': 'jenny02026', 'content': ': 死拖不說浪費對方時間（？', 'timestamp': ' 05/05 08:17\\n'}, {'tag': '噓 ', 'userid': 'pearMA', 'content': ': 提分手當然不是什麼罪大惡極的事情，不歹戲拖棚浪費時間', 'timestamp': ' 05/05 09:26\\n'}, {'tag': '→ ', 'userid': 'pearMA', 'content': ': 很好，但主動提分手後靠腰失眠覺得難過，是在裝什麼受害', 'timestamp': ' 05/05 09:26\\n'}, {'tag': '→ ', 'userid': 'pearMA', 'content': ': 者？笑死', 'timestamp': ' 05/05 09:26\\n'}, {'tag': '噓 ', 'userid': 'snowballu', 'content': ': 被留下的才難過  你只是不願意繼續努力', 'timestamp': ' 05/05 10:46\\n'}, {'tag': '→ ', 'userid': 'Whiteplus', 'content': ': 不太懂...就好好去運動，累了就睡啊！失眠是你不夠累吧', 'timestamp': ' 05/05 11:33\\n'}, {'tag': '→ ', 'userid': 'Whiteplus', 'content': ': ？還是晚上沒吃飽？', 'timestamp': ' 05/05 11:33\\n'}, {'tag': '→ ', 'userid': 'HarukaLM', 'content': ': 這不就是你要的結果  有什麼好難過的..', 'timestamp': ' 05/05 11:41\\n'}, {'tag': '推 ', 'userid': 'JustBecauseU', 'content': ': 噓的人到底什麼心態…', 'timestamp': ' 05/05 11:51\\n'}, {'tag': '噓 ', 'userid': 'somouse', 'content': ': 我們在噓那個令原PO感到難過的人啊，很難理解嗎？', 'timestamp': ' 05/05 12:55\\n'}, {'tag': '噓 ', 'userid': 'KKZO', 'content': ': 提分手還失眠 可憐 幫QQ', 'timestamp': ' 05/05 13:13\\n'}, {'tag': '噓 ', 'userid': 'jack778', 'content': ': 噁心', 'timestamp': ' 05/05 14:05\\n'}, {'tag': '→ ', 'userid': 'yc11', 'content': ': 交往久了當然不可能天天熱戀，淡了不思升溫反而提分手？你', 'timestamp': ' 05/05 14:20\\n'}, {'tag': '→ ', 'userid': 'yc11', 'content': ': 現在也不像嬰兒時期那麼需要媽媽、那麼黏媽媽，怎麼不也跟', 'timestamp': ' 05/05 14:20\\n'}, {'tag': '→ ', 'userid': 'yc11', 'content': ': 你媽提分手？', 'timestamp': ' 05/05 14:20\\n'}, {'tag': '→ ', 'userid': 'loveorangel', 'content': ': 習慣和依賴不是短時間消退，試著往十年後想，那時候', 'timestamp': ' 05/05 19:32\\n'}, {'tag': '→ ', 'userid': 'loveorangel', 'content': ': 的你已經接受了，會好一點', 'timestamp': ' 05/05 19:33\\n'}, {'tag': '噓 ', 'userid': 'zoemac', 'content': ': 你有什麼好靠腰的', 'timestamp': ' 05/05 19:48\\n'}, {'tag': '推 ', 'userid': 'samchiu', 'content': ': 他明明也有講有很多觀念不合 很多人都裝沒看到', 'timestamp': ' 05/05 21:00\\n'}, {'tag': '→ ', 'userid': 'amy76425', 'content': ': 在一起無論多長多短 遇到問題應該討論 而不是逃避阿', 'timestamp': ' 05/05 22:08\\n'}, {'tag': '→ ', 'userid': 'iwanttosleep', 'content': ': 交往多年現在才意識到很多價值觀不合？', 'timestamp': ' 05/05 22:11\\n'}, {'tag': '→ ', 'userid': 'iwanttosleep', 'content': ': 這幾年都沒在用心沒在溝通？', 'timestamp': ' 05/05 22:11\\n'}, {'tag': '噓 ', 'userid': 'somouse', 'content': ': 玩膩了總要找個藉口', 'timestamp': ' 05/05 23:49\\n'}, {'tag': '噓 ', 'userid': 'qmei', 'content': ': 夠噁', 'timestamp': ' 06/06 16:00\\n'}]}\n"
          ]
        }
      ]
    },
    {
      "cell_type": "markdown",
      "metadata": {
        "id": "pWzyWUylCo2o"
      },
      "source": [
        "### Verification 2_2"
      ]
    },
    {
      "cell_type": "code",
      "metadata": {
        "colab": {
          "base_uri": "https://localhost:8080/"
        },
        "id": "3IlRuWJ7Co2o",
        "outputId": "4d2e958e-a1d0-4b9e-f313-b248808c6bfc"
      },
      "source": [
        "# MUST Run this to verify your code\n",
        "# You cannot modify the following code\n",
        "# should be larger than 100\n",
        "\n",
        "print(len(all_post))\n",
        "df_ptt = pd.DataFrame(all_post)\n",
        "print(len(set(df_ptt.link)))"
      ],
      "execution_count": 107,
      "outputs": [
        {
          "output_type": "stream",
          "name": "stdout",
          "text": [
            "200\n",
            "200\n"
          ]
        }
      ]
    },
    {
      "cell_type": "markdown",
      "metadata": {
        "id": "Csq-BQnlCo2p"
      },
      "source": [
        "### Verification 2_3"
      ]
    },
    {
      "cell_type": "code",
      "metadata": {
        "colab": {
          "base_uri": "https://localhost:8080/",
          "height": 589
        },
        "id": "wajmhypzCo2p",
        "outputId": "358049b5-e452-4847-9cee-82d424086d5d"
      },
      "source": [
        "# MUST Run this to verify your code\n",
        "# You cannot modify the following code\n",
        "\n",
        "unnest = df_ptt.explode('comments')\n",
        "unnest"
      ],
      "execution_count": 108,
      "outputs": [
        {
          "output_type": "execute_result",
          "data": {
            "text/html": [
              "<div>\n",
              "<style scoped>\n",
              "    .dataframe tbody tr th:only-of-type {\n",
              "        vertical-align: middle;\n",
              "    }\n",
              "\n",
              "    .dataframe tbody tr th {\n",
              "        vertical-align: top;\n",
              "    }\n",
              "\n",
              "    .dataframe thead th {\n",
              "        text-align: right;\n",
              "    }\n",
              "</style>\n",
              "<table border=\"1\" class=\"dataframe\">\n",
              "  <thead>\n",
              "    <tr style=\"text-align: right;\">\n",
              "      <th></th>\n",
              "      <th>author</th>\n",
              "      <th>link</th>\n",
              "      <th>title</th>\n",
              "      <th>timestamp</th>\n",
              "      <th>content</th>\n",
              "      <th>comments</th>\n",
              "    </tr>\n",
              "  </thead>\n",
              "  <tbody>\n",
              "    <tr>\n",
              "      <th>0</th>\n",
              "      <td>cute183 (腦海中的橡皮擦)</td>\n",
              "      <td>https://www.ptt.cc/bbs/Boy-Girl/M.1620139681.A...</td>\n",
              "      <td>[心情] 提分手後一直失眠 - 看板 Boy-Girl - 批踢踢實業坊</td>\n",
              "      <td>Tue May  4 22:47:59 2021</td>\n",
              "      <td>是這樣的\\n\\n前幾天跟交往多年的女友提分手了\\n\\n因為覺得對他感覺淡了 聚少離多\\n\\n...</td>\n",
              "      <td>{'tag': '推 ', 'userid': 'fkt12', 'content': ':...</td>\n",
              "    </tr>\n",
              "    <tr>\n",
              "      <th>0</th>\n",
              "      <td>cute183 (腦海中的橡皮擦)</td>\n",
              "      <td>https://www.ptt.cc/bbs/Boy-Girl/M.1620139681.A...</td>\n",
              "      <td>[心情] 提分手後一直失眠 - 看板 Boy-Girl - 批踢踢實業坊</td>\n",
              "      <td>Tue May  4 22:47:59 2021</td>\n",
              "      <td>是這樣的\\n\\n前幾天跟交往多年的女友提分手了\\n\\n因為覺得對他感覺淡了 聚少離多\\n\\n...</td>\n",
              "      <td>{'tag': '推 ', 'userid': 'frombehind', 'content...</td>\n",
              "    </tr>\n",
              "    <tr>\n",
              "      <th>0</th>\n",
              "      <td>cute183 (腦海中的橡皮擦)</td>\n",
              "      <td>https://www.ptt.cc/bbs/Boy-Girl/M.1620139681.A...</td>\n",
              "      <td>[心情] 提分手後一直失眠 - 看板 Boy-Girl - 批踢踢實業坊</td>\n",
              "      <td>Tue May  4 22:47:59 2021</td>\n",
              "      <td>是這樣的\\n\\n前幾天跟交往多年的女友提分手了\\n\\n因為覺得對他感覺淡了 聚少離多\\n\\n...</td>\n",
              "      <td>{'tag': '→ ', 'userid': 'frombehind', 'content...</td>\n",
              "    </tr>\n",
              "    <tr>\n",
              "      <th>0</th>\n",
              "      <td>cute183 (腦海中的橡皮擦)</td>\n",
              "      <td>https://www.ptt.cc/bbs/Boy-Girl/M.1620139681.A...</td>\n",
              "      <td>[心情] 提分手後一直失眠 - 看板 Boy-Girl - 批踢踢實業坊</td>\n",
              "      <td>Tue May  4 22:47:59 2021</td>\n",
              "      <td>是這樣的\\n\\n前幾天跟交往多年的女友提分手了\\n\\n因為覺得對他感覺淡了 聚少離多\\n\\n...</td>\n",
              "      <td>{'tag': '推 ', 'userid': 'Pheromone', 'content'...</td>\n",
              "    </tr>\n",
              "    <tr>\n",
              "      <th>0</th>\n",
              "      <td>cute183 (腦海中的橡皮擦)</td>\n",
              "      <td>https://www.ptt.cc/bbs/Boy-Girl/M.1620139681.A...</td>\n",
              "      <td>[心情] 提分手後一直失眠 - 看板 Boy-Girl - 批踢踢實業坊</td>\n",
              "      <td>Tue May  4 22:47:59 2021</td>\n",
              "      <td>是這樣的\\n\\n前幾天跟交往多年的女友提分手了\\n\\n因為覺得對他感覺淡了 聚少離多\\n\\n...</td>\n",
              "      <td>{'tag': '噓 ', 'userid': 'rogergon', 'content':...</td>\n",
              "    </tr>\n",
              "    <tr>\n",
              "      <th>...</th>\n",
              "      <td>...</td>\n",
              "      <td>...</td>\n",
              "      <td>...</td>\n",
              "      <td>...</td>\n",
              "      <td>...</td>\n",
              "      <td>...</td>\n",
              "    </tr>\n",
              "    <tr>\n",
              "      <th>199</th>\n",
              "      <td>shadowcatx (貓影)</td>\n",
              "      <td>https://www.ptt.cc/bbs/Boy-Girl/M.1619481627.A...</td>\n",
              "      <td>Re: [求助] 女友想和男生朋友單獨晚上喝酒 - 看板 Boy-Girl - 批踢踢實業坊</td>\n",
              "      <td>Tue Apr 27 08:00:25 2021</td>\n",
              "      <td>先結論：不讓女友去很合理啊。你跑來問問題，表示她不只問，可能還跟你盧覺得你無理取鬧。\\n所以...</td>\n",
              "      <td>{'tag': '推 ', 'userid': 'wish15150507', 'conte...</td>\n",
              "    </tr>\n",
              "    <tr>\n",
              "      <th>199</th>\n",
              "      <td>shadowcatx (貓影)</td>\n",
              "      <td>https://www.ptt.cc/bbs/Boy-Girl/M.1619481627.A...</td>\n",
              "      <td>Re: [求助] 女友想和男生朋友單獨晚上喝酒 - 看板 Boy-Girl - 批踢踢實業坊</td>\n",
              "      <td>Tue Apr 27 08:00:25 2021</td>\n",
              "      <td>先結論：不讓女友去很合理啊。你跑來問問題，表示她不只問，可能還跟你盧覺得你無理取鬧。\\n所以...</td>\n",
              "      <td>{'tag': '推 ', 'userid': 'daimo', 'content': ':...</td>\n",
              "    </tr>\n",
              "    <tr>\n",
              "      <th>199</th>\n",
              "      <td>shadowcatx (貓影)</td>\n",
              "      <td>https://www.ptt.cc/bbs/Boy-Girl/M.1619481627.A...</td>\n",
              "      <td>Re: [求助] 女友想和男生朋友單獨晚上喝酒 - 看板 Boy-Girl - 批踢踢實業坊</td>\n",
              "      <td>Tue Apr 27 08:00:25 2021</td>\n",
              "      <td>先結論：不讓女友去很合理啊。你跑來問問題，表示她不只問，可能還跟你盧覺得你無理取鬧。\\n所以...</td>\n",
              "      <td>{'tag': '推 ', 'userid': 'jade0111', 'content':...</td>\n",
              "    </tr>\n",
              "    <tr>\n",
              "      <th>199</th>\n",
              "      <td>shadowcatx (貓影)</td>\n",
              "      <td>https://www.ptt.cc/bbs/Boy-Girl/M.1619481627.A...</td>\n",
              "      <td>Re: [求助] 女友想和男生朋友單獨晚上喝酒 - 看板 Boy-Girl - 批踢踢實業坊</td>\n",
              "      <td>Tue Apr 27 08:00:25 2021</td>\n",
              "      <td>先結論：不讓女友去很合理啊。你跑來問問題，表示她不只問，可能還跟你盧覺得你無理取鬧。\\n所以...</td>\n",
              "      <td>{'tag': '推 ', 'userid': 'keyt99130', 'content'...</td>\n",
              "    </tr>\n",
              "    <tr>\n",
              "      <th>199</th>\n",
              "      <td>shadowcatx (貓影)</td>\n",
              "      <td>https://www.ptt.cc/bbs/Boy-Girl/M.1619481627.A...</td>\n",
              "      <td>Re: [求助] 女友想和男生朋友單獨晚上喝酒 - 看板 Boy-Girl - 批踢踢實業坊</td>\n",
              "      <td>Tue Apr 27 08:00:25 2021</td>\n",
              "      <td>先結論：不讓女友去很合理啊。你跑來問問題，表示她不只問，可能還跟你盧覺得你無理取鬧。\\n所以...</td>\n",
              "      <td>{'tag': '推 ', 'userid': 'afterstorygg', 'conte...</td>\n",
              "    </tr>\n",
              "  </tbody>\n",
              "</table>\n",
              "<p>15732 rows × 6 columns</p>\n",
              "</div>"
            ],
            "text/plain": [
              "                author  ...                                           comments\n",
              "0    cute183 (腦海中的橡皮擦)  ...  {'tag': '推 ', 'userid': 'fkt12', 'content': ':...\n",
              "0    cute183 (腦海中的橡皮擦)  ...  {'tag': '推 ', 'userid': 'frombehind', 'content...\n",
              "0    cute183 (腦海中的橡皮擦)  ...  {'tag': '→ ', 'userid': 'frombehind', 'content...\n",
              "0    cute183 (腦海中的橡皮擦)  ...  {'tag': '推 ', 'userid': 'Pheromone', 'content'...\n",
              "0    cute183 (腦海中的橡皮擦)  ...  {'tag': '噓 ', 'userid': 'rogergon', 'content':...\n",
              "..                 ...  ...                                                ...\n",
              "199    shadowcatx (貓影)  ...  {'tag': '推 ', 'userid': 'wish15150507', 'conte...\n",
              "199    shadowcatx (貓影)  ...  {'tag': '推 ', 'userid': 'daimo', 'content': ':...\n",
              "199    shadowcatx (貓影)  ...  {'tag': '推 ', 'userid': 'jade0111', 'content':...\n",
              "199    shadowcatx (貓影)  ...  {'tag': '推 ', 'userid': 'keyt99130', 'content'...\n",
              "199    shadowcatx (貓影)  ...  {'tag': '推 ', 'userid': 'afterstorygg', 'conte...\n",
              "\n",
              "[15732 rows x 6 columns]"
            ]
          },
          "metadata": {},
          "execution_count": 108
        }
      ]
    },
    {
      "cell_type": "code",
      "metadata": {
        "colab": {
          "base_uri": "https://localhost:8080/"
        },
        "id": "yoh59pnoCo2q",
        "outputId": "f01f61ad-7b57-42bd-9a40-5a2b241ae995"
      },
      "source": [
        "# should be (1xxxxx, 6), e.g, (11393, 6)\n",
        "\n",
        "unnest.shape"
      ],
      "execution_count": 109,
      "outputs": [
        {
          "output_type": "execute_result",
          "data": {
            "text/plain": [
              "(15732, 6)"
            ]
          },
          "metadata": {},
          "execution_count": 109
        }
      ]
    },
    {
      "cell_type": "markdown",
      "metadata": {
        "id": "Dx2LjsO9Co2q"
      },
      "source": [
        "# AS05_3 News crawler\n",
        "挑選apple daily news、udn online news或ltn online news任一家，這三家線上新聞的「搜尋頁面」其搜尋結果都是用JSON傳回前端，請挑選一則新聞撰寫爬蟲，撰寫完後轉為pandas，並列印出該pandas的shape。爬蟲條件要求：\n",
        "1. 每則新聞應該有標題、鏈結、內文。亦即除了爬取新聞標題、鏈結外，還需要根據鏈結來爬取內文。\n",
        "2. 新聞數應不少於100則。\n",
        "\n",
        "\n"
      ]
    },
    {
      "cell_type": "code",
      "metadata": {
        "colab": {
          "base_uri": "https://localhost:8080/"
        },
        "id": "6CAXjQOATOR5",
        "outputId": "74064bfe-7ca9-4e35-8b96-629da3435847"
      },
      "source": [
        "import requests\n",
        "\n",
        "url_udn = \"https://udn.com/api/more?page=2&id=search:%E5%85%AC%E6%8A%95&channelId=2&type=searchword&last_page=286\"\n",
        "user_agent_dcard = \"Mozilla/5.0 (Macintosh; Intel Mac OS X 10_15_7) AppleWebKit/537.36 (KHTML, like Gecko) Chrome/95.0.4638.69 Safari/537.36\"\n",
        "headers = {\n",
        "    'User-Agent': user_agent_dcard\n",
        "}\n",
        "data = requests.get(url_udn, headers = headers).json()\n",
        "type(data)\n",
        "\n",
        "print(len(data['lists'])) # 20 news of one page\n"
      ],
      "execution_count": 110,
      "outputs": [
        {
          "output_type": "stream",
          "name": "stdout",
          "text": [
            "20\n"
          ]
        }
      ]
    },
    {
      "cell_type": "code",
      "metadata": {
        "colab": {
          "base_uri": "https://localhost:8080/"
        },
        "id": "dlcQdGDDWnIZ",
        "outputId": "d969e473-cb11-495f-d64d-71ac126fecb1"
      },
      "source": [
        "#get all news from 7pages\n",
        "news_json = []\n",
        "for page in range(2,9):\n",
        "  url = \"https://udn.com/api/more?page=\"+str(page)+\"&id=search:%E5%85%AC%E6%8A%95&channelId=2&type=searchword&last_page=286\"\n",
        "  raw = requests.get(url, headers= headers).json()\n",
        "  news_json.extend(raw['lists'])\n",
        "\n",
        "#store each news' url to list\n",
        "all_url = []\n",
        "for news in news_json:\n",
        "  all_url.append(news['titleLink'])\n",
        "\n",
        "print(len(all_url)) #number of news\n",
        "print(all_url[0]) "
      ],
      "execution_count": 111,
      "outputs": [
        {
          "output_type": "stream",
          "name": "stdout",
          "text": [
            "140\n",
            "https://udn.com/news/story/12539/5906761\n"
          ]
        }
      ]
    },
    {
      "cell_type": "code",
      "metadata": {
        "colab": {
          "base_uri": "https://localhost:8080/"
        },
        "id": "qAz3j3dSZOUX",
        "outputId": "6ebf0371-45d0-4464-8f69-8be48cad27f1"
      },
      "source": [
        "from bs4 import BeautifulSoup\n",
        "link = all_url[0]\n",
        "res = requests.get(link)\n",
        "soup = BeautifulSoup(res.text, \"html.parser\")\n",
        "\n",
        "#title of one news\n",
        "metas = soup.find_all(class_='article-content__title')\n",
        "print(metas[0].text) "
      ],
      "execution_count": 112,
      "outputs": [
        {
          "output_type": "stream",
          "name": "stdout",
          "text": [
            "國民黨公投宣講 朱立倫：四個都同意 台灣更美麗\n"
          ]
        }
      ]
    },
    {
      "cell_type": "code",
      "metadata": {
        "colab": {
          "base_uri": "https://localhost:8080/"
        },
        "id": "YDxWM60kZGiY",
        "outputId": "06914bce-62aa-4757-97e8-3f8cc448798d"
      },
      "source": [
        "#content of one news\n",
        "news_content = ''\n",
        "for p in soup.find(class_='article-content__editor').findAll('p'):\n",
        "  if '▪' in p.text:\n",
        "    break\n",
        "  news_content += p.text\n",
        "\n",
        "print(news_content)"
      ],
      "execution_count": 113,
      "outputs": [
        {
          "output_type": "stream",
          "name": "stdout",
          "text": [
            "國民黨「公投1218場 全台宣講」下午在桃園龍岡森林公園舉行「公投反萊豬四個都同意」桃園場說明會。國民黨主席朱立倫、國民黨前主席江啟臣、副主席郝龍斌、媒體人趙少康、謝龍介、羅智強等先後開講。痛批民進黨雙標、是「詐騙集團」，執政後完全背棄過去承諾，開放含萊克多巴胺的豬肉進口，呼籲鄉親勇敢站出來，投下四個同意，守護孩子們健康。最後與參與的民眾共同高喊「四個都同意，台灣更美麗」。國民黨主席朱立倫（右）呼籲鄉親勇敢站出來，投下四個同意。最後與參與的民眾共同高喊「四個都同意，台灣更美麗」。記者黃義書／攝影國民黨「公投1218場 全台宣講」，下午在桃園龍岡森林公園舉行「公投反萊豬四個都同意」桃園場說明會，參與的民眾一同舉手、高喊「四個都同意，台灣更美麗」。記者黃義書／攝影\n"
          ]
        }
      ]
    },
    {
      "cell_type": "code",
      "metadata": {
        "id": "HgWzP_atuBsm"
      },
      "source": [
        "all_news = []\n",
        "for url in all_url:\n",
        "  if 'vision' in url:\n",
        "    continue\n",
        "  res = requests.get(url)\n",
        "  soup = BeautifulSoup(res.text, \"html.parser\")\n",
        "\n",
        "  #title\n",
        "  news_title = ''\n",
        "  metas = soup.find_all(class_='article-content__title')\n",
        "  if metas == []: \n",
        "    continue\n",
        "  #print(metas[0].text)\n",
        "  news_title = metas[0].text\n",
        "\n",
        "  #content\n",
        "  news_content = ''\n",
        "  for p in soup.find(class_='article-content__editor').findAll('p'):\n",
        "    if '▪' in p.text:\n",
        "      break\n",
        "    news_content += p.text \n",
        "  #print(news_content)\n",
        "\n",
        "\n",
        "  all_news.append({'title':news_title, 'url':url, 'content':news_content})\n",
        "  #print('-'*80)\n"
      ],
      "execution_count": 114,
      "outputs": []
    },
    {
      "cell_type": "code",
      "metadata": {
        "colab": {
          "base_uri": "https://localhost:8080/",
          "height": 470
        },
        "id": "bwyZaTRz862y",
        "outputId": "b6e3e603-6222-4280-bc53-0a91902f3851"
      },
      "source": [
        "import pandas as pd\n",
        "pd_news = pd.DataFrame(all_news)\n",
        "pd_news"
      ],
      "execution_count": 115,
      "outputs": [
        {
          "output_type": "execute_result",
          "data": {
            "text/html": [
              "<div>\n",
              "<style scoped>\n",
              "    .dataframe tbody tr th:only-of-type {\n",
              "        vertical-align: middle;\n",
              "    }\n",
              "\n",
              "    .dataframe tbody tr th {\n",
              "        vertical-align: top;\n",
              "    }\n",
              "\n",
              "    .dataframe thead th {\n",
              "        text-align: right;\n",
              "    }\n",
              "</style>\n",
              "<table border=\"1\" class=\"dataframe\">\n",
              "  <thead>\n",
              "    <tr style=\"text-align: right;\">\n",
              "      <th></th>\n",
              "      <th>title</th>\n",
              "      <th>url</th>\n",
              "      <th>content</th>\n",
              "    </tr>\n",
              "  </thead>\n",
              "  <tbody>\n",
              "    <tr>\n",
              "      <th>0</th>\n",
              "      <td>國民黨公投宣講 朱立倫：四個都同意 台灣更美麗</td>\n",
              "      <td>https://udn.com/news/story/12539/5906761</td>\n",
              "      <td>國民黨「公投1218場 全台宣講」下午在桃園龍岡森林公園舉行「公投反萊豬四個都同意」桃園場說...</td>\n",
              "    </tr>\n",
              "    <tr>\n",
              "      <th>1</th>\n",
              "      <td>國民黨桃園公投宣講 朱立倫：民進黨別再欺騙人民</td>\n",
              "      <td>https://udn.com/news/story/12539/5906762</td>\n",
              "      <td>\\n國民黨今在桃園中壢龍岡森林公園舉辦公投宣講活動，有國民黨主席朱立倫、前國民黨主席江啟臣、...</td>\n",
              "    </tr>\n",
              "    <tr>\n",
              "      <th>2</th>\n",
              "      <td>民團向蘇貞昌抗議遭壓制  黃健庭：執政傲慢</td>\n",
              "      <td>https://udn.com/news/story/12539/5906732</td>\n",
              "      <td>\\r\\n行政院長蘇貞昌昨天在鳳山宣講公投時，遭反瘦肉精毒豬聯盟發言人李建誠衝到台前要求辯論，...</td>\n",
              "    </tr>\n",
              "    <tr>\n",
              "      <th>3</th>\n",
              "      <td>踹共！羅智強嗆徐國勇說謊：美國這兩州有公投綁大選</td>\n",
              "      <td>https://udn.com/news/story/12539/5906605</td>\n",
              "      <td>\\r\\n年底四大公投日前辯論會上，內政部長徐國勇說，羅智強稱全世界很多國家都是公投綁大選，這...</td>\n",
              "    </tr>\n",
              "    <tr>\n",
              "      <th>4</th>\n",
              "      <td>核四前廠長被叫閉嘴 王鴻薇：反對民進黨變中共同路人</td>\n",
              "      <td>https://udn.com/news/story/12539/5906580</td>\n",
              "      <td>\\r\\n立委日前參觀核四廠，接受媒體採訪時對核四廠前廠長王伯輝、及核四廠有諸多批評，王伯輝對...</td>\n",
              "    </tr>\n",
              "    <tr>\n",
              "      <th>...</th>\n",
              "      <td>...</td>\n",
              "      <td>...</td>\n",
              "      <td>...</td>\n",
              "    </tr>\n",
              "    <tr>\n",
              "      <th>128</th>\n",
              "      <td>影／中二補選訴訟多？林靜儀：選戰短、全台關注度高</td>\n",
              "      <td>https://udn.com/news/story/6656/5902706</td>\n",
              "      <td>\\r\\n台中市第二選區立委補選開跑，昨登記參選國民黨前立委顏寬恒被名嘴周玉蔻猛爆料，今天顏團...</td>\n",
              "    </tr>\n",
              "    <tr>\n",
              "      <th>129</th>\n",
              "      <td>中檢針對公投及立委補選開會 加強查緝賭盤</td>\n",
              "      <td>https://udn.com/news/story/7321/5902690</td>\n",
              "      <td>台中地檢署檢察長黃謀信，昨天與警調召開「公投投票及第10 屆立法委員台中市第2選區缺額補選查...</td>\n",
              "    </tr>\n",
              "    <tr>\n",
              "      <th>130</th>\n",
              "      <td>第3場公投意見發表會  王美花莊瑞雄披掛上陣</td>\n",
              "      <td>https://udn.com/news/story/6656/5902603</td>\n",
              "      <td>四大公投12月18日投票，第3場公投意見發表會11月24日舉行。中選會今天表示，反萊豬與公投...</td>\n",
              "    </tr>\n",
              "    <tr>\n",
              "      <th>131</th>\n",
              "      <td>與議員激辯核四　徐榛蔚：蔡總統有問核三核廢料放哪？</td>\n",
              "      <td>https://udn.com/news/story/12539/5902682</td>\n",
              "      <td>花蓮縣議員莊枝財今在議會質詢時，放上「四個不同意，台灣更有力」看板，表示之前台電考慮在宜花邊...</td>\n",
              "    </tr>\n",
              "    <tr>\n",
              "      <th>132</th>\n",
              "      <td>周玉蔻又轟台中港105碼頭案 顏寬恒：依法訴訟</td>\n",
              "      <td>https://udn.com/news/story/12539/5902632</td>\n",
              "      <td>中二選區戰火激烈，資深媒體人周玉蔻連日在網路抨擊顏家，今再指顏家標下台中港BOT煤炭倉儲案；...</td>\n",
              "    </tr>\n",
              "  </tbody>\n",
              "</table>\n",
              "<p>133 rows × 3 columns</p>\n",
              "</div>"
            ],
            "text/plain": [
              "                         title  ...                                            content\n",
              "0      國民黨公投宣講 朱立倫：四個都同意 台灣更美麗  ...  國民黨「公投1218場 全台宣講」下午在桃園龍岡森林公園舉行「公投反萊豬四個都同意」桃園場說...\n",
              "1      國民黨桃園公投宣講 朱立倫：民進黨別再欺騙人民  ...  \\n國民黨今在桃園中壢龍岡森林公園舉辦公投宣講活動，有國民黨主席朱立倫、前國民黨主席江啟臣、...\n",
              "2        民團向蘇貞昌抗議遭壓制  黃健庭：執政傲慢  ...  \\r\\n行政院長蘇貞昌昨天在鳳山宣講公投時，遭反瘦肉精毒豬聯盟發言人李建誠衝到台前要求辯論，...\n",
              "3     踹共！羅智強嗆徐國勇說謊：美國這兩州有公投綁大選  ...  \\r\\n年底四大公投日前辯論會上，內政部長徐國勇說，羅智強稱全世界很多國家都是公投綁大選，這...\n",
              "4    核四前廠長被叫閉嘴 王鴻薇：反對民進黨變中共同路人  ...  \\r\\n立委日前參觀核四廠，接受媒體採訪時對核四廠前廠長王伯輝、及核四廠有諸多批評，王伯輝對...\n",
              "..                         ...  ...                                                ...\n",
              "128   影／中二補選訴訟多？林靜儀：選戰短、全台關注度高  ...  \\r\\n台中市第二選區立委補選開跑，昨登記參選國民黨前立委顏寬恒被名嘴周玉蔻猛爆料，今天顏團...\n",
              "129       中檢針對公投及立委補選開會 加強查緝賭盤  ...  台中地檢署檢察長黃謀信，昨天與警調召開「公投投票及第10 屆立法委員台中市第2選區缺額補選查...\n",
              "130     第3場公投意見發表會  王美花莊瑞雄披掛上陣  ...  四大公投12月18日投票，第3場公投意見發表會11月24日舉行。中選會今天表示，反萊豬與公投...\n",
              "131  與議員激辯核四　徐榛蔚：蔡總統有問核三核廢料放哪？  ...  花蓮縣議員莊枝財今在議會質詢時，放上「四個不同意，台灣更有力」看板，表示之前台電考慮在宜花邊...\n",
              "132    周玉蔻又轟台中港105碼頭案 顏寬恒：依法訴訟  ...  中二選區戰火激烈，資深媒體人周玉蔻連日在網路抨擊顏家，今再指顏家標下台中港BOT煤炭倉儲案；...\n",
              "\n",
              "[133 rows x 3 columns]"
            ]
          },
          "metadata": {},
          "execution_count": 115
        }
      ]
    },
    {
      "cell_type": "code",
      "metadata": {
        "colab": {
          "base_uri": "https://localhost:8080/"
        },
        "id": "b_gX1f4Ilrq6",
        "outputId": "3ace165f-41d7-4687-da24-c30dbfc0b080"
      },
      "source": [
        "pd_news.shape"
      ],
      "execution_count": 116,
      "outputs": [
        {
          "output_type": "execute_result",
          "data": {
            "text/plain": [
              "(133, 3)"
            ]
          },
          "metadata": {},
          "execution_count": 116
        }
      ]
    }
  ]
}
