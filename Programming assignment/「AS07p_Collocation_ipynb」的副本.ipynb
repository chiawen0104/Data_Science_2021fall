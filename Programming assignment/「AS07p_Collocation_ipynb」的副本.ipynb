{
  "nbformat": 4,
  "nbformat_minor": 5,
  "metadata": {
    "colab": {
      "name": "「AS07p Collocation.ipynb」的副本",
      "provenance": [],
      "collapsed_sections": [
        "7b3b13b8",
        "a8842e01",
        "ab92e14c"
      ]
    },
    "kernelspec": {
      "display_name": "Python 3",
      "language": "python",
      "name": "python3"
    },
    "language_info": {
      "codemirror_mode": {
        "name": "ipython",
        "version": 3
      },
      "file_extension": ".py",
      "mimetype": "text/x-python",
      "name": "python",
      "nbconvert_exporter": "python",
      "pygments_lexer": "ipython3",
      "version": "3.7.6"
    },
    "toc-autonumbering": false
  },
  "cells": [
    {
      "cell_type": "markdown",
      "metadata": {
        "id": "3a53fe97"
      },
      "source": [
        "# AS07 Collocation for finding enthusiastic commentors\n",
        "\n",
        "在文字探勘的第二單元我們介紹了Collocation來找出significant word pair。同樣的方法，我也可以把他改造來找出，在討論板上哪兩個人老是一起出現。你可以想像說在一個討論板中，某一主題一出來，某些人就會突然冒出來開始Comment。並且A下了Comment後，很快的B也會跟著下Comment。我們可以用Collocation的概念來找出這些總是一起出現的Commentors。但社會科學會把這樣的關係稱為Cooccurrence（共現）。"
      ],
      "id": "3a53fe97"
    },
    {
      "cell_type": "markdown",
      "metadata": {
        "id": "f5423896"
      },
      "source": [
        "## Loading data"
      ],
      "id": "f5423896"
    },
    {
      "cell_type": "code",
      "metadata": {
        "colab": {
          "base_uri": "https://localhost:8080/"
        },
        "id": "6b3385fa",
        "outputId": "21de42ee-4340-45e9-c7fa-727d2a3c1dcb"
      },
      "source": [
        "# colab\n",
        "import pickle\n",
        "!wget https://github.com/P4CSS/PSS/raw/master/data/pttpost_20210509_n178.dat -O pttpost_20210509_n178.dat\n",
        "with open(\"pttpost_20210509_n178.dat\", \"rb\") as fin:\n",
        "    all_post = pickle.load(fin)"
      ],
      "id": "6b3385fa",
      "execution_count": 1,
      "outputs": [
        {
          "output_type": "stream",
          "name": "stdout",
          "text": [
            "--2021-12-05 12:16:48--  https://github.com/P4CSS/PSS/raw/master/data/pttpost_20210509_n178.dat\n",
            "Resolving github.com (github.com)... 140.82.113.3\n",
            "Connecting to github.com (github.com)|140.82.113.3|:443... connected.\n",
            "HTTP request sent, awaiting response... 302 Found\n",
            "Location: https://raw.githubusercontent.com/P4CSS/PSS/master/data/pttpost_20210509_n178.dat [following]\n",
            "--2021-12-05 12:16:48--  https://raw.githubusercontent.com/P4CSS/PSS/master/data/pttpost_20210509_n178.dat\n",
            "Resolving raw.githubusercontent.com (raw.githubusercontent.com)... 185.199.111.133, 185.199.109.133, 185.199.108.133, ...\n",
            "Connecting to raw.githubusercontent.com (raw.githubusercontent.com)|185.199.111.133|:443... connected.\n",
            "HTTP request sent, awaiting response... 200 OK\n",
            "Length: 992132 (969K) [application/octet-stream]\n",
            "Saving to: ‘pttpost_20210509_n178.dat’\n",
            "\n",
            "pttpost_20210509_n1 100%[===================>] 968.88K  --.-KB/s    in 0.05s   \n",
            "\n",
            "2021-12-05 12:16:49 (17.8 MB/s) - ‘pttpost_20210509_n178.dat’ saved [992132/992132]\n",
            "\n"
          ]
        }
      ]
    },
    {
      "cell_type": "code",
      "metadata": {
        "colab": {
          "base_uri": "https://localhost:8080/"
        },
        "id": "6ba668a5",
        "outputId": "06ba2d54-f4b8-4a6e-f36c-ace8b758f3a2"
      },
      "source": [
        "print(len(all_post))\n",
        "print(all_post[0])\n",
        "print(\"-\"*80)\n",
        "for comment in all_post[5]['comments']:\n",
        "    print(comment)"
      ],
      "id": "6ba668a5",
      "execution_count": 162,
      "outputs": [
        {
          "output_type": "stream",
          "name": "stdout",
          "text": [
            "178\n",
            "{'author': 's72005ming (QQ)', 'authorid': 's72005ming', 'nickname': 'QQ', 'link': 'https://www.ptt.cc/bbs/Gossiping/M.1620528765.A.DBD.html', 'title': '[問卦] 美國會研究因武漢肺炎死亡的人種嗎？', 'timestamp': 'Sun May  9 10:52:43 2021', 'content': '美國是民族大熔爐\\n\\n全世界各種人種都有\\n\\n但是依照各個人種做研究又有歧視的問題\\n\\n以美國這麼重視人權和觀感的國家\\n\\n會有研究因武漢肺炎死亡人種的論文嗎？\\n\\n\\n好奇如果有哪一個人種死亡數最少\\n\\n我猜是華裔就是了！\\n\\n聽說疫情發生後一堆華裔老人連出門剪頭髮都不敢！--', 'comments': [{'tag': '推 ', 'userid': 'shiriri', 'content': ': 有很多了 黑人跟拉丁裔比較高 亞裔跟白人差不多', 'timestamp': ' 05/09 10:59\\n'}, {'tag': '→ ', 'userid': 'HELLDIVER', 'content': ': 有趣的是 剛開始大爆發時 還說亞洲人比較會得武漢病毒', 'timestamp': ' 05/09 11:01\\n'}, {'tag': '噓 ', 'userid': 'redsa12', 'content': ': 網路即時數據就都有按人種按年齡區分的數據了...', 'timestamp': ' 05/09 11:06\\n'}, {'tag': '→ ', 'userid': 'redsa12', 'content': ': 問之前先估狗好嗎 加油好嗎', 'timestamp': ' 05/09 11:06\\n'}]}\n",
            "--------------------------------------------------------------------------------\n",
            "{'tag': '推 ', 'userid': 'bignoob', 'content': ': 邊抱怨邊打啊 台灣人的不都這樣', 'timestamp': ' 05/08 14:32\\n'}\n",
            "{'tag': '→ ', 'userid': 'ethan0419', 'content': ': 好騙', 'timestamp': ' 05/08 14:32\\n'}\n",
            "{'tag': '噓 ', 'userid': 'geesegeese', 'content': ': 感染源不明出現了，你不打我先打', 'timestamp': ' 05/08 14:33\\n'}\n",
            "{'tag': '→ ', 'userid': 's3z15a3z15a', 'content': ': 沒人搶得時候不急，現在人多就開始搶了', 'timestamp': ' 05/08 14:33\\n'}\n",
            "{'tag': '→ ', 'userid': 'ckvir', 'content': ': 你怎知抱怨的人和打的人是同一個？', 'timestamp': ' 05/08 14:33\\n'}\n",
            "{'tag': '推 ', 'userid': 'clv', 'content': ': 為什麼 就跟當初口罩不夠用有人拿內褲當口罩一樣啊', 'timestamp': ' 05/08 14:34\\n'}\n",
            "{'tag': '→ ', 'userid': 'clv', 'content': ': 怕死啊 沒有最好 只好勉強啦', 'timestamp': ' 05/08 14:34\\n'}\n",
            "{'tag': '噓 ', 'userid': 'Dia149', 'content': ': 以前的我ok你先打呢', 'timestamp': ' 05/08 14:41\\n'}\n",
            "{'tag': '→ ', 'userid': 'Dia149', 'content': ': 綠共真的很善變', 'timestamp': ' 05/08 14:41\\n'}\n",
            "{'tag': '推 ', 'userid': 'radi035', 'content': ': 早在爆發前就先打了 不過小道消息月底莫德那會進來', 'timestamp': ' 05/08 14:44\\n'}\n",
            "{'tag': '→ ', 'userid': 'radi035', 'content': ': 所以符合公費施打的人 可以忍忍  等莫德納', 'timestamp': ' 05/08 14:44\\n'}\n"
          ]
        }
      ]
    },
    {
      "cell_type": "markdown",
      "metadata": {
        "id": "f486e706"
      },
      "source": [
        "## 1. Collocation as Cooccurrence\n",
        "只要在同一則貼文的comments內，我們把任兩個commentor視為有co-comment，也就是Cooccurrence（共現）的關係。請計算出共現於本資料集中，頻率最高的前20對commentor（必須印出Collocation times作為參考）。\n",
        "```\n",
        "s72005ming \t sl11pman \t 450\n",
        "loham \t sl11pman \t 450\n",
        "sl11pman \t s72005ming \t 450\n",
        "sl11pman \t loham \t 450\n",
        "cwh0105 \t sl11pman \t 360\n",
        "sl11pman \t cwh0105 \t 360\n",
        "iampig951753 \t Runna \t 308\n",
        "Runna \t iampig951753 \t 308\n",
        "frank355571 \t sl11pman \t 270\n",
        "sl11pman \t frank355571 \t 270\n",
        "NICEGOGO \t sl11pman \t 180\n",
        "sl11pman \t NICEGOGO \t 180\n",
        "sl11pman \t dawson0130 \t 180\n",
        "sl11pman \t userlance \t 180\n",
        "sl11pman \t carryton \t 180\n",
        "sl11pman \t CheshireS \t 180\n",
        "sl11pman \t vic4580849 \t 180\n",
        "sl11pman \t justeit \t 180\n",
        "dawson0130 \t sl11pman \t 180\n",
        "userlance \t sl11pman \t 180\n",
        "carryton \t sl11pman \t 180\n",
        "CheshireS \t sl11pman \t 180\n",
        "vic4580849 \t sl11pman \t 180\n",
        "justeit \t sl11pman \t 180\n",
        "psl7634 \t gustavek \t 136\n",
        "gustavek \t psl7634 \t 136\n",
        "```"
      ],
      "id": "f486e706"
    },
    {
      "cell_type": "code",
      "metadata": {
        "id": "df599eed",
        "colab": {
          "base_uri": "https://localhost:8080/"
        },
        "outputId": "073482b8-0e23-46eb-b4b5-b70196c33ad7"
      },
      "source": [
        "all_commentor = []\n",
        "\n",
        "for i in all_post:\n",
        "  post_commentor = []\n",
        "  for id in i['comments']:\n",
        "    #print(id['userid'])\n",
        "    post_commentor.append(id['userid'])\n",
        "  #print(post_commentor)\n",
        "  all_commentor.append(post_commentor)\n",
        "\n",
        "print(len(all_commentor))\n",
        "print(all_commentor[5])"
      ],
      "id": "df599eed",
      "execution_count": 163,
      "outputs": [
        {
          "output_type": "stream",
          "name": "stdout",
          "text": [
            "178\n",
            "['bignoob', 'ethan0419', 'geesegeese', 's3z15a3z15a', 'ckvir', 'clv', 'clv', 'Dia149', 'Dia149', 'radi035', 'radi035']\n"
          ]
        }
      ]
    },
    {
      "cell_type": "code",
      "metadata": {
        "colab": {
          "base_uri": "https://localhost:8080/"
        },
        "id": "rPREhbANPJ3y",
        "outputId": "60c02262-191b-4901-b230-3a581335a5af"
      },
      "source": [
        "from collections import Counter\n",
        "id_pair_counts = Counter()\n",
        "\n",
        "\n",
        "for id in all_commentor:\n",
        "  if len(id) > 1:\n",
        "    for i in range(len(id)):\n",
        "      for distance in range(-len(id)+1,len(id)):\n",
        "        if i + distance < len(id) and i + distance >= 0:\n",
        "            w1 = id[i]\n",
        "            w2 = id[i + distance]\n",
        "            if w1 != w2 :\n",
        "              id_pair_counts[(w1, w2)] += 1\n",
        "        \n",
        "for (w1, w2), c in id_pair_counts.most_common(20):\n",
        "    print(\"%s\\t%s\\t%d\" %(w1,w2,c))\n"
      ],
      "id": "rPREhbANPJ3y",
      "execution_count": 164,
      "outputs": [
        {
          "output_type": "stream",
          "name": "stdout",
          "text": [
            "s72005ming\tsl11pman\t450\n",
            "loham\tsl11pman\t450\n",
            "sl11pman\ts72005ming\t450\n",
            "sl11pman\tloham\t450\n",
            "cwh0105\tsl11pman\t360\n",
            "sl11pman\tcwh0105\t360\n",
            "iampig951753\tRunna\t308\n",
            "Runna\tiampig951753\t308\n",
            "frank355571\tsl11pman\t270\n",
            "sl11pman\tfrank355571\t270\n",
            "NICEGOGO\tsl11pman\t180\n",
            "sl11pman\tNICEGOGO\t180\n",
            "sl11pman\tdawson0130\t180\n",
            "sl11pman\tuserlance\t180\n",
            "sl11pman\tcarryton\t180\n",
            "sl11pman\tCheshireS\t180\n",
            "sl11pman\tvic4580849\t180\n",
            "sl11pman\tjusteit\t180\n",
            "dawson0130\tsl11pman\t180\n",
            "userlance\tsl11pman\t180\n"
          ]
        }
      ]
    },
    {
      "cell_type": "markdown",
      "metadata": {
        "id": "030fc109"
      },
      "source": [
        "## 2. Using MI\n",
        "MI的計算方式主要是為了要標準化任一字的出現次數和任兩個字的出現次數的影響。請用MI的方式計算出哪兩個人特別常一起出現在同一則貼文的comments中。請用`most_common()`印出M前20大MI的Pairs（必須印出MI值作為參考）。"
      ],
      "id": "030fc109"
    },
    {
      "cell_type": "code",
      "metadata": {
        "id": "u5PzHpTNwkR_"
      },
      "source": [
        "import math\n",
        "def mutual_information(w1_w2_prob, w1_prob, w2_prob):\n",
        "    return math.log2(w1_w2_prob / (w1_prob * w2_prob))"
      ],
      "id": "u5PzHpTNwkR_",
      "execution_count": 165,
      "outputs": []
    },
    {
      "cell_type": "code",
      "metadata": {
        "id": "1103d8f7"
      },
      "source": [
        "pair_mutual_information_scores = Counter()\n",
        "for id in all_commentor:\n",
        "  if len(id) > 1:\n",
        "    id_pair = Counter()\n",
        "    for i in range(len(id)):\n",
        "      for distance in range(-len(id)+1, len(id)):\n",
        "        if i + distance < len(id) and i + distance >= 0:\n",
        "            w1 = id[i]\n",
        "            w2 = id[i + distance]\n",
        "            if w1 != w2:\n",
        "              id_pair[(w1, w2)] += 1\n",
        "              num_bigrams += 1\n",
        "    num_bigrams = sum(id_pair.values())\n",
        "    id_count = Counter(id)\n",
        "    for (w1, w2), c in id_pair.most_common():\n",
        "      if c>1:\n",
        "        p12 = c/num_bigrams\n",
        "        p1 = id_count[w1]/len(id)\n",
        "        p2 = id_count[w2]/len(id)\n",
        "        pair_mutual_information_scores[(w1, w2, c)] = mutual_information(p12, p1, p2)\n",
        "        #print(w1, w2, c, num_bigrams, pair_mutual_information_scores[(w1, w2, c)])"
      ],
      "id": "1103d8f7",
      "execution_count": 166,
      "outputs": []
    },
    {
      "cell_type": "code",
      "metadata": {
        "colab": {
          "base_uri": "https://localhost:8080/"
        },
        "id": "cUL4WYDB6P0F",
        "outputId": "0ee6aa60-aa66-433a-9303-e8f335527111"
      },
      "source": [
        "for (w1, w2, c), mi in pair_mutual_information_scores.most_common():\n",
        "  if c >= 180:\n",
        "    print(\"%s\\t%s\\t%d\\t%f\" %(w1,w2,c,mi))"
      ],
      "id": "cUL4WYDB6P0F",
      "execution_count": 167,
      "outputs": [
        {
          "output_type": "stream",
          "name": "stdout",
          "text": [
            "s72005ming\tsl11pman\t450\t0.560543\n",
            "loham\tsl11pman\t450\t0.560543\n",
            "sl11pman\ts72005ming\t450\t0.560543\n",
            "sl11pman\tloham\t450\t0.560543\n",
            "cwh0105\tsl11pman\t360\t0.560543\n",
            "sl11pman\tcwh0105\t360\t0.560543\n",
            "frank355571\tsl11pman\t270\t0.560543\n",
            "sl11pman\tfrank355571\t270\t0.560543\n",
            "NICEGOGO\tsl11pman\t180\t0.560543\n",
            "sl11pman\tNICEGOGO\t180\t0.560543\n",
            "sl11pman\tdawson0130\t180\t0.560543\n",
            "sl11pman\tuserlance\t180\t0.560543\n",
            "sl11pman\tcarryton\t180\t0.560543\n",
            "sl11pman\tCheshireS\t180\t0.560543\n",
            "sl11pman\tvic4580849\t180\t0.560543\n",
            "sl11pman\tjusteit\t180\t0.560543\n",
            "dawson0130\tsl11pman\t180\t0.560543\n",
            "userlance\tsl11pman\t180\t0.560543\n",
            "carryton\tsl11pman\t180\t0.560543\n",
            "CheshireS\tsl11pman\t180\t0.560543\n",
            "vic4580849\tsl11pman\t180\t0.560543\n",
            "justeit\tsl11pman\t180\t0.560543\n",
            "iampig951753\tRunna\t308\t0.451549\n",
            "Runna\tiampig951753\t308\t0.451549\n"
          ]
        }
      ]
    },
    {
      "cell_type": "markdown",
      "metadata": {
        "id": "9747d287"
      },
      "source": [
        "## 3. Cooccurrence with distance\n",
        "就上述的資料集，我想定義的人與人的關係是「這兩個人老是一前一後出現」，所以我規劃僅計算前後5則以內的comments，也就是說，在同一貼文中，如果A是第一則comment，B是第六則comment，C是第七則，那我不列計A和C的關係，但列計A和B的關係。請用collocation with distance的觀念，計算任兩個comment間的平均距離，並用`most_comment()`列印出平均距離最短的前二十對commentors。"
      ],
      "id": "9747d287"
    },
    {
      "cell_type": "code",
      "metadata": {
        "id": "e25cc228"
      },
      "source": [
        "id_pair_counts = Counter()\n",
        "id_pair_distance_counts = Counter()\n",
        "\n",
        "for id in all_commentor:\n",
        "  if len(id) > 1:\n",
        "    for i in range(len(id)):\n",
        "      for distance in range(1, 5):\n",
        "        if i + distance < len(id) and i + distance >= 0:\n",
        "            w1 = id[i]\n",
        "            w2 = id[i + distance]\n",
        "            if w1 != w2 :\n",
        "              id_pair_counts[(w1, w2)] += 1\n",
        "              id_pair_distance_counts[(w1, w2, distance)] += 1"
      ],
      "id": "e25cc228",
      "execution_count": 168,
      "outputs": []
    },
    {
      "cell_type": "code",
      "metadata": {
        "colab": {
          "base_uri": "https://localhost:8080/"
        },
        "id": "-v5Kmi1b5sLa",
        "outputId": "8b073505-62fe-4901-98dc-5f40d09fd170"
      },
      "source": [
        "pair_mean_distances = Counter()\n",
        "\n",
        "for (w1, w2, d), c in id_pair_distance_counts.most_common():\n",
        "  if id_pair_counts[(w1, w2)] > 1:\n",
        "    pair_mean_distances[(w1, w2)] += d * (c / id_pair_counts[(w1, w2)])\n",
        "   \n",
        "     \n",
        "for (w1, w2), distance in pair_mean_distances.most_common()[-20:]:\n",
        "    print(\"%s-%s\\t%f\\t%d\" % (w1, w2, distance, id_pair_counts[(w1, w2)]))\n"
      ],
      "id": "-v5Kmi1b5sLa",
      "execution_count": 169,
      "outputs": [
        {
          "output_type": "stream",
          "name": "stdout",
          "text": [
            "chen0625-Qinsect\t1.500000\t2\n",
            "kenryu-bar1005\t1.500000\t2\n",
            "bar1005-jetalpha\t1.500000\t2\n",
            "typeklng-GARRETH\t1.500000\t2\n",
            "GARRETH-fenix220\t1.500000\t2\n",
            "KaiManSo-nikewang\t1.500000\t2\n",
            "gwenwoo-s359999\t1.500000\t2\n",
            "a410046-apatosaurus\t1.500000\t2\n",
            "apatosaurus-t934140225\t1.500000\t2\n",
            "username1-TsmcEE\t1.500000\t2\n",
            "bigwun73-yheb88\t1.500000\t2\n",
            "l88-sali921\t1.500000\t2\n",
            "ab4daa-cecille\t1.500000\t2\n",
            "kingstongyu-ntlutw\t1.500000\t2\n",
            "ntlutw-kid1a2b3c4d\t1.500000\t2\n",
            "kuan12065-lazarus1121\t1.500000\t2\n",
            "show282-kuosambition\t1.000000\t2\n",
            "Yonhao-jump693\t1.000000\t2\n",
            "sellgd-smalltwo\t1.000000\t2\n",
            "lazarus1121-tenka92417\t1.000000\t2\n"
          ]
        }
      ]
    },
    {
      "cell_type": "markdown",
      "metadata": {
        "id": "7a6c7ada"
      },
      "source": [
        "## 4. Drawing collocation network\n",
        "以下已經提供給你部分不同網絡的視覺化方法和參數調整方法。如果你要看懂每個函式有可能要查閱Networkx的Document，不過這是為了push你去查閱document來理解這些程式碼。\n",
        "\n",
        "列印出mi值或count值前500大、前1000大、前2000大（會有點吃力）的pairs of user，並觀察該圖型。基於co-commentor的網絡視覺化，你認為這群co-commenter有什麼特性？請多列印幾種版本，並將你的看法寫在以下的ANSWER後：\n",
        "### ANSWER:\n",
        "透過pyvis.network分別印出mi前500、前1000與前2000的圖片，圖片由數個大大小小的網絡組成，每個網絡可視為一群一群co-commenter，我認為每個網絡可大致代表單篇貼文的留言者。活躍度較高、關聯性特別高的幾個commenter會位於網絡的中心點，延伸其他節點與邊線，所以我們從網絡密集程度來觀察，會發現越接近網絡中心的帳號留言數越多，co-commenter的pair出現次數也更高。\n",
        "\n",
        "前500只有一個特別密集的網絡與7個較小的網絡，而且彼此無連結，在最密集網絡的中心區域有：frank355571, loham, s72005ming, sl11pman。前1000也是有一個特別密集的區域，中心區除了上述帳號還多了：cwh0105, dawson0130, userlance等等，都是前面pair出現次數前幾名的帳號。若印出前2000大的的mi值可發現某些大小網絡之間存在連結，代表有一些帳號同時出現在不同篇貼文，而且留言活躍高，但過於密集會降低圖片的可讀性，所以最密集的那群反而難以解讀與尋找關聯，但對於其他較小或叫疏鬆的網絡就可幫助我們找到更多關聯。"
      ],
      "id": "7a6c7ada"
    },
    {
      "cell_type": "code",
      "metadata": {
        "id": "e1c72fe1",
        "colab": {
          "base_uri": "https://localhost:8080/",
          "height": 248
        },
        "outputId": "c65bf962-1e78-4f68-d206-5d8c79489278"
      },
      "source": [
        "import pandas as pd\n",
        "import matplotlib.pyplot as plt\n",
        "import networkx as nx\n",
        "li = [(w1, w2, id_pair_counts[(w1, w2)], mi) for (w1, w2, c), mi in pair_mutual_information_scores.most_common()]\n",
        "df = pd.DataFrame.from_records(li, columns =['w1', 'w2', 'count', 'mi'])\n",
        "\n",
        "G = nx.from_pandas_edgelist(df[:1000],\n",
        "                            source = 'w1',\n",
        "                            target = 'w2')\n",
        "widths = nx.get_edge_attributes(G, 'mi')\n",
        "nodelist = G.nodes()\n",
        "\n",
        "# nx.draw_kamada_kawai(G,\n",
        "#                     node_size = 5,\n",
        "#                     edge_color = \"#8833FF\",\n",
        "#                     with_labels = True)\n",
        "pos = nx.spring_layout(G)\n",
        "# nx.draw_spring(G,\n",
        "#                node_size = 5,\n",
        "#                edge_color = \"#8833FF\",\n",
        "#                font_size = 16,\n",
        "#                with_labels = True)\n",
        "nx.draw_networkx_nodes(G,pos,\n",
        "                       nodelist=nodelist,\n",
        "                       node_size=15,\n",
        "                       node_color='black',\n",
        "                       alpha=0.7)\n",
        "nx.draw_networkx_edges(G,pos,\n",
        "                       edgelist = widths.keys(),\n",
        "                       width=list([w/2 for w in widths.values()]),\n",
        "                       edge_color='black',\n",
        "                       alpha=0.2)\n",
        "nx.draw_networkx_labels(G, pos=pos,\n",
        "                        labels=dict(zip(nodelist,nodelist)),\n",
        "                        font_color='blue')\n",
        "plt.box(False)\n",
        "plt.show()"
      ],
      "id": "e1c72fe1",
      "execution_count": 170,
      "outputs": [
        {
          "output_type": "display_data",
          "data": {
            "image/png": "[encoded data removed]",
            "text/plain": [
              "<Figure size 432x288 with 1 Axes>"
            ]
          },
          "metadata": {}
        }
      ]
    },
    {
      "cell_type": "markdown",
      "metadata": {
        "id": "233b864a"
      },
      "source": [
        "## 也可使用pyvis.network畫畫看"
      ],
      "id": "233b864a"
    },
    {
      "cell_type": "code",
      "metadata": {
        "colab": {
          "base_uri": "https://localhost:8080/"
        },
        "id": "aY3YrP2HPHGN",
        "outputId": "3a4d8243-b06c-4dab-a6ac-1d71e947d236"
      },
      "source": [
        "pip install pyvis"
      ],
      "id": "aY3YrP2HPHGN",
      "execution_count": 146,
      "outputs": [
        {
          "output_type": "stream",
          "name": "stdout",
          "text": [
            "Collecting pyvis\n",
            "  Downloading pyvis-0.1.9-py3-none-any.whl (23 kB)\n",
            "Requirement already satisfied: ipython>=5.3.0 in /usr/local/lib/python3.7/dist-packages (from pyvis) (5.5.0)\n",
            "Requirement already satisfied: jinja2>=2.9.6 in /usr/local/lib/python3.7/dist-packages (from pyvis) (2.11.3)\n",
            "Collecting jsonpickle>=1.4.1\n",
            "  Downloading jsonpickle-2.0.0-py2.py3-none-any.whl (37 kB)\n",
            "Requirement already satisfied: networkx>=1.11 in /usr/local/lib/python3.7/dist-packages (from pyvis) (2.6.3)\n",
            "Requirement already satisfied: simplegeneric>0.8 in /usr/local/lib/python3.7/dist-packages (from ipython>=5.3.0->pyvis) (0.8.1)\n",
            "Requirement already satisfied: pygments in /usr/local/lib/python3.7/dist-packages (from ipython>=5.3.0->pyvis) (2.6.1)\n",
            "Requirement already satisfied: decorator in /usr/local/lib/python3.7/dist-packages (from ipython>=5.3.0->pyvis) (4.4.2)\n",
            "Requirement already satisfied: pickleshare in /usr/local/lib/python3.7/dist-packages (from ipython>=5.3.0->pyvis) (0.7.5)\n",
            "Requirement already satisfied: traitlets>=4.2 in /usr/local/lib/python3.7/dist-packages (from ipython>=5.3.0->pyvis) (5.1.1)\n",
            "Requirement already satisfied: pexpect in /usr/local/lib/python3.7/dist-packages (from ipython>=5.3.0->pyvis) (4.8.0)\n",
            "Requirement already satisfied: setuptools>=18.5 in /usr/local/lib/python3.7/dist-packages (from ipython>=5.3.0->pyvis) (57.4.0)\n",
            "Requirement already satisfied: prompt-toolkit<2.0.0,>=1.0.4 in /usr/local/lib/python3.7/dist-packages (from ipython>=5.3.0->pyvis) (1.0.18)\n",
            "Requirement already satisfied: MarkupSafe>=0.23 in /usr/local/lib/python3.7/dist-packages (from jinja2>=2.9.6->pyvis) (2.0.1)\n",
            "Requirement already satisfied: importlib-metadata in /usr/local/lib/python3.7/dist-packages (from jsonpickle>=1.4.1->pyvis) (4.8.2)\n",
            "Requirement already satisfied: wcwidth in /usr/local/lib/python3.7/dist-packages (from prompt-toolkit<2.0.0,>=1.0.4->ipython>=5.3.0->pyvis) (0.2.5)\n",
            "Requirement already satisfied: six>=1.9.0 in /usr/local/lib/python3.7/dist-packages (from prompt-toolkit<2.0.0,>=1.0.4->ipython>=5.3.0->pyvis) (1.15.0)\n",
            "Requirement already satisfied: typing-extensions>=3.6.4 in /usr/local/lib/python3.7/dist-packages (from importlib-metadata->jsonpickle>=1.4.1->pyvis) (3.10.0.2)\n",
            "Requirement already satisfied: zipp>=0.5 in /usr/local/lib/python3.7/dist-packages (from importlib-metadata->jsonpickle>=1.4.1->pyvis) (3.6.0)\n",
            "Requirement already satisfied: ptyprocess>=0.5 in /usr/local/lib/python3.7/dist-packages (from pexpect->ipython>=5.3.0->pyvis) (0.7.0)\n",
            "Installing collected packages: jsonpickle, pyvis\n",
            "Successfully installed jsonpickle-2.0.0 pyvis-0.1.9\n"
          ]
        }
      ]
    },
    {
      "cell_type": "code",
      "metadata": {
        "id": "44ad4f90",
        "colab": {
          "base_uri": "https://localhost:8080/",
          "height": 1000
        },
        "outputId": "d4544793-0073-496a-b009-6862aa732ba4"
      },
      "source": [
        "from pyvis.network import Network\n",
        "net = Network('1024px', '2048px', notebook=True)\n",
        "net.from_nx(G)\n",
        "net.show(\"test.html\")"
      ],
      "id": "44ad4f90",
      "execution_count": 161,
      "outputs": [
        {
          "output_type": "execute_result",
          "data": {
            "text/html": [
              "\n",
              "        <iframe\n",
              "            width=\"2048px\"\n",
              "            height=\"1024px\"\n",
              "            src=\"test.html\"\n",
              "            frameborder=\"0\"\n",
              "            allowfullscreen\n",
              "        ></iframe>\n",
              "        "
            ],
            "text/plain": [
              "<IPython.lib.display.IFrame at 0x7f1ac809c510>"
            ]
          },
          "metadata": {},
          "execution_count": 161
        }
      ]
    },
    {
      "cell_type": "markdown",
      "metadata": {
        "id": "917ebc2d"
      },
      "source": [
        "## 4. Thinking\n",
        "這樣的做法是否有助於察覺特定網軍的協同合作？\n",
        "\n",
        "是，我們可透過co-commenter網絡視覺化觀察帳號間的關聯性，若某帳號位於網絡的核心，或是與多個群集有連結關係，該帳號就有可能是網軍，表示它在相關主題的多篇貼文都會留言，若有前後出現的關係，也可隨著圖像顯示抓出其他合作的帳號。除了mi值也能使用chi-square或count-based的方式印出網絡圖，找出commenter彼此的關聯。"
      ],
      "id": "917ebc2d"
    }
  ]
}